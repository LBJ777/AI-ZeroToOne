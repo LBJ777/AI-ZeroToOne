{
 "cells": [
  {
   "cell_type": "markdown",
   "id": "8519102d",
   "metadata": {},
   "source": [
    "# House Price Data Analysis\n",
    "- import two important libraries: numpy and pandas"
   ]
  },
  {
   "cell_type": "code",
   "execution_count": null,
   "id": "87874e10",
   "metadata": {},
   "outputs": [],
   "source": [
    "import numpy as np\n",
    "import pandas as pd"
   ]
  },
  {
   "cell_type": "markdown",
   "id": "8b5d2740",
   "metadata": {},
   "source": [
    "## Load Data & Show Data"
   ]
  },
  {
   "cell_type": "code",
   "execution_count": null,
   "id": "6a695c0e",
   "metadata": {},
   "outputs": [],
   "source": [
    "data = pd.read_csv('California_Houses.csv')\n",
    "data.head()"
   ]
  },
  {
   "cell_type": "markdown",
   "id": "20057aff",
   "metadata": {},
   "source": [
    "## Data Analysis\n",
    "- show the description of the data"
   ]
  },
  {
   "cell_type": "code",
   "execution_count": null,
   "id": "bd1a90c4",
   "metadata": {},
   "outputs": [],
   "source": [
    "data.describe()"
   ]
  }
 ],
 "metadata": {
  "language_info": {
   "name": "python"
  }
 },
 "nbformat": 4,
 "nbformat_minor": 5
}
