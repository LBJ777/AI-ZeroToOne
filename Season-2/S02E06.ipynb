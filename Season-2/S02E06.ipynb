{
 "cells": [
  {
   "cell_type": "markdown",
   "metadata": {},
   "source": [
    "# Coding: Language Model based on LSTM\n",
    "\n",
    " - Dataset: WikiText-2\n",
    " - Model: LSTM/GRU\n",
    " - Optimizer: Adam\n",
    " - Learning Rate: 0.001\n",
    " - Batch Size: 64\n",
    " - Epochs: 10\n",
    " - Dropout: 0.2"
   ]
  },
  {
   "cell_type": "code",
   "execution_count": 3,
   "metadata": {},
   "outputs": [
    {
     "name": "stdout",
     "output_type": "stream",
     "text": [
      "Using device: cuda\n",
      "Loading WikiText-2 dataset from Hugging Face...\n"
     ]
    },
    {
     "data": {
      "application/vnd.jupyter.widget-view+json": {
       "model_id": "bb5d49c6dd8a4fdc9f17c1b7c0e42bc5",
       "version_major": 2,
       "version_minor": 0
      },
      "text/plain": [
       "README.md:   0%|          | 0.00/10.5k [00:00<?, ?B/s]"
      ]
     },
     "metadata": {},
     "output_type": "display_data"
    },
    {
     "data": {
      "application/vnd.jupyter.widget-view+json": {
       "model_id": "3c6ecd9f054f49c48f24f211adcb959d",
       "version_major": 2,
       "version_minor": 0
      },
      "text/plain": [
       "test-00000-of-00001.parquet:   0%|          | 0.00/685k [00:00<?, ?B/s]"
      ]
     },
     "metadata": {},
     "output_type": "display_data"
    },
    {
     "data": {
      "application/vnd.jupyter.widget-view+json": {
       "model_id": "39449417b4334226b209142250ffb8c3",
       "version_major": 2,
       "version_minor": 0
      },
      "text/plain": [
       "train-00000-of-00001.parquet:   0%|          | 0.00/6.07M [00:00<?, ?B/s]"
      ]
     },
     "metadata": {},
     "output_type": "display_data"
    },
    {
     "data": {
      "application/vnd.jupyter.widget-view+json": {
       "model_id": "cd782fae62e44c5c80638c03c549cc5d",
       "version_major": 2,
       "version_minor": 0
      },
      "text/plain": [
       "validation-00000-of-00001.parquet:   0%|          | 0.00/618k [00:00<?, ?B/s]"
      ]
     },
     "metadata": {},
     "output_type": "display_data"
    },
    {
     "data": {
      "application/vnd.jupyter.widget-view+json": {
       "model_id": "6e2f19e80f8c44cd998e8c75823aba7f",
       "version_major": 2,
       "version_minor": 0
      },
      "text/plain": [
       "Generating test split:   0%|          | 0/4358 [00:00<?, ? examples/s]"
      ]
     },
     "metadata": {},
     "output_type": "display_data"
    },
    {
     "data": {
      "application/vnd.jupyter.widget-view+json": {
       "model_id": "8097553947324d9eab6678087edc4959",
       "version_major": 2,
       "version_minor": 0
      },
      "text/plain": [
       "Generating train split:   0%|          | 0/36718 [00:00<?, ? examples/s]"
      ]
     },
     "metadata": {},
     "output_type": "display_data"
    },
    {
     "data": {
      "application/vnd.jupyter.widget-view+json": {
       "model_id": "905993cd442f4eceaccf662f759c4c9e",
       "version_major": 2,
       "version_minor": 0
      },
      "text/plain": [
       "Generating validation split:   0%|          | 0/3760 [00:00<?, ? examples/s]"
      ]
     },
     "metadata": {},
     "output_type": "display_data"
    },
    {
     "name": "stdout",
     "output_type": "stream",
     "text": [
      "Train dataset size: 36718\n",
      "Validation dataset size: 3760\n",
      "Test dataset size: 4358\n",
      "\n",
      "Looking for non-empty samples...\n",
      "Found non-empty sample at index 1\n",
      "First sample:  = Valkyria Chronicles III = \n",
      "\n",
      "\n",
      "Building vocabulary...\n",
      "Non-empty lines: 23767\n",
      "Total tokens: 1750345\n",
      "Vocabulary size: 28710\n",
      "Final vocabulary size (with special tokens): 28712\n",
      "Most common words: [('the', 130768), ('of', 57030), ('unk', 54625), ('and', 50735), ('in', 45015), ('to', 39521), ('a', 36523), ('was', 21008), ('on', 15140), ('as', 15058)]\n",
      "\n",
      "Sample tokenization:\n",
      "Original:  = Valkyria Chronicles III = \n",
      "\n",
      "Tokens: ['valkyria', 'chronicles', 'iii']\n",
      "Indices: [3767, 3830, 860]\n",
      "\n",
      "Dataset loaded successfully!\n"
     ]
    }
   ],
   "source": [
    "# Load WikiText-2 Dataset using Hugging Face datasets\n",
    "\n",
    "import torch\n",
    "from datasets import load_dataset\n",
    "from torch.utils.data import DataLoader\n",
    "from collections import Counter\n",
    "import re\n",
    "\n",
    "# Set device\n",
    "device = torch.device('cuda' if torch.cuda.is_available() else 'cpu')\n",
    "print(f'Using device: {device}')\n",
    "\n",
    "# Load WikiText-2 dataset from Hugging Face\n",
    "print(\"Loading WikiText-2 dataset from Hugging Face...\")\n",
    "dataset = load_dataset(\"wikitext\", \"wikitext-2-v1\")\n",
    "\n",
    "# Access the splits\n",
    "train_dataset = dataset['train']\n",
    "val_dataset = dataset['validation']\n",
    "test_dataset = dataset['test']\n",
    "\n",
    "print(f\"Train dataset size: {len(train_dataset)}\")\n",
    "print(f\"Validation dataset size: {len(val_dataset)}\")\n",
    "print(f\"Test dataset size: {len(test_dataset)}\")\n",
    "\n",
    "# Show a sample\n",
    "# Find a non-empty sample\n",
    "print(f\"\\nLooking for non-empty samples...\")\n",
    "sample_text = None\n",
    "for i, example in enumerate(train_dataset):\n",
    "    if example['text'].strip():  # Find first non-empty line\n",
    "        sample_text = example['text']\n",
    "        print(f\"Found non-empty sample at index {i}\")\n",
    "        break\n",
    "print(f\"First sample: {sample_text[:200]}\")\n",
    "\n",
    "# Basic tokenization function\n",
    "def basic_tokenize(text):\n",
    "    # Convert to lowercase and split on whitespace and punctuation\n",
    "    text = text.lower()\n",
    "    tokens = re.findall(r'\\b\\w+\\b', text)\n",
    "    return tokens\n",
    "\n",
    "# Build vocabulary from training data\n",
    "print(\"\\nBuilding vocabulary...\")\n",
    "all_tokens = []\n",
    "non_empty_lines = 0\n",
    "for example in train_dataset:\n",
    "    if example['text'].strip():  # Skip empty lines\n",
    "        tokens = basic_tokenize(example['text'])\n",
    "        all_tokens.extend(tokens)\n",
    "        non_empty_lines += 1\n",
    "\n",
    "# Create vocabulary\n",
    "vocab_counter = Counter(all_tokens)\n",
    "vocab_size = len(vocab_counter)\n",
    "print(f\"Non-empty lines: {non_empty_lines}\")\n",
    "print(f\"Total tokens: {len(all_tokens)}\")\n",
    "print(f\"Vocabulary size: {vocab_size}\")\n",
    "\n",
    "# Create word to index mapping\n",
    "vocab = {'<unk>': 0, '<pad>': 1}\n",
    "for word, count in vocab_counter.most_common():\n",
    "    if word not in vocab:\n",
    "        vocab[word] = len(vocab)\n",
    "\n",
    "# Create index to word mapping\n",
    "idx_to_word = {idx: word for word, idx in vocab.items()}\n",
    "\n",
    "print(f\"Final vocabulary size (with special tokens): {len(vocab)}\")\n",
    "print(f\"Most common words: {list(vocab_counter.most_common(10))}\")\n",
    "\n",
    "# Function to convert text to indices\n",
    "def text_to_indices(text, vocab):\n",
    "    tokens = basic_tokenize(text)\n",
    "    return [vocab.get(token, vocab['<unk>']) for token in tokens]\n",
    "\n",
    "# Convert a sample to see the tokenization\n",
    "sample_indices = text_to_indices(sample_text, vocab)\n",
    "print(f\"\\nSample tokenization:\")\n",
    "print(f\"Original: {sample_text[:100]}\")\n",
    "print(f\"Tokens: {basic_tokenize(sample_text)[:20]}\")\n",
    "print(f\"Indices: {sample_indices[:20]}\")\n",
    "\n",
    "print(\"\\nDataset loaded successfully!\")"
   ]
  },
  {
   "cell_type": "code",
   "execution_count": 4,
   "metadata": {},
   "outputs": [
    {
     "name": "stdout",
     "output_type": "stream",
     "text": [
      "Creating training dataset...\n",
      "Processing dataset with sequence length: 50\n",
      "Total tokens in dataset: 1750345\n",
      "Created 1750295 sequences\n",
      "\n",
      "Creating validation dataset...\n",
      "Processing dataset with sequence length: 50\n",
      "Total tokens in dataset: 183606\n",
      "Created 183556 sequences\n",
      "\n",
      "Creating test dataset...\n",
      "Processing dataset with sequence length: 50\n",
      "Total tokens in dataset: 206381\n",
      "Created 206331 sequences\n",
      "\n",
      "DataLoader Summary:\n",
      "Training batches: 27349\n",
      "Validation batches: 2869\n",
      "Test batches: 3224\n",
      "Batch size: 64\n",
      "Sequence length: 50\n",
      "\n",
      "Testing DataLoader...\n",
      "Batch 1:\n",
      "  Sequences shape: torch.Size([64, 50])\n",
      "  Targets shape: torch.Size([64])\n",
      "  Sample sequence: [22763, 5, 1997, 14, 307, 6, 1325, 3, 13, 78]\n",
      "  Sample target: 1010\n",
      "  Sample words: ['hantzopoulos', 'and', 'scheduled', 'for', 'release', 'in', 'fall', 'of', 'that', 'year', 'that', 'may', 'the', 'game', 'was', 'shown', 'at', 'the', 'electronic', 'arts', 'booth', 'at', 'e3', 'computer', 'games', 'magazine', 's', 'steve', 'udell', 'wrote', 'that', 'the', 'game', 'would', 'feature', 'a', 'new', 'iteration', 'of', 'the', 'flight', 'unlimited', 'terrain', 'renderer', 'and', 'ign', 'reported', 'that', 'one', 'million']\n",
      "  Target word: square\n",
      "\n",
      "DataLoader created successfully!\n"
     ]
    }
   ],
   "source": [
    "# Data Preprocess & Init DataLoader\n",
    "\n",
    "import torch\n",
    "from torch.utils.data import Dataset, DataLoader\n",
    "import torch.nn.functional as F\n",
    "\n",
    "class WikiTextDataset(Dataset):\n",
    "    def __init__(self, hf_dataset, vocab, sequence_length=50):\n",
    "        \"\"\"\n",
    "        Custom Dataset for WikiText-2\n",
    "        \n",
    "        Args:\n",
    "            hf_dataset: Hugging Face dataset split\n",
    "            vocab: vocabulary dictionary\n",
    "            sequence_length: length of input sequences\n",
    "        \"\"\"\n",
    "        self.vocab = vocab\n",
    "        self.sequence_length = sequence_length\n",
    "        \n",
    "        # Process all text and create sequences\n",
    "        self.sequences = []\n",
    "        self.targets = []\n",
    "        \n",
    "        print(f\"Processing dataset with sequence length: {sequence_length}\")\n",
    "        \n",
    "        # Concatenate all non-empty text and tokenize\n",
    "        all_indices = []\n",
    "        for example in hf_dataset:\n",
    "            if example['text'].strip():  # Skip empty lines\n",
    "                indices = text_to_indices(example['text'], vocab)\n",
    "                all_indices.extend(indices)\n",
    "        \n",
    "        print(f\"Total tokens in dataset: {len(all_indices)}\")\n",
    "        \n",
    "        # Create sequences of specified length\n",
    "        for i in range(len(all_indices) - sequence_length):\n",
    "            # Input sequence\n",
    "            seq = all_indices[i:i + sequence_length]\n",
    "            # Target is the next token\n",
    "            target = all_indices[i + sequence_length]\n",
    "            \n",
    "            self.sequences.append(seq)\n",
    "            self.targets.append(target)\n",
    "        \n",
    "        print(f\"Created {len(self.sequences)} sequences\")\n",
    "    \n",
    "    def __len__(self):\n",
    "        return len(self.sequences)\n",
    "    \n",
    "    def __getitem__(self, idx):\n",
    "        return (\n",
    "            torch.tensor(self.sequences[idx], dtype=torch.long),\n",
    "            torch.tensor(self.targets[idx], dtype=torch.long)\n",
    "        )\n",
    "\n",
    "# Create datasets\n",
    "sequence_length = 50\n",
    "batch_size = 64\n",
    "\n",
    "print(\"Creating training dataset...\")\n",
    "train_wiki_dataset = WikiTextDataset(train_dataset, vocab, sequence_length)\n",
    "\n",
    "print(\"\\nCreating validation dataset...\")\n",
    "val_wiki_dataset = WikiTextDataset(val_dataset, vocab, sequence_length)\n",
    "\n",
    "print(\"\\nCreating test dataset...\")\n",
    "test_wiki_dataset = WikiTextDataset(test_dataset, vocab, sequence_length)\n",
    "\n",
    "# Create DataLoaders\n",
    "train_loader = DataLoader(\n",
    "    train_wiki_dataset, \n",
    "    batch_size=batch_size, \n",
    "    shuffle=True, \n",
    "    num_workers=0  # Set to 0 for compatibility\n",
    ")\n",
    "\n",
    "val_loader = DataLoader(\n",
    "    val_wiki_dataset, \n",
    "    batch_size=batch_size, \n",
    "    shuffle=False, \n",
    "    num_workers=0\n",
    ")\n",
    "\n",
    "test_loader = DataLoader(\n",
    "    test_wiki_dataset, \n",
    "    batch_size=batch_size, \n",
    "    shuffle=False, \n",
    "    num_workers=0\n",
    ")\n",
    "\n",
    "print(f\"\\nDataLoader Summary:\")\n",
    "print(f\"Training batches: {len(train_loader)}\")\n",
    "print(f\"Validation batches: {len(val_loader)}\")\n",
    "print(f\"Test batches: {len(test_loader)}\")\n",
    "print(f\"Batch size: {batch_size}\")\n",
    "print(f\"Sequence length: {sequence_length}\")\n",
    "\n",
    "# Test the DataLoader\n",
    "print(\"\\nTesting DataLoader...\")\n",
    "for batch_idx, (sequences, targets) in enumerate(train_loader):\n",
    "    print(f\"Batch {batch_idx + 1}:\")\n",
    "    print(f\"  Sequences shape: {sequences.shape}\")\n",
    "    print(f\"  Targets shape: {targets.shape}\")\n",
    "    print(f\"  Sample sequence: {sequences[0][:10].tolist()}\")\n",
    "    print(f\"  Sample target: {targets[0].item()}\")\n",
    "    \n",
    "    # Convert back to words for verification\n",
    "    sample_words = [idx_to_word[idx.item()] for idx in sequences[0]]\n",
    "    target_word = idx_to_word[targets[0].item()]\n",
    "    print(f\"  Sample words: {sample_words}\")\n",
    "    print(f\"  Target word: {target_word}\")\n",
    "    break  # Only show first batch\n",
    "\n",
    "print(\"\\nDataLoader created successfully!\")"
   ]
  },
  {
   "cell_type": "code",
   "execution_count": 5,
   "metadata": {},
   "outputs": [
    {
     "name": "stdout",
     "output_type": "stream",
     "text": [
      "\n",
      "GRU Language Model Summary:\n",
      "Vocabulary size: 28,712\n",
      "Embedding dimension: 64\n",
      "Hidden dimension: 128\n",
      "Number of layers: 1\n",
      "Dropout: 0.0\n",
      "Total parameters: 5,615,912\n",
      "Trainable parameters: 5,615,912\n",
      "Model device: cuda:0\n",
      "\n",
      "Testing model with sample batch...\n",
      "Input shape: torch.Size([64, 50])\n",
      "Output logits shape: torch.Size([64, 50, 28712])\n",
      "Hidden state shape: torch.Size([1, 64, 128])\n",
      "Target shape: torch.Size([64])\n",
      "Sample loss: 10.2648\n",
      "Sample accuracy: 0.0000\n",
      "\n",
      "Model initialized successfully!\n"
     ]
    }
   ],
   "source": [
    "# GRU Language Model Implementation\n",
    "\n",
    "import torch\n",
    "import torch.nn as nn\n",
    "import torch.optim as optim\n",
    "import torch.nn.functional as F\n",
    "import math\n",
    "\n",
    "class GRULanguageModel(nn.Module):\n",
    "    def __init__(self, vocab_size, embedding_dim=256, hidden_dim=512, num_layers=2, dropout=0.2):\n",
    "        \"\"\"\n",
    "        GRU-based Language Model for next word prediction\n",
    "        \n",
    "        Args:\n",
    "            vocab_size: Size of vocabulary\n",
    "            embedding_dim: Dimension of word embeddings\n",
    "            hidden_dim: Hidden dimension of GRU\n",
    "            num_layers: Number of GRU layers\n",
    "            dropout: Dropout probability\n",
    "        \"\"\"\n",
    "        super(GRULanguageModel, self).__init__()\n",
    "        \n",
    "        self.vocab_size = vocab_size\n",
    "        self.embedding_dim = embedding_dim\n",
    "        self.hidden_dim = hidden_dim\n",
    "        self.num_layers = num_layers\n",
    "        self.dropout = dropout\n",
    "        \n",
    "        # Word embedding layer\n",
    "        self.embedding = nn.Embedding(vocab_size, embedding_dim)\n",
    "        \n",
    "        # GRU layer(s)\n",
    "        self.gru = nn.GRU(\n",
    "            input_size=embedding_dim,\n",
    "            hidden_size=hidden_dim,\n",
    "            num_layers=num_layers,\n",
    "            dropout=dropout if num_layers > 1 else 0,\n",
    "            batch_first=True\n",
    "        )\n",
    "        \n",
    "        # Dropout layer\n",
    "        self.dropout_layer = nn.Dropout(dropout)\n",
    "        \n",
    "        # Output projection layer\n",
    "        self.output_projection = nn.Linear(hidden_dim, vocab_size)\n",
    "        \n",
    "        # Initialize weights\n",
    "        self.init_weights()\n",
    "    \n",
    "    def init_weights(self):\n",
    "        \"\"\"Initialize model weights\"\"\"\n",
    "        # Initialize embedding weights\n",
    "        nn.init.uniform_(self.embedding.weight, -0.1, 0.1)\n",
    "        \n",
    "        # Initialize GRU weights\n",
    "        for name, param in self.gru.named_parameters():\n",
    "            if 'weight' in name:\n",
    "                nn.init.orthogonal_(param)\n",
    "            elif 'bias' in name:\n",
    "                nn.init.zeros_(param)\n",
    "        \n",
    "        # Initialize output layer\n",
    "        nn.init.xavier_uniform_(self.output_projection.weight)\n",
    "        nn.init.zeros_(self.output_projection.bias)\n",
    "    \n",
    "    def forward(self, input_ids, hidden=None):\n",
    "        \"\"\"\n",
    "        Forward pass\n",
    "        \n",
    "        Args:\n",
    "            input_ids: Input token indices [batch_size, seq_len]\n",
    "            hidden: Hidden state from previous step\n",
    "            \n",
    "        Returns:\n",
    "            logits: Output logits [batch_size, seq_len, vocab_size]\n",
    "            hidden: Final hidden state\n",
    "        \"\"\"\n",
    "        batch_size, seq_len = input_ids.size()\n",
    "        \n",
    "        # Word embeddings\n",
    "        embeddings = self.embedding(input_ids)  # [batch_size, seq_len, embedding_dim]\n",
    "        \n",
    "        # Apply dropout to embeddings\n",
    "        embeddings = self.dropout_layer(embeddings)\n",
    "        \n",
    "        # GRU forward pass, 2 layers by default\n",
    "        gru_output, hidden = self.gru(embeddings, hidden)  # [batch_size, seq_len, hidden_dim]\n",
    "        \n",
    "        # Apply dropout to GRU output\n",
    "        gru_output = self.dropout_layer(gru_output)\n",
    "        \n",
    "        # Project to vocabulary size\n",
    "        logits = self.output_projection(gru_output)  # [batch_size, seq_len, vocab_size]\n",
    "        \n",
    "        return logits, hidden\n",
    "    \n",
    "    def init_hidden(self, batch_size):\n",
    "        \"\"\"Initialize hidden state\"\"\"\n",
    "        return torch.zeros(self.num_layers, batch_size, self.hidden_dim).to(next(self.parameters()).device)\n",
    "\n",
    "# Model hyperparameters\n",
    "vocab_size = len(vocab)\n",
    "embedding_dim = 64\n",
    "hidden_dim = 128\n",
    "num_layers = 1\n",
    "dropout = 0.0\n",
    "learning_rate = 0.0001\n",
    "\n",
    "# Initialize model\n",
    "model = GRULanguageModel(\n",
    "    vocab_size=vocab_size,\n",
    "    embedding_dim=embedding_dim,\n",
    "    hidden_dim=hidden_dim,\n",
    "    num_layers=num_layers,\n",
    "    dropout=dropout\n",
    ")\n",
    "\n",
    "# Move model to device\n",
    "model = model.to(device)\n",
    "\n",
    "# Loss function and optimizer\n",
    "criterion = nn.CrossEntropyLoss(ignore_index=vocab['<pad>'])  # Ignore padding tokens\n",
    "optimizer = optim.Adam(model.parameters(), lr=learning_rate)\n",
    "\n",
    "# Print model information\n",
    "total_params = sum(p.numel() for p in model.parameters())\n",
    "trainable_params = sum(p.numel() for p in model.parameters() if p.requires_grad)\n",
    "\n",
    "print(f\"\\nGRU Language Model Summary:\")\n",
    "print(f\"Vocabulary size: {vocab_size:,}\")\n",
    "print(f\"Embedding dimension: {embedding_dim}\")\n",
    "print(f\"Hidden dimension: {hidden_dim}\")\n",
    "print(f\"Number of layers: {num_layers}\")\n",
    "print(f\"Dropout: {dropout}\")\n",
    "print(f\"Total parameters: {total_params:,}\")\n",
    "print(f\"Trainable parameters: {trainable_params:,}\")\n",
    "print(f\"Model device: {next(model.parameters()).device}\")\n",
    "\n",
    "# Test the model with a sample batch\n",
    "print(f\"\\nTesting model with sample batch...\")\n",
    "model.eval()\n",
    "with torch.no_grad():\n",
    "    # Get a sample batch\n",
    "    sample_sequences, sample_targets = next(iter(train_loader))\n",
    "    sample_sequences = sample_sequences.to(device)\n",
    "    sample_targets = sample_targets.to(device)\n",
    "    \n",
    "    # Forward pass\n",
    "    logits, hidden = model(sample_sequences)\n",
    "    \n",
    "    print(f\"Input shape: {sample_sequences.shape}\")\n",
    "    print(f\"Output logits shape: {logits.shape}\")\n",
    "    print(f\"Hidden state shape: {hidden.shape}\")\n",
    "    print(f\"Target shape: {sample_targets.shape}\")\n",
    "    \n",
    "    # Calculate loss for the last token prediction\n",
    "    last_token_logits = logits[:, -1, :]  # [batch_size, vocab_size]\n",
    "    loss = criterion(last_token_logits, sample_targets)\n",
    "    print(f\"Sample loss: {loss.item():.4f}\")\n",
    "    \n",
    "    # Get predictions\n",
    "    predictions = torch.argmax(last_token_logits, dim=-1)\n",
    "    accuracy = (predictions == sample_targets).float().mean()\n",
    "    print(f\"Sample accuracy: {accuracy.item():.4f}\")\n",
    "\n",
    "print(f\"\\nModel initialized successfully!\")"
   ]
  },
  {
   "cell_type": "code",
   "execution_count": 7,
   "metadata": {},
   "outputs": [
    {
     "name": "stdout",
     "output_type": "stream",
     "text": [
      "🚀 Starting GRU Language Model Training...\n",
      "Model has 5,615,912 parameters\n",
      "Starting training for 10 epochs...\n",
      "Training batches: 27349\n",
      "Validation batches: 2869\n",
      "------------------------------------------------------------\n"
     ]
    },
    {
     "name": "stderr",
     "output_type": "stream",
     "text": [
      "Epoch 1 Training:   4%|▎         | 1011/27349 [00:12<04:45, 92.30it/s, Loss=7.8671, Acc=0.0745]"
     ]
    },
    {
     "name": "stdout",
     "output_type": "stream",
     "text": [
      "\n",
      "Batch 1000/27349:\n",
      "  Loss: 7.8725\n",
      "  Accuracy: 0.0747\n"
     ]
    },
    {
     "name": "stderr",
     "output_type": "stream",
     "text": [
      "Epoch 1 Training:   7%|▋         | 2016/27349 [00:24<04:15, 99.09it/s, Loss=7.6490, Acc=0.0738]"
     ]
    },
    {
     "name": "stdout",
     "output_type": "stream",
     "text": [
      "\n",
      "Batch 2000/27349:\n",
      "  Loss: 7.6525\n",
      "  Accuracy: 0.0738\n"
     ]
    },
    {
     "name": "stderr",
     "output_type": "stream",
     "text": [
      "Epoch 1 Training:  11%|█         | 3013/27349 [00:34<04:23, 92.42it/s, Loss=7.5624, Acc=0.0756] "
     ]
    },
    {
     "name": "stdout",
     "output_type": "stream",
     "text": [
      "\n",
      "Batch 3000/27349:\n",
      "  Loss: 7.5630\n",
      "  Accuracy: 0.0755\n"
     ]
    },
    {
     "name": "stderr",
     "output_type": "stream",
     "text": [
      "Epoch 1 Training:  15%|█▍        | 4015/27349 [00:45<04:09, 93.67it/s, Loss=7.5010, Acc=0.0781] "
     ]
    },
    {
     "name": "stdout",
     "output_type": "stream",
     "text": [
      "\n",
      "Batch 4000/27349:\n",
      "  Loss: 7.5026\n",
      "  Accuracy: 0.0779\n"
     ]
    },
    {
     "name": "stderr",
     "output_type": "stream",
     "text": [
      "Epoch 1 Training:  18%|█▊        | 5019/27349 [00:57<03:51, 96.54it/s, Loss=7.4530, Acc=0.0805]"
     ]
    },
    {
     "name": "stdout",
     "output_type": "stream",
     "text": [
      "\n",
      "Batch 5000/27349:\n",
      "  Loss: 7.4534\n",
      "  Accuracy: 0.0805\n"
     ]
    },
    {
     "name": "stderr",
     "output_type": "stream",
     "text": [
      "Epoch 1 Training:  22%|██▏       | 6014/27349 [01:08<03:30, 101.30it/s, Loss=7.4063, Acc=0.0827]"
     ]
    },
    {
     "name": "stdout",
     "output_type": "stream",
     "text": [
      "\n",
      "Batch 6000/27349:\n",
      "  Loss: 7.4072\n",
      "  Accuracy: 0.0827\n"
     ]
    },
    {
     "name": "stderr",
     "output_type": "stream",
     "text": [
      "Epoch 1 Training:  26%|██▌       | 7011/27349 [01:18<03:25, 98.88it/s, Loss=7.3697, Acc=0.0844] "
     ]
    },
    {
     "name": "stdout",
     "output_type": "stream",
     "text": [
      "\n",
      "Batch 7000/27349:\n",
      "  Loss: 7.3706\n",
      "  Accuracy: 0.0844\n"
     ]
    },
    {
     "name": "stderr",
     "output_type": "stream",
     "text": [
      "Epoch 1 Training:  29%|██▉       | 8010/27349 [01:30<04:00, 80.40it/s, Loss=7.3351, Acc=0.0860] "
     ]
    },
    {
     "name": "stdout",
     "output_type": "stream",
     "text": [
      "\n",
      "Batch 8000/27349:\n",
      "  Loss: 7.3357\n",
      "  Accuracy: 0.0860\n"
     ]
    },
    {
     "name": "stderr",
     "output_type": "stream",
     "text": [
      "Epoch 1 Training:  33%|███▎      | 9016/27349 [01:42<03:45, 81.21it/s, Loss=7.3041, Acc=0.0875]"
     ]
    },
    {
     "name": "stdout",
     "output_type": "stream",
     "text": [
      "\n",
      "Batch 9000/27349:\n",
      "  Loss: 7.3045\n",
      "  Accuracy: 0.0875\n"
     ]
    },
    {
     "name": "stderr",
     "output_type": "stream",
     "text": [
      "Epoch 1 Training:  37%|███▋      | 10015/27349 [01:54<03:34, 80.86it/s, Loss=7.2765, Acc=0.0888]"
     ]
    },
    {
     "name": "stdout",
     "output_type": "stream",
     "text": [
      "\n",
      "Batch 10000/27349:\n",
      "  Loss: 7.2769\n",
      "  Accuracy: 0.0888\n"
     ]
    },
    {
     "name": "stderr",
     "output_type": "stream",
     "text": [
      "Epoch 1 Training:  40%|████      | 11015/27349 [02:07<03:24, 79.93it/s, Loss=7.2521, Acc=0.0900]"
     ]
    },
    {
     "name": "stdout",
     "output_type": "stream",
     "text": [
      "\n",
      "Batch 11000/27349:\n",
      "  Loss: 7.2528\n",
      "  Accuracy: 0.0900\n"
     ]
    },
    {
     "name": "stderr",
     "output_type": "stream",
     "text": [
      "Epoch 1 Training:  44%|████▍     | 12015/27349 [02:19<03:05, 82.54it/s, Loss=7.2310, Acc=0.0910]"
     ]
    },
    {
     "name": "stdout",
     "output_type": "stream",
     "text": [
      "\n",
      "Batch 12000/27349:\n",
      "  Loss: 7.2312\n",
      "  Accuracy: 0.0910\n"
     ]
    },
    {
     "name": "stderr",
     "output_type": "stream",
     "text": [
      "Epoch 1 Training:  48%|████▊     | 13015/27349 [02:31<02:54, 82.32it/s, Loss=7.2125, Acc=0.0918]"
     ]
    },
    {
     "name": "stdout",
     "output_type": "stream",
     "text": [
      "\n",
      "Batch 13000/27349:\n",
      "  Loss: 7.2130\n",
      "  Accuracy: 0.0918\n"
     ]
    },
    {
     "name": "stderr",
     "output_type": "stream",
     "text": [
      "Epoch 1 Training:  51%|█████     | 14011/27349 [02:43<02:42, 82.31it/s, Loss=7.1959, Acc=0.0926] "
     ]
    },
    {
     "name": "stdout",
     "output_type": "stream",
     "text": [
      "\n",
      "Batch 14000/27349:\n",
      "  Loss: 7.1960\n",
      "  Accuracy: 0.0926\n"
     ]
    },
    {
     "name": "stderr",
     "output_type": "stream",
     "text": [
      "Epoch 1 Training:  55%|█████▍    | 15009/27349 [02:55<02:32, 81.16it/s, Loss=7.1806, Acc=0.0934]"
     ]
    },
    {
     "name": "stdout",
     "output_type": "stream",
     "text": [
      "\n",
      "Batch 15000/27349:\n",
      "  Loss: 7.1807\n",
      "  Accuracy: 0.0934\n"
     ]
    },
    {
     "name": "stderr",
     "output_type": "stream",
     "text": [
      "Epoch 1 Training:  59%|█████▊    | 16015/27349 [03:07<02:15, 83.86it/s, Loss=7.1664, Acc=0.0941]"
     ]
    },
    {
     "name": "stdout",
     "output_type": "stream",
     "text": [
      "\n",
      "Batch 16000/27349:\n",
      "  Loss: 7.1668\n",
      "  Accuracy: 0.0941\n"
     ]
    },
    {
     "name": "stderr",
     "output_type": "stream",
     "text": [
      "Epoch 1 Training:  62%|██████▏   | 17013/27349 [03:18<01:55, 89.25it/s, Loss=7.1530, Acc=0.0947]"
     ]
    },
    {
     "name": "stdout",
     "output_type": "stream",
     "text": [
      "\n",
      "Batch 17000/27349:\n",
      "  Loss: 7.1533\n",
      "  Accuracy: 0.0947\n"
     ]
    },
    {
     "name": "stderr",
     "output_type": "stream",
     "text": [
      "Epoch 1 Training:  66%|██████▌   | 18013/27349 [03:30<01:50, 84.39it/s, Loss=7.1393, Acc=0.0954] "
     ]
    },
    {
     "name": "stdout",
     "output_type": "stream",
     "text": [
      "\n",
      "Batch 18000/27349:\n",
      "  Loss: 7.1395\n",
      "  Accuracy: 0.0954\n"
     ]
    },
    {
     "name": "stderr",
     "output_type": "stream",
     "text": [
      "Epoch 1 Training:  70%|██████▉   | 19010/27349 [03:42<01:43, 80.95it/s, Loss=7.1261, Acc=0.0962]"
     ]
    },
    {
     "name": "stdout",
     "output_type": "stream",
     "text": [
      "\n",
      "Batch 19000/27349:\n",
      "  Loss: 7.1262\n",
      "  Accuracy: 0.0962\n"
     ]
    },
    {
     "name": "stderr",
     "output_type": "stream",
     "text": [
      "Epoch 1 Training:  73%|███████▎  | 20012/27349 [03:54<01:29, 81.55it/s, Loss=7.1138, Acc=0.0970]"
     ]
    },
    {
     "name": "stdout",
     "output_type": "stream",
     "text": [
      "\n",
      "Batch 20000/27349:\n",
      "  Loss: 7.1140\n",
      "  Accuracy: 0.0969\n"
     ]
    },
    {
     "name": "stderr",
     "output_type": "stream",
     "text": [
      "Epoch 1 Training:  77%|███████▋  | 21012/27349 [04:06<01:15, 84.34it/s, Loss=7.1017, Acc=0.0977]"
     ]
    },
    {
     "name": "stdout",
     "output_type": "stream",
     "text": [
      "\n",
      "Batch 21000/27349:\n",
      "  Loss: 7.1018\n",
      "  Accuracy: 0.0977\n"
     ]
    },
    {
     "name": "stderr",
     "output_type": "stream",
     "text": [
      "Epoch 1 Training:  81%|████████  | 22019/27349 [04:17<00:54, 97.63it/s, Loss=7.0900, Acc=0.0983] "
     ]
    },
    {
     "name": "stdout",
     "output_type": "stream",
     "text": [
      "\n",
      "Batch 22000/27349:\n",
      "  Loss: 7.0903\n",
      "  Accuracy: 0.0983\n"
     ]
    },
    {
     "name": "stderr",
     "output_type": "stream",
     "text": [
      "Epoch 1 Training:  84%|████████▍ | 23018/27349 [04:27<00:42, 101.80it/s, Loss=7.0799, Acc=0.0990]"
     ]
    },
    {
     "name": "stdout",
     "output_type": "stream",
     "text": [
      "\n",
      "Batch 23000/27349:\n",
      "  Loss: 7.0801\n",
      "  Accuracy: 0.0990\n"
     ]
    },
    {
     "name": "stderr",
     "output_type": "stream",
     "text": [
      "Epoch 1 Training:  88%|████████▊ | 24008/27349 [04:38<00:34, 96.57it/s, Loss=7.0695, Acc=0.0996] "
     ]
    },
    {
     "name": "stdout",
     "output_type": "stream",
     "text": [
      "\n",
      "Batch 24000/27349:\n",
      "  Loss: 7.0697\n",
      "  Accuracy: 0.0996\n"
     ]
    },
    {
     "name": "stderr",
     "output_type": "stream",
     "text": [
      "Epoch 1 Training:  91%|█████████▏| 25018/27349 [04:50<00:23, 99.32it/s, Loss=7.0605, Acc=0.1002]"
     ]
    },
    {
     "name": "stdout",
     "output_type": "stream",
     "text": [
      "\n",
      "Batch 25000/27349:\n",
      "  Loss: 7.0608\n",
      "  Accuracy: 0.1002\n"
     ]
    },
    {
     "name": "stderr",
     "output_type": "stream",
     "text": [
      "Epoch 1 Training:  95%|█████████▌| 26015/27349 [05:00<00:15, 87.74it/s, Loss=7.0506, Acc=0.1009] "
     ]
    },
    {
     "name": "stdout",
     "output_type": "stream",
     "text": [
      "\n",
      "Batch 26000/27349:\n",
      "  Loss: 7.0508\n",
      "  Accuracy: 0.1009\n"
     ]
    },
    {
     "name": "stderr",
     "output_type": "stream",
     "text": [
      "Epoch 1 Training:  99%|█████████▉| 27013/27349 [05:12<00:03, 97.21it/s, Loss=7.0413, Acc=0.1016] "
     ]
    },
    {
     "name": "stdout",
     "output_type": "stream",
     "text": [
      "\n",
      "Batch 27000/27349:\n",
      "  Loss: 7.0416\n",
      "  Accuracy: 0.1016\n"
     ]
    },
    {
     "name": "stderr",
     "output_type": "stream",
     "text": [
      "Epoch 1 Training: 100%|██████████| 27349/27349 [05:15<00:00, 86.60it/s, Loss=7.0384, Acc=0.1018]\n",
      "Epoch 1 Validation: 100%|██████████| 2869/2869 [00:11<00:00, 241.48it/s, Val Loss=6.5061, Val Acc=0.1346]\n"
     ]
    },
    {
     "name": "stdout",
     "output_type": "stream",
     "text": [
      "✓ New best model saved! Val Loss: 6.5061\n",
      "\n",
      "Epoch 1/10 Summary:\n",
      "  Train Loss: 7.0384 | Train Acc: 0.1018\n",
      "  Val Loss: 6.5061 | Val Acc: 0.1346\n",
      "  Time: 327.69s\n",
      "------------------------------------------------------------\n"
     ]
    },
    {
     "name": "stderr",
     "output_type": "stream",
     "text": [
      "Epoch 2 Training:   4%|▎         | 1015/27349 [00:11<05:25, 80.85it/s, Loss=6.7230, Acc=0.1222]"
     ]
    },
    {
     "name": "stdout",
     "output_type": "stream",
     "text": [
      "\n",
      "Batch 1000/27349:\n",
      "  Loss: 6.7240\n",
      "  Accuracy: 0.1223\n"
     ]
    },
    {
     "name": "stderr",
     "output_type": "stream",
     "text": [
      "Epoch 2 Training:   7%|▋         | 2016/27349 [00:23<05:02, 83.61it/s, Loss=6.7122, Acc=0.1236]"
     ]
    },
    {
     "name": "stdout",
     "output_type": "stream",
     "text": [
      "\n",
      "Batch 2000/27349:\n",
      "  Loss: 6.7121\n",
      "  Accuracy: 0.1236\n"
     ]
    },
    {
     "name": "stderr",
     "output_type": "stream",
     "text": [
      "Epoch 2 Training:  11%|█         | 3009/27349 [00:36<04:53, 82.89it/s, Loss=6.7072, Acc=0.1232]"
     ]
    },
    {
     "name": "stdout",
     "output_type": "stream",
     "text": [
      "\n",
      "Batch 3000/27349:\n",
      "  Loss: 6.7079\n",
      "  Accuracy: 0.1232\n"
     ]
    },
    {
     "name": "stderr",
     "output_type": "stream",
     "text": [
      "Epoch 2 Training:  15%|█▍        | 4017/27349 [00:48<04:35, 84.70it/s, Loss=6.6957, Acc=0.1239]"
     ]
    },
    {
     "name": "stdout",
     "output_type": "stream",
     "text": [
      "\n",
      "Batch 4000/27349:\n",
      "  Loss: 6.6956\n",
      "  Accuracy: 0.1239\n"
     ]
    },
    {
     "name": "stderr",
     "output_type": "stream",
     "text": [
      "Epoch 2 Training:  18%|█▊        | 5008/27349 [01:00<04:28, 83.11it/s, Loss=6.6885, Acc=0.1250]"
     ]
    },
    {
     "name": "stdout",
     "output_type": "stream",
     "text": [
      "\n",
      "Batch 5000/27349:\n",
      "  Loss: 6.6884\n",
      "  Accuracy: 0.1250\n"
     ]
    },
    {
     "name": "stderr",
     "output_type": "stream",
     "text": [
      "Epoch 2 Training:  22%|██▏       | 6017/27349 [01:11<03:34, 99.57it/s, Loss=6.6879, Acc=0.1249] "
     ]
    },
    {
     "name": "stdout",
     "output_type": "stream",
     "text": [
      "\n",
      "Batch 6000/27349:\n",
      "  Loss: 6.6878\n",
      "  Accuracy: 0.1249\n"
     ]
    },
    {
     "name": "stderr",
     "output_type": "stream",
     "text": [
      "Epoch 2 Training:  26%|██▌       | 7016/27349 [01:21<04:06, 82.38it/s, Loss=6.6851, Acc=0.1250] "
     ]
    },
    {
     "name": "stdout",
     "output_type": "stream",
     "text": [
      "\n",
      "Batch 7000/27349:\n",
      "  Loss: 6.6853\n",
      "  Accuracy: 0.1250\n"
     ]
    },
    {
     "name": "stderr",
     "output_type": "stream",
     "text": [
      "Epoch 2 Training:  29%|██▉       | 8008/27349 [01:33<04:00, 80.55it/s, Loss=6.6798, Acc=0.1253]"
     ]
    },
    {
     "name": "stdout",
     "output_type": "stream",
     "text": [
      "\n",
      "Batch 8000/27349:\n",
      "  Loss: 6.6799\n",
      "  Accuracy: 0.1253\n"
     ]
    },
    {
     "name": "stderr",
     "output_type": "stream",
     "text": [
      "Epoch 2 Training:  33%|███▎      | 9012/27349 [01:46<03:51, 79.12it/s, Loss=6.6775, Acc=0.1256]"
     ]
    },
    {
     "name": "stdout",
     "output_type": "stream",
     "text": [
      "\n",
      "Batch 9000/27349:\n",
      "  Loss: 6.6777\n",
      "  Accuracy: 0.1256\n"
     ]
    },
    {
     "name": "stderr",
     "output_type": "stream",
     "text": [
      "Epoch 2 Training:  37%|███▋      | 10009/27349 [01:58<03:23, 85.03it/s, Loss=6.6728, Acc=0.1260]"
     ]
    },
    {
     "name": "stdout",
     "output_type": "stream",
     "text": [
      "\n",
      "Batch 10000/27349:\n",
      "  Loss: 6.6731\n",
      "  Accuracy: 0.1260\n"
     ]
    },
    {
     "name": "stderr",
     "output_type": "stream",
     "text": [
      "Epoch 2 Training:  40%|████      | 11010/27349 [02:10<03:25, 79.54it/s, Loss=6.6668, Acc=0.1264]"
     ]
    },
    {
     "name": "stdout",
     "output_type": "stream",
     "text": [
      "\n",
      "Batch 11000/27349:\n",
      "  Loss: 6.6670\n",
      "  Accuracy: 0.1264\n"
     ]
    },
    {
     "name": "stderr",
     "output_type": "stream",
     "text": [
      "Epoch 2 Training:  44%|████▍     | 12016/27349 [02:22<03:04, 83.24it/s, Loss=6.6601, Acc=0.1270]"
     ]
    },
    {
     "name": "stdout",
     "output_type": "stream",
     "text": [
      "\n",
      "Batch 12000/27349:\n",
      "  Loss: 6.6602\n",
      "  Accuracy: 0.1269\n"
     ]
    },
    {
     "name": "stderr",
     "output_type": "stream",
     "text": [
      "Epoch 2 Training:  48%|████▊     | 13008/27349 [02:35<02:52, 83.24it/s, Loss=6.6557, Acc=0.1274]"
     ]
    },
    {
     "name": "stdout",
     "output_type": "stream",
     "text": [
      "\n",
      "Batch 13000/27349:\n",
      "  Loss: 6.6558\n",
      "  Accuracy: 0.1274\n"
     ]
    },
    {
     "name": "stderr",
     "output_type": "stream",
     "text": [
      "Epoch 2 Training:  51%|█████     | 14014/27349 [02:47<02:35, 85.53it/s, Loss=6.6533, Acc=0.1276]"
     ]
    },
    {
     "name": "stdout",
     "output_type": "stream",
     "text": [
      "\n",
      "Batch 14000/27349:\n",
      "  Loss: 6.6532\n",
      "  Accuracy: 0.1276\n"
     ]
    },
    {
     "name": "stderr",
     "output_type": "stream",
     "text": [
      "Epoch 2 Training:  55%|█████▍    | 15015/27349 [02:58<02:04, 98.78it/s, Loss=6.6484, Acc=0.1280] "
     ]
    },
    {
     "name": "stdout",
     "output_type": "stream",
     "text": [
      "\n",
      "Batch 15000/27349:\n",
      "  Loss: 6.6484\n",
      "  Accuracy: 0.1280\n"
     ]
    },
    {
     "name": "stderr",
     "output_type": "stream",
     "text": [
      "Epoch 2 Training:  59%|█████▊    | 16013/27349 [03:08<02:04, 91.14it/s, Loss=6.6459, Acc=0.1284] "
     ]
    },
    {
     "name": "stdout",
     "output_type": "stream",
     "text": [
      "\n",
      "Batch 16000/27349:\n",
      "  Loss: 6.6460\n",
      "  Accuracy: 0.1284\n"
     ]
    },
    {
     "name": "stderr",
     "output_type": "stream",
     "text": [
      "Epoch 2 Training:  62%|██████▏   | 17011/27349 [03:19<01:44, 98.64it/s, Loss=6.6422, Acc=0.1288] "
     ]
    },
    {
     "name": "stdout",
     "output_type": "stream",
     "text": [
      "\n",
      "Batch 17000/27349:\n",
      "  Loss: 6.6423\n",
      "  Accuracy: 0.1288\n"
     ]
    },
    {
     "name": "stderr",
     "output_type": "stream",
     "text": [
      "Epoch 2 Training:  66%|██████▌   | 18011/27349 [03:29<01:42, 90.83it/s, Loss=6.6396, Acc=0.1290] "
     ]
    },
    {
     "name": "stdout",
     "output_type": "stream",
     "text": [
      "\n",
      "Batch 18000/27349:\n",
      "  Loss: 6.6396\n",
      "  Accuracy: 0.1290\n"
     ]
    },
    {
     "name": "stderr",
     "output_type": "stream",
     "text": [
      "Epoch 2 Training:  70%|██████▉   | 19016/27349 [03:40<01:23, 100.21it/s, Loss=6.6365, Acc=0.1293]"
     ]
    },
    {
     "name": "stdout",
     "output_type": "stream",
     "text": [
      "\n",
      "Batch 19000/27349:\n",
      "  Loss: 6.6366\n",
      "  Accuracy: 0.1293\n"
     ]
    },
    {
     "name": "stderr",
     "output_type": "stream",
     "text": [
      "Epoch 2 Training:  73%|███████▎  | 20014/27349 [03:52<01:16, 95.40it/s, Loss=6.6323, Acc=0.1298] "
     ]
    },
    {
     "name": "stdout",
     "output_type": "stream",
     "text": [
      "\n",
      "Batch 20000/27349:\n",
      "  Loss: 6.6325\n",
      "  Accuracy: 0.1298\n"
     ]
    },
    {
     "name": "stderr",
     "output_type": "stream",
     "text": [
      "Epoch 2 Training:  77%|███████▋  | 21014/27349 [04:03<01:16, 83.04it/s, Loss=6.6282, Acc=0.1301] "
     ]
    },
    {
     "name": "stdout",
     "output_type": "stream",
     "text": [
      "\n",
      "Batch 21000/27349:\n",
      "  Loss: 6.6281\n",
      "  Accuracy: 0.1301\n"
     ]
    },
    {
     "name": "stderr",
     "output_type": "stream",
     "text": [
      "Epoch 2 Training:  81%|████████  | 22017/27349 [04:15<01:00, 87.61it/s, Loss=6.6240, Acc=0.1304] "
     ]
    },
    {
     "name": "stdout",
     "output_type": "stream",
     "text": [
      "\n",
      "Batch 22000/27349:\n",
      "  Loss: 6.6241\n",
      "  Accuracy: 0.1304\n"
     ]
    },
    {
     "name": "stderr",
     "output_type": "stream",
     "text": [
      "Epoch 2 Training:  84%|████████▍ | 23009/27349 [04:27<00:53, 80.50it/s, Loss=6.6202, Acc=0.1308]"
     ]
    },
    {
     "name": "stdout",
     "output_type": "stream",
     "text": [
      "\n",
      "Batch 23000/27349:\n",
      "  Loss: 6.6203\n",
      "  Accuracy: 0.1308\n"
     ]
    },
    {
     "name": "stderr",
     "output_type": "stream",
     "text": [
      "Epoch 2 Training:  88%|████████▊ | 24008/27349 [04:39<00:41, 80.71it/s, Loss=6.6172, Acc=0.1310]"
     ]
    },
    {
     "name": "stdout",
     "output_type": "stream",
     "text": [
      "\n",
      "Batch 24000/27349:\n",
      "  Loss: 6.6173\n",
      "  Accuracy: 0.1310\n"
     ]
    },
    {
     "name": "stderr",
     "output_type": "stream",
     "text": [
      "Epoch 2 Training:  91%|█████████▏| 25009/27349 [04:51<00:29, 80.59it/s, Loss=6.6118, Acc=0.1313]"
     ]
    },
    {
     "name": "stdout",
     "output_type": "stream",
     "text": [
      "\n",
      "Batch 25000/27349:\n",
      "  Loss: 6.6120\n",
      "  Accuracy: 0.1313\n"
     ]
    },
    {
     "name": "stderr",
     "output_type": "stream",
     "text": [
      "Epoch 2 Training:  95%|█████████▌| 26014/27349 [05:04<00:16, 79.06it/s, Loss=6.6085, Acc=0.1316]"
     ]
    },
    {
     "name": "stdout",
     "output_type": "stream",
     "text": [
      "\n",
      "Batch 26000/27349:\n",
      "  Loss: 6.6085\n",
      "  Accuracy: 0.1316\n"
     ]
    },
    {
     "name": "stderr",
     "output_type": "stream",
     "text": [
      "Epoch 2 Training:  99%|█████████▉| 27011/27349 [05:16<00:04, 76.79it/s, Loss=6.6046, Acc=0.1319]"
     ]
    },
    {
     "name": "stdout",
     "output_type": "stream",
     "text": [
      "\n",
      "Batch 27000/27349:\n",
      "  Loss: 6.6047\n",
      "  Accuracy: 0.1319\n"
     ]
    },
    {
     "name": "stderr",
     "output_type": "stream",
     "text": [
      "Epoch 2 Training: 100%|██████████| 27349/27349 [05:21<00:00, 85.19it/s, Loss=6.6030, Acc=0.1320]\n",
      "Epoch 2 Validation: 100%|██████████| 2869/2869 [00:12<00:00, 233.70it/s, Val Loss=6.2870, Val Acc=0.1507]\n"
     ]
    },
    {
     "name": "stdout",
     "output_type": "stream",
     "text": [
      "✓ New best model saved! Val Loss: 6.2870\n",
      "\n",
      "Epoch 2/10 Summary:\n",
      "  Train Loss: 6.6030 | Train Acc: 0.1320\n",
      "  Val Loss: 6.2870 | Val Acc: 0.1507\n",
      "  Time: 333.33s\n",
      "------------------------------------------------------------\n"
     ]
    },
    {
     "name": "stderr",
     "output_type": "stream",
     "text": [
      "Epoch 3 Training:   4%|▎         | 1010/27349 [00:12<05:23, 81.34it/s, Loss=6.4155, Acc=0.1419]"
     ]
    },
    {
     "name": "stdout",
     "output_type": "stream",
     "text": [
      "\n",
      "Batch 1000/27349:\n",
      "  Loss: 6.4148\n",
      "  Accuracy: 0.1421\n"
     ]
    },
    {
     "name": "stderr",
     "output_type": "stream",
     "text": [
      "Epoch 3 Training:   7%|▋         | 2010/27349 [00:23<04:16, 98.85it/s, Loss=6.4056, Acc=0.1425] "
     ]
    },
    {
     "name": "stdout",
     "output_type": "stream",
     "text": [
      "\n",
      "Batch 2000/27349:\n",
      "  Loss: 6.4053\n",
      "  Accuracy: 0.1426\n"
     ]
    },
    {
     "name": "stderr",
     "output_type": "stream",
     "text": [
      "Epoch 3 Training:  11%|█         | 3017/27349 [00:35<04:28, 90.67it/s, Loss=6.4072, Acc=0.1423] "
     ]
    },
    {
     "name": "stdout",
     "output_type": "stream",
     "text": [
      "\n",
      "Batch 3000/27349:\n",
      "  Loss: 6.4072\n",
      "  Accuracy: 0.1422\n"
     ]
    },
    {
     "name": "stderr",
     "output_type": "stream",
     "text": [
      "Epoch 3 Training:  15%|█▍        | 4012/27349 [00:46<03:50, 101.16it/s, Loss=6.4083, Acc=0.1427]"
     ]
    },
    {
     "name": "stdout",
     "output_type": "stream",
     "text": [
      "\n",
      "Batch 4000/27349:\n",
      "  Loss: 6.4087\n",
      "  Accuracy: 0.1426\n"
     ]
    },
    {
     "name": "stderr",
     "output_type": "stream",
     "text": [
      "Epoch 3 Training:  18%|█▊        | 5011/27349 [00:57<03:52, 96.07it/s, Loss=6.4052, Acc=0.1432] "
     ]
    },
    {
     "name": "stdout",
     "output_type": "stream",
     "text": [
      "\n",
      "Batch 5000/27349:\n",
      "  Loss: 6.4052\n",
      "  Accuracy: 0.1431\n"
     ]
    },
    {
     "name": "stderr",
     "output_type": "stream",
     "text": [
      "Epoch 3 Training:  22%|██▏       | 6009/27349 [01:08<04:22, 81.37it/s, Loss=6.4040, Acc=0.1431] "
     ]
    },
    {
     "name": "stdout",
     "output_type": "stream",
     "text": [
      "\n",
      "Batch 6000/27349:\n",
      "  Loss: 6.4039\n",
      "  Accuracy: 0.1432\n"
     ]
    },
    {
     "name": "stderr",
     "output_type": "stream",
     "text": [
      "Epoch 3 Training:  26%|██▌       | 7012/27349 [01:19<03:33, 95.12it/s, Loss=6.4076, Acc=0.1427] "
     ]
    },
    {
     "name": "stdout",
     "output_type": "stream",
     "text": [
      "\n",
      "Batch 7000/27349:\n",
      "  Loss: 6.4074\n",
      "  Accuracy: 0.1427\n"
     ]
    },
    {
     "name": "stderr",
     "output_type": "stream",
     "text": [
      "Epoch 3 Training:  29%|██▉       | 8008/27349 [01:30<03:53, 82.66it/s, Loss=6.4084, Acc=0.1427] "
     ]
    },
    {
     "name": "stdout",
     "output_type": "stream",
     "text": [
      "\n",
      "Batch 8000/27349:\n",
      "  Loss: 6.4086\n",
      "  Accuracy: 0.1427\n"
     ]
    },
    {
     "name": "stderr",
     "output_type": "stream",
     "text": [
      "Epoch 3 Training:  33%|███▎      | 9010/27349 [01:42<03:42, 82.55it/s, Loss=6.4085, Acc=0.1428]"
     ]
    },
    {
     "name": "stdout",
     "output_type": "stream",
     "text": [
      "\n",
      "Batch 9000/27349:\n",
      "  Loss: 6.4086\n",
      "  Accuracy: 0.1428\n"
     ]
    },
    {
     "name": "stderr",
     "output_type": "stream",
     "text": [
      "Epoch 3 Training:  37%|███▋      | 10009/27349 [01:54<03:33, 81.17it/s, Loss=6.4079, Acc=0.1429]"
     ]
    },
    {
     "name": "stdout",
     "output_type": "stream",
     "text": [
      "\n",
      "Batch 10000/27349:\n",
      "  Loss: 6.4079\n",
      "  Accuracy: 0.1429\n"
     ]
    },
    {
     "name": "stderr",
     "output_type": "stream",
     "text": [
      "Epoch 3 Training:  40%|████      | 11013/27349 [02:07<03:20, 81.29it/s, Loss=6.4059, Acc=0.1431]"
     ]
    },
    {
     "name": "stdout",
     "output_type": "stream",
     "text": [
      "\n",
      "Batch 11000/27349:\n",
      "  Loss: 6.4061\n",
      "  Accuracy: 0.1431\n"
     ]
    },
    {
     "name": "stderr",
     "output_type": "stream",
     "text": [
      "Epoch 3 Training:  44%|████▍     | 12009/27349 [02:19<03:10, 80.60it/s, Loss=6.4065, Acc=0.1430] "
     ]
    },
    {
     "name": "stdout",
     "output_type": "stream",
     "text": [
      "\n",
      "Batch 12000/27349:\n",
      "  Loss: 6.4065\n",
      "  Accuracy: 0.1430\n"
     ]
    },
    {
     "name": "stderr",
     "output_type": "stream",
     "text": [
      "Epoch 3 Training:  48%|████▊     | 13008/27349 [02:31<02:51, 83.49it/s, Loss=6.4057, Acc=0.1432]"
     ]
    },
    {
     "name": "stdout",
     "output_type": "stream",
     "text": [
      "\n",
      "Batch 13000/27349:\n",
      "  Loss: 6.4059\n",
      "  Accuracy: 0.1431\n"
     ]
    },
    {
     "name": "stderr",
     "output_type": "stream",
     "text": [
      "Epoch 3 Training:  51%|█████     | 14015/27349 [02:43<02:24, 92.01it/s, Loss=6.4069, Acc=0.1431]"
     ]
    },
    {
     "name": "stdout",
     "output_type": "stream",
     "text": [
      "\n",
      "Batch 14000/27349:\n",
      "  Loss: 6.4070\n",
      "  Accuracy: 0.1431\n"
     ]
    },
    {
     "name": "stderr",
     "output_type": "stream",
     "text": [
      "Epoch 3 Training:  55%|█████▍    | 15009/27349 [02:55<02:30, 81.82it/s, Loss=6.4038, Acc=0.1434]"
     ]
    },
    {
     "name": "stdout",
     "output_type": "stream",
     "text": [
      "\n",
      "Batch 15000/27349:\n",
      "  Loss: 6.4038\n",
      "  Accuracy: 0.1434\n"
     ]
    },
    {
     "name": "stderr",
     "output_type": "stream",
     "text": [
      "Epoch 3 Training:  59%|█████▊    | 16014/27349 [03:07<02:20, 80.54it/s, Loss=6.4016, Acc=0.1436]"
     ]
    },
    {
     "name": "stdout",
     "output_type": "stream",
     "text": [
      "\n",
      "Batch 16000/27349:\n",
      "  Loss: 6.4017\n",
      "  Accuracy: 0.1436\n"
     ]
    },
    {
     "name": "stderr",
     "output_type": "stream",
     "text": [
      "Epoch 3 Training:  62%|██████▏   | 17015/27349 [03:20<02:06, 81.48it/s, Loss=6.3999, Acc=0.1439]"
     ]
    },
    {
     "name": "stdout",
     "output_type": "stream",
     "text": [
      "\n",
      "Batch 17000/27349:\n",
      "  Loss: 6.3998\n",
      "  Accuracy: 0.1439\n"
     ]
    },
    {
     "name": "stderr",
     "output_type": "stream",
     "text": [
      "Epoch 3 Training:  66%|██████▌   | 18015/27349 [03:32<01:48, 86.38it/s, Loss=6.3980, Acc=0.1441]"
     ]
    },
    {
     "name": "stdout",
     "output_type": "stream",
     "text": [
      "\n",
      "Batch 18000/27349:\n",
      "  Loss: 6.3981\n",
      "  Accuracy: 0.1441\n"
     ]
    },
    {
     "name": "stderr",
     "output_type": "stream",
     "text": [
      "Epoch 3 Training:  70%|██████▉   | 19009/27349 [03:44<01:41, 81.92it/s, Loss=6.3961, Acc=0.1442]"
     ]
    },
    {
     "name": "stdout",
     "output_type": "stream",
     "text": [
      "\n",
      "Batch 19000/27349:\n",
      "  Loss: 6.3961\n",
      "  Accuracy: 0.1442\n"
     ]
    },
    {
     "name": "stderr",
     "output_type": "stream",
     "text": [
      "Epoch 3 Training:  72%|███████▏  | 19707/27349 [03:52<01:34, 81.18it/s, Loss=6.3957, Acc=0.1442]IOPub message rate exceeded.\n",
      "The Jupyter server will temporarily stop sending output\n",
      "to the client in order to avoid crashing it.\n",
      "To change this limit, set the config variable\n",
      "`--ServerApp.iopub_msg_rate_limit`.\n",
      "\n",
      "Current values:\n",
      "ServerApp.iopub_msg_rate_limit=1000.0 (msgs/sec)\n",
      "ServerApp.rate_limit_window=3.0 (secs)\n",
      "\n",
      "Epoch 5 Training:  88%|████████▊ | 24012/27349 [04:52<00:41, 81.21it/s, Loss=6.1205, Acc=0.1587]"
     ]
    },
    {
     "name": "stdout",
     "output_type": "stream",
     "text": [
      "\n",
      "Batch 24000/27349:\n",
      "  Loss: 6.1205\n",
      "  Accuracy: 0.1587\n"
     ]
    },
    {
     "name": "stderr",
     "output_type": "stream",
     "text": [
      "Epoch 5 Training:  91%|█████████▏| 25011/27349 [05:05<00:27, 83.86it/s, Loss=6.1199, Acc=0.1589]"
     ]
    },
    {
     "name": "stdout",
     "output_type": "stream",
     "text": [
      "\n",
      "Batch 25000/27349:\n",
      "  Loss: 6.1200\n",
      "  Accuracy: 0.1589\n"
     ]
    },
    {
     "name": "stderr",
     "output_type": "stream",
     "text": [
      "Epoch 5 Training:  95%|█████████▌| 26010/27349 [05:16<00:16, 82.11it/s, Loss=6.1191, Acc=0.1590]"
     ]
    },
    {
     "name": "stdout",
     "output_type": "stream",
     "text": [
      "\n",
      "Batch 26000/27349:\n",
      "  Loss: 6.1192\n",
      "  Accuracy: 0.1590\n"
     ]
    },
    {
     "name": "stderr",
     "output_type": "stream",
     "text": [
      "Epoch 5 Training:  96%|█████████▌| 26316/27349 [05:20<00:12, 81.49it/s, Loss=6.1187, Acc=0.1590]IOPub message rate exceeded.\n",
      "The Jupyter server will temporarily stop sending output\n",
      "to the client in order to avoid crashing it.\n",
      "To change this limit, set the config variable\n",
      "`--ServerApp.iopub_msg_rate_limit`.\n",
      "\n",
      "Current values:\n",
      "ServerApp.iopub_msg_rate_limit=1000.0 (msgs/sec)\n",
      "ServerApp.rate_limit_window=3.0 (secs)\n",
      "\n",
      "Epoch 8 Training:   4%|▎         | 1015/27349 [00:12<05:20, 82.25it/s, Loss=5.8416, Acc=0.1742]"
     ]
    },
    {
     "name": "stdout",
     "output_type": "stream",
     "text": [
      "\n",
      "Batch 1000/27349:\n",
      "  Loss: 5.8448\n",
      "  Accuracy: 0.1743\n"
     ]
    },
    {
     "name": "stderr",
     "output_type": "stream",
     "text": [
      "Epoch 8 Training:   7%|▋         | 2014/27349 [00:24<05:09, 81.97it/s, Loss=5.8482, Acc=0.1728]"
     ]
    },
    {
     "name": "stdout",
     "output_type": "stream",
     "text": [
      "\n",
      "Batch 2000/27349:\n",
      "  Loss: 5.8500\n",
      "  Accuracy: 0.1727\n"
     ]
    },
    {
     "name": "stderr",
     "output_type": "stream",
     "text": [
      "Epoch 8 Training:  11%|█         | 2932/27349 [00:35<05:00, 81.34it/s, Loss=5.8470, Acc=0.1726]IOPub message rate exceeded.\n",
      "The Jupyter server will temporarily stop sending output\n",
      "to the client in order to avoid crashing it.\n",
      "To change this limit, set the config variable\n",
      "`--ServerApp.iopub_msg_rate_limit`.\n",
      "\n",
      "Current values:\n",
      "ServerApp.iopub_msg_rate_limit=1000.0 (msgs/sec)\n",
      "ServerApp.rate_limit_window=3.0 (secs)\n",
      "\n",
      "Epoch 10 Training:  26%|██▌       | 7009/27349 [01:25<04:11, 80.73it/s, Loss=5.7211, Acc=0.1818]"
     ]
    },
    {
     "name": "stdout",
     "output_type": "stream",
     "text": [
      "\n",
      "Batch 7000/27349:\n",
      "  Loss: 5.7209\n",
      "  Accuracy: 0.1818\n"
     ]
    },
    {
     "name": "stderr",
     "output_type": "stream",
     "text": [
      "Epoch 10 Training:  29%|██▉       | 8008/27349 [01:37<03:55, 82.24it/s, Loss=5.7196, Acc=0.1819]"
     ]
    },
    {
     "name": "stdout",
     "output_type": "stream",
     "text": [
      "\n",
      "Batch 8000/27349:\n",
      "  Loss: 5.7198\n",
      "  Accuracy: 0.1819\n"
     ]
    },
    {
     "name": "stderr",
     "output_type": "stream",
     "text": [
      "Epoch 10 Training:  33%|███▎      | 8908/27349 [01:48<03:44, 82.29it/s, Loss=5.7185, Acc=0.1823]IOPub message rate exceeded.\n",
      "The Jupyter server will temporarily stop sending output\n",
      "to the client in order to avoid crashing it.\n",
      "To change this limit, set the config variable\n",
      "`--ServerApp.iopub_msg_rate_limit`.\n",
      "\n",
      "Current values:\n",
      "ServerApp.iopub_msg_rate_limit=1000.0 (msgs/sec)\n",
      "ServerApp.rate_limit_window=3.0 (secs)\n",
      "\n",
      "Epoch 10 Training:  37%|███▋      | 10012/27349 [02:02<03:43, 77.55it/s, Loss=5.7194, Acc=0.1820]"
     ]
    },
    {
     "name": "stdout",
     "output_type": "stream",
     "text": [
      "\n",
      "Batch 10000/27349:\n",
      "  Loss: 5.7194\n",
      "  Accuracy: 0.1820\n"
     ]
    },
    {
     "name": "stderr",
     "output_type": "stream",
     "text": [
      "Epoch 10 Training:  40%|████      | 11015/27349 [02:15<03:21, 80.88it/s, Loss=5.7193, Acc=0.1820]"
     ]
    },
    {
     "name": "stdout",
     "output_type": "stream",
     "text": [
      "\n",
      "Batch 11000/27349:\n",
      "  Loss: 5.7192\n",
      "  Accuracy: 0.1820\n"
     ]
    },
    {
     "name": "stderr",
     "output_type": "stream",
     "text": [
      "Epoch 10 Training:  44%|████▍     | 12010/27349 [02:27<03:02, 83.91it/s, Loss=5.7210, Acc=0.1818] "
     ]
    },
    {
     "name": "stdout",
     "output_type": "stream",
     "text": [
      "\n",
      "Batch 12000/27349:\n",
      "  Loss: 5.7210\n",
      "  Accuracy: 0.1818\n"
     ]
    },
    {
     "name": "stderr",
     "output_type": "stream",
     "text": [
      "Epoch 10 Training:  48%|████▊     | 13009/27349 [02:39<02:56, 81.21it/s, Loss=5.7215, Acc=0.1818]"
     ]
    },
    {
     "name": "stdout",
     "output_type": "stream",
     "text": [
      "\n",
      "Batch 13000/27349:\n",
      "  Loss: 5.7213\n",
      "  Accuracy: 0.1818\n"
     ]
    },
    {
     "name": "stderr",
     "output_type": "stream",
     "text": [
      "Epoch 10 Training:  51%|█████     | 14012/27349 [02:51<02:46, 80.07it/s, Loss=5.7226, Acc=0.1817]"
     ]
    },
    {
     "name": "stdout",
     "output_type": "stream",
     "text": [
      "\n",
      "Batch 14000/27349:\n",
      "  Loss: 5.7225\n",
      "  Accuracy: 0.1817\n"
     ]
    },
    {
     "name": "stderr",
     "output_type": "stream",
     "text": [
      "Epoch 10 Training:  55%|█████▍    | 15015/27349 [03:03<02:33, 80.51it/s, Loss=5.7238, Acc=0.1817]"
     ]
    },
    {
     "name": "stdout",
     "output_type": "stream",
     "text": [
      "\n",
      "Batch 15000/27349:\n",
      "  Loss: 5.7240\n",
      "  Accuracy: 0.1817\n"
     ]
    },
    {
     "name": "stderr",
     "output_type": "stream",
     "text": [
      "Epoch 10 Training:  59%|█████▊    | 16013/27349 [03:16<02:20, 80.85it/s, Loss=5.7248, Acc=0.1818]"
     ]
    },
    {
     "name": "stdout",
     "output_type": "stream",
     "text": [
      "\n",
      "Batch 16000/27349:\n",
      "  Loss: 5.7247\n",
      "  Accuracy: 0.1818\n"
     ]
    },
    {
     "name": "stderr",
     "output_type": "stream",
     "text": [
      "Epoch 10 Training:  62%|██████▏   | 17012/27349 [03:28<02:09, 79.99it/s, Loss=5.7261, Acc=0.1818]"
     ]
    },
    {
     "name": "stdout",
     "output_type": "stream",
     "text": [
      "\n",
      "Batch 17000/27349:\n",
      "  Loss: 5.7259\n",
      "  Accuracy: 0.1818\n"
     ]
    },
    {
     "name": "stderr",
     "output_type": "stream",
     "text": [
      "Epoch 10 Training:  66%|██████▌   | 18011/27349 [03:41<01:56, 80.48it/s, Loss=5.7276, Acc=0.1819]"
     ]
    },
    {
     "name": "stdout",
     "output_type": "stream",
     "text": [
      "\n",
      "Batch 18000/27349:\n",
      "  Loss: 5.7275\n",
      "  Accuracy: 0.1819\n"
     ]
    },
    {
     "name": "stderr",
     "output_type": "stream",
     "text": [
      "Epoch 10 Training:  70%|██████▉   | 19016/27349 [03:53<01:43, 80.63it/s, Loss=5.7278, Acc=0.1819]"
     ]
    },
    {
     "name": "stdout",
     "output_type": "stream",
     "text": [
      "\n",
      "Batch 19000/27349:\n",
      "  Loss: 5.7277\n",
      "  Accuracy: 0.1820\n"
     ]
    },
    {
     "name": "stderr",
     "output_type": "stream",
     "text": [
      "Epoch 10 Training:  73%|███████▎  | 20015/27349 [04:05<01:30, 80.97it/s, Loss=5.7291, Acc=0.1819]"
     ]
    },
    {
     "name": "stdout",
     "output_type": "stream",
     "text": [
      "\n",
      "Batch 20000/27349:\n",
      "  Loss: 5.7292\n",
      "  Accuracy: 0.1819\n"
     ]
    },
    {
     "name": "stderr",
     "output_type": "stream",
     "text": [
      "Epoch 10 Training:  77%|███████▋  | 21014/27349 [04:18<01:18, 80.76it/s, Loss=5.7297, Acc=0.1818]"
     ]
    },
    {
     "name": "stdout",
     "output_type": "stream",
     "text": [
      "\n",
      "Batch 21000/27349:\n",
      "  Loss: 5.7297\n",
      "  Accuracy: 0.1818\n"
     ]
    },
    {
     "name": "stderr",
     "output_type": "stream",
     "text": [
      "Epoch 10 Training:  80%|████████  | 22013/27349 [04:30<01:06, 80.62it/s, Loss=5.7307, Acc=0.1817]"
     ]
    },
    {
     "name": "stdout",
     "output_type": "stream",
     "text": [
      "\n",
      "Batch 22000/27349:\n",
      "  Loss: 5.7307\n",
      "  Accuracy: 0.1817\n"
     ]
    },
    {
     "name": "stderr",
     "output_type": "stream",
     "text": [
      "Epoch 10 Training:  84%|████████▍ | 23012/27349 [04:43<00:53, 80.69it/s, Loss=5.7314, Acc=0.1817]"
     ]
    },
    {
     "name": "stdout",
     "output_type": "stream",
     "text": [
      "\n",
      "Batch 23000/27349:\n",
      "  Loss: 5.7314\n",
      "  Accuracy: 0.1817\n"
     ]
    },
    {
     "name": "stderr",
     "output_type": "stream",
     "text": [
      "Epoch 10 Training:  88%|████████▊ | 24011/27349 [04:55<00:40, 82.12it/s, Loss=5.7324, Acc=0.1817]"
     ]
    },
    {
     "name": "stdout",
     "output_type": "stream",
     "text": [
      "\n",
      "Batch 24000/27349:\n",
      "  Loss: 5.7323\n",
      "  Accuracy: 0.1817\n"
     ]
    },
    {
     "name": "stderr",
     "output_type": "stream",
     "text": [
      "Epoch 10 Training:  91%|█████████▏| 25010/27349 [05:07<00:28, 80.98it/s, Loss=5.7349, Acc=0.1815]"
     ]
    },
    {
     "name": "stdout",
     "output_type": "stream",
     "text": [
      "\n",
      "Batch 25000/27349:\n",
      "  Loss: 5.7349\n",
      "  Accuracy: 0.1815\n"
     ]
    },
    {
     "name": "stderr",
     "output_type": "stream",
     "text": [
      "Epoch 10 Training:  95%|█████████▌| 26009/27349 [05:20<00:16, 81.36it/s, Loss=5.7358, Acc=0.1816]"
     ]
    },
    {
     "name": "stdout",
     "output_type": "stream",
     "text": [
      "\n",
      "Batch 26000/27349:\n",
      "  Loss: 5.7358\n",
      "  Accuracy: 0.1816\n"
     ]
    },
    {
     "name": "stderr",
     "output_type": "stream",
     "text": [
      "Epoch 10 Training:  99%|█████████▉| 27014/27349 [05:32<00:04, 73.52it/s, Loss=5.7361, Acc=0.1816]"
     ]
    },
    {
     "name": "stdout",
     "output_type": "stream",
     "text": [
      "\n",
      "Batch 27000/27349:\n",
      "  Loss: 5.7361\n",
      "  Accuracy: 0.1815\n"
     ]
    },
    {
     "name": "stderr",
     "output_type": "stream",
     "text": [
      "Epoch 10 Training: 100%|██████████| 27349/27349 [05:36<00:00, 81.27it/s, Loss=5.7364, Acc=0.1816]\n",
      "Epoch 10 Validation: 100%|██████████| 2869/2869 [00:12<00:00, 237.65it/s, Val Loss=5.8569, Val Acc=0.1724]\n"
     ]
    },
    {
     "name": "stdout",
     "output_type": "stream",
     "text": [
      "✓ New best model saved! Val Loss: 5.8569\n",
      "\n",
      "Epoch 10/10 Summary:\n",
      "  Train Loss: 5.7364 | Train Acc: 0.1816\n",
      "  Val Loss: 5.8569 | Val Acc: 0.1724\n",
      "  Time: 348.58s\n",
      "------------------------------------------------------------\n",
      "\n",
      "Training completed in 3387.08s\n",
      "Best validation loss: 5.8569\n",
      "Loaded best model weights\n"
     ]
    },
    {
     "data": {
      "image/png": "[encoded data removed]",
      "text/plain": [
       "<Figure size 1500x500 with 2 Axes>"
      ]
     },
     "metadata": {},
     "output_type": "display_data"
    },
    {
     "name": "stdout",
     "output_type": "stream",
     "text": [
      "\n",
      "✅ Training completed!\n",
      "📁 Model saved as 'gru_language_model.pth'\n",
      "🎯 Final validation accuracy: 0.1724\n"
     ]
    }
   ],
   "source": [
    "# Train the GRU Language Model\n",
    "\n",
    "# Training Loop for GRU Language Model\n",
    "\n",
    "import torch\n",
    "import torch.nn as nn\n",
    "import time\n",
    "from tqdm import tqdm\n",
    "import matplotlib.pyplot as plt\n",
    "\n",
    "def train_epoch(model, train_loader, criterion, optimizer, device, epoch):\n",
    "    \"\"\"Train the model for one epoch\"\"\"\n",
    "    model.train()\n",
    "    total_loss = 0\n",
    "    total_samples = 0\n",
    "    correct_predictions = 0\n",
    "    \n",
    "    # Progress bar\n",
    "    pbar = tqdm(train_loader, desc=f'Epoch {epoch+1} Training')\n",
    "    \n",
    "    for batch_idx, (sequences, targets) in enumerate(pbar):\n",
    "        # Move data to device\n",
    "        sequences = sequences.to(device)\n",
    "        targets = targets.to(device)\n",
    "        \n",
    "        # Zero gradients\n",
    "        optimizer.zero_grad()\n",
    "        \n",
    "        # Forward pass\n",
    "        logits, hidden = model(sequences)\n",
    "        \n",
    "        # Calculate loss (predict next token from last timestep)\n",
    "        last_token_logits = logits[:, -1, :]  # [batch_size, vocab_size]\n",
    "        loss = criterion(last_token_logits, targets)\n",
    "        \n",
    "        # Backward pass\n",
    "        loss.backward()\n",
    "        \n",
    "        # Gradient clipping to prevent exploding gradients\n",
    "        torch.nn.utils.clip_grad_norm_(model.parameters(), max_norm=1.0)\n",
    "        \n",
    "        # Update weights\n",
    "        optimizer.step()\n",
    "        \n",
    "        # Statistics\n",
    "        total_loss += loss.item()\n",
    "        total_samples += targets.size(0)\n",
    "        \n",
    "        # Calculate accuracy\n",
    "        predictions = torch.argmax(last_token_logits, dim=-1)\n",
    "        correct_predictions += (predictions == targets).sum().item()\n",
    "        \n",
    "        # Update progress bar\n",
    "        avg_loss = total_loss / (batch_idx + 1)\n",
    "        accuracy = correct_predictions / total_samples\n",
    "        pbar.set_postfix({\n",
    "            'Loss': f'{avg_loss:.4f}',\n",
    "            'Acc': f'{accuracy:.4f}'\n",
    "        })\n",
    "        \n",
    "        # Print detailed stats every 1000 batches\n",
    "        if (batch_idx + 1) % 1000 == 0:\n",
    "            print(f'\\nBatch {batch_idx+1}/{len(train_loader)}:')\n",
    "            print(f'  Loss: {avg_loss:.4f}')\n",
    "            print(f'  Accuracy: {accuracy:.4f}')\n",
    "    \n",
    "    avg_loss = total_loss / len(train_loader)\n",
    "    accuracy = correct_predictions / total_samples\n",
    "    \n",
    "    return avg_loss, accuracy\n",
    "\n",
    "def validate_epoch(model, val_loader, criterion, device, epoch):\n",
    "    \"\"\"Validate the model\"\"\"\n",
    "    model.eval()\n",
    "    total_loss = 0\n",
    "    total_samples = 0\n",
    "    correct_predictions = 0\n",
    "    \n",
    "    with torch.no_grad():\n",
    "        pbar = tqdm(val_loader, desc=f'Epoch {epoch+1} Validation')\n",
    "        \n",
    "        for sequences, targets in pbar:\n",
    "            # Move data to device\n",
    "            sequences = sequences.to(device)\n",
    "            targets = targets.to(device)\n",
    "            \n",
    "            # Forward pass\n",
    "            logits, hidden = model(sequences)\n",
    "            \n",
    "            # Calculate loss\n",
    "            last_token_logits = logits[:, -1, :]\n",
    "            loss = criterion(last_token_logits, targets)\n",
    "            \n",
    "            # Statistics\n",
    "            total_loss += loss.item()\n",
    "            total_samples += targets.size(0)\n",
    "            \n",
    "            # Calculate accuracy\n",
    "            predictions = torch.argmax(last_token_logits, dim=-1)\n",
    "            correct_predictions += (predictions == targets).sum().item()\n",
    "            \n",
    "            # Update progress bar\n",
    "            avg_loss = total_loss / len(val_loader) if len(val_loader) > 0 else 0\n",
    "            accuracy = correct_predictions / total_samples\n",
    "            pbar.set_postfix({\n",
    "                'Val Loss': f'{avg_loss:.4f}',\n",
    "                'Val Acc': f'{accuracy:.4f}'\n",
    "            })\n",
    "    \n",
    "    avg_loss = total_loss / len(val_loader)\n",
    "    accuracy = correct_predictions / total_samples\n",
    "    \n",
    "    return avg_loss, accuracy\n",
    "\n",
    "def train_model(model, train_loader, val_loader, criterion, optimizer, device, num_epochs=10):\n",
    "    \"\"\"Complete training loop\"\"\"\n",
    "    \n",
    "    # Training history\n",
    "    train_losses = []\n",
    "    train_accuracies = []\n",
    "    val_losses = []\n",
    "    val_accuracies = []\n",
    "    \n",
    "    best_val_loss = float('inf')\n",
    "    best_model_state = None\n",
    "    \n",
    "    print(f\"Starting training for {num_epochs} epochs...\")\n",
    "    print(f\"Training batches: {len(train_loader)}\")\n",
    "    print(f\"Validation batches: {len(val_loader)}\")\n",
    "    print(\"-\" * 60)\n",
    "    \n",
    "    start_time = time.time()\n",
    "    \n",
    "    for epoch in range(num_epochs):\n",
    "        epoch_start_time = time.time()\n",
    "        \n",
    "        # Training\n",
    "        train_loss, train_acc = train_epoch(model, train_loader, criterion, optimizer, device, epoch)\n",
    "        \n",
    "        # Validation\n",
    "        val_loss, val_acc = validate_epoch(model, val_loader, criterion, device, epoch)\n",
    "        \n",
    "        # Save best model\n",
    "        if val_loss < best_val_loss:\n",
    "            best_val_loss = val_loss\n",
    "            best_model_state = model.state_dict().copy()\n",
    "            print(f\"✓ New best model saved! Val Loss: {val_loss:.4f}\")\n",
    "        \n",
    "        # Record history\n",
    "        train_losses.append(train_loss)\n",
    "        train_accuracies.append(train_acc)\n",
    "        val_losses.append(val_loss)\n",
    "        val_accuracies.append(val_acc)\n",
    "        \n",
    "        # Print epoch summary\n",
    "        epoch_time = time.time() - epoch_start_time\n",
    "        print(f\"\\nEpoch {epoch+1}/{num_epochs} Summary:\")\n",
    "        print(f\"  Train Loss: {train_loss:.4f} | Train Acc: {train_acc:.4f}\")\n",
    "        print(f\"  Val Loss: {val_loss:.4f} | Val Acc: {val_acc:.4f}\")\n",
    "        print(f\"  Time: {epoch_time:.2f}s\")\n",
    "        print(\"-\" * 60)\n",
    "    \n",
    "    total_time = time.time() - start_time\n",
    "    print(f\"\\nTraining completed in {total_time:.2f}s\")\n",
    "    print(f\"Best validation loss: {best_val_loss:.4f}\")\n",
    "    \n",
    "    # Load best model\n",
    "    if best_model_state is not None:\n",
    "        model.load_state_dict(best_model_state)\n",
    "        print(\"Loaded best model weights\")\n",
    "    \n",
    "    return {\n",
    "        'train_losses': train_losses,\n",
    "        'train_accuracies': train_accuracies,\n",
    "        'val_losses': val_losses,\n",
    "        'val_accuracies': val_accuracies,\n",
    "        'best_val_loss': best_val_loss\n",
    "    }\n",
    "\n",
    "def plot_training_history(history):\n",
    "    \"\"\"Plot training curves\"\"\"\n",
    "    fig, (ax1, ax2) = plt.subplots(1, 2, figsize=(15, 5))\n",
    "    \n",
    "    # Loss plot\n",
    "    ax1.plot(history['train_losses'], label='Train Loss', color='blue')\n",
    "    ax1.plot(history['val_losses'], label='Val Loss', color='red')\n",
    "    ax1.set_title('Training and Validation Loss')\n",
    "    ax1.set_xlabel('Epoch')\n",
    "    ax1.set_ylabel('Loss')\n",
    "    ax1.legend()\n",
    "    ax1.grid(True)\n",
    "    \n",
    "    # Accuracy plot\n",
    "    ax2.plot(history['train_accuracies'], label='Train Accuracy', color='blue')\n",
    "    ax2.plot(history['val_accuracies'], label='Val Accuracy', color='red')\n",
    "    ax2.set_title('Training and Validation Accuracy')\n",
    "    ax2.set_xlabel('Epoch')\n",
    "    ax2.set_ylabel('Accuracy')\n",
    "    ax2.legend()\n",
    "    ax2.grid(True)\n",
    "    \n",
    "    plt.tight_layout()\n",
    "    plt.show()\n",
    "\n",
    "# Start training\n",
    "print(\"🚀 Starting GRU Language Model Training...\")\n",
    "print(f\"Model has {sum(p.numel() for p in model.parameters()):,} parameters\")\n",
    "\n",
    "# Training parameters\n",
    "num_epochs = 10  # As specified in your notebook header\n",
    "\n",
    "# Train the model\n",
    "history = train_model(\n",
    "    model=model,\n",
    "    train_loader=train_loader,\n",
    "    val_loader=val_loader,\n",
    "    criterion=criterion,\n",
    "    optimizer=optimizer,\n",
    "    device=device,\n",
    "    num_epochs=num_epochs\n",
    ")\n",
    "\n",
    "# Plot results\n",
    "plot_training_history(history)\n",
    "\n",
    "# Save the trained model\n",
    "torch.save({\n",
    "    'model_state_dict': model.state_dict(),\n",
    "    'optimizer_state_dict': optimizer.state_dict(),\n",
    "    'history': history,\n",
    "    'vocab': vocab,\n",
    "    'model_config': {\n",
    "        'vocab_size': vocab_size,\n",
    "        'embedding_dim': embedding_dim,\n",
    "        'hidden_dim': hidden_dim,\n",
    "        'num_layers': num_layers,\n",
    "        'dropout': dropout\n",
    "    }\n",
    "}, 'gru_language_model.pth')\n",
    "\n",
    "print(\"\\n✅ Training completed!\")\n",
    "print(\"📁 Model saved as 'gru_language_model.pth'\")\n",
    "print(f\"🎯 Final validation accuracy: {history['val_accuracies'][-1]:.4f}\")"
   ]
  },
  {
   "cell_type": "code",
   "execution_count": null,
   "metadata": {},
   "outputs": [
    {
     "name": "stdout",
     "output_type": "stream",
     "text": [
      "🧪 Testing the trained GRU model...\n",
      "\n",
      "📋 Testing with example sentences:\n",
      "============================================================\n",
      "\n",
      "1. Input: 'The cat sat on the'\n",
      "   Predicted: 'unk'\n",
      "   Top 3: ['first', 'unk', 'island']\n",
      "   Complete: 'The cat sat on the unk'\n",
      "\n",
      "2. Input: 'I love to eat'\n",
      "   Predicted: 'the'\n",
      "   Top 3: ['the', 'a', 'unk']\n",
      "   Complete: 'I love to eat the'\n",
      "\n",
      "3. Input: 'The weather today is'\n",
      "   Predicted: 'generally'\n",
      "   Top 3: ['a', 'the', 'also']\n",
      "   Complete: 'The weather today is generally'\n",
      "\n",
      "4. Input: 'Machine learning is'\n",
      "   Predicted: 'most'\n",
      "   Top 3: ['a', 'the', 'an']\n",
      "   Complete: 'Machine learning is most'\n",
      "\n",
      "5. Input: 'In the future we will'\n",
      "   Predicted: 'have'\n",
      "   Top 3: ['be', 'have', 'not']\n",
      "   Complete: 'In the future we will have'\n",
      "\n",
      "6. Input: 'The president of the United'\n",
      "   Predicted: 'states'\n",
      "   Top 3: ['states', 'kingdom', 'nations']\n",
      "   Complete: 'The president of the United states'\n",
      "\n",
      "7. Input: 'Scientists have discovered a new'\n",
      "   Predicted: 'government'\n",
      "   Top 3: ['year', 'version', 'role']\n",
      "   Complete: 'Scientists have discovered a new government'\n",
      "\n",
      "8. Input: 'The book was very'\n",
      "   Predicted: 'well'\n",
      "   Top 3: ['unk', 'well', 'popular']\n",
      "   Complete: 'The book was very well'\n",
      "\n",
      "🤖 Interactive Text Prediction Mode\n",
      "Enter a sentence and I'll predict the next word!\n",
      "Type 'quit' to exit, 'generate' to generate multiple words\n",
      "------------------------------------------------------------\n"
     ]
    },
    {
     "name": "stdin",
     "output_type": "stream",
     "text": [
      "\n",
      "Enter text:  Hello, world! I am Archer. What is your\n"
     ]
    },
    {
     "name": "stdout",
     "output_type": "stream",
     "text": [
      "\n",
      "🔍 Analyzing: 'Hello, world! I am Archer. What is your'\n",
      "🎯 Predicted next word: 'way'\n",
      "\n",
      "📊 Top 10 candidates:\n",
      "   1. unk             (0.3377)\n",
      "   2. first           (0.1444)\n",
      "   3. own             (0.0813)\n",
      "   4. love            (0.0381)\n",
      "   5. most            (0.0293)\n",
      "   6. best            (0.0262)\n",
      "   7. name            (0.0258)\n",
      "   8. use             (0.0219)\n",
      "   9. last            (0.0216)\n",
      "  10. great           (0.0179)\n",
      "\n",
      "📝 Complete sentence: 'Hello, world! I am Archer. What is your way'\n"
     ]
    },
    {
     "name": "stdin",
     "output_type": "stream",
     "text": [
      "\n",
      "Enter text:  He does not want to drink this\n"
     ]
    },
    {
     "name": "stdout",
     "output_type": "stream",
     "text": [
      "\n",
      "🔍 Analyzing: 'He does not want to drink this'\n",
      "🎯 Predicted next word: 'time'\n",
      "\n",
      "📊 Top 10 candidates:\n",
      "   1. unk             (0.1353)\n",
      "   2. with            (0.0529)\n",
      "   3. to              (0.0496)\n",
      "   4. as              (0.0481)\n",
      "   5. in              (0.0475)\n",
      "   6. work            (0.0421)\n",
      "   7. use             (0.0342)\n",
      "   8. other           (0.0289)\n",
      "   9. name            (0.0271)\n",
      "  10. time            (0.0265)\n",
      "\n",
      "📝 Complete sentence: 'He does not want to drink this time'\n"
     ]
    },
    {
     "name": "stdin",
     "output_type": "stream",
     "text": [
      "\n",
      "Enter text:  He does not like this kind of \n"
     ]
    },
    {
     "name": "stdout",
     "output_type": "stream",
     "text": [
      "\n",
      "🔍 Analyzing: 'He does not like this kind of'\n",
      "🎯 Predicted next word: 'two'\n",
      "\n",
      "📊 Top 10 candidates:\n",
      "   1. the             (0.1570)\n",
      "   2. their           (0.0626)\n",
      "   3. a               (0.0570)\n",
      "   4. his             (0.0422)\n",
      "   5. unk             (0.0353)\n",
      "   6. ireland         (0.0305)\n",
      "   7. interest        (0.0260)\n",
      "   8. all             (0.0240)\n",
      "   9. each            (0.0233)\n",
      "  10. those           (0.0233)\n",
      "\n",
      "📝 Complete sentence: 'He does not like this kind of two'\n"
     ]
    },
    {
     "name": "stdin",
     "output_type": "stream",
     "text": [
      "\n",
      "Enter text:  Hello\n"
     ]
    },
    {
     "name": "stdout",
     "output_type": "stream",
     "text": [
      "\n",
      "🔍 Analyzing: 'Hello'\n",
      "🎯 Predicted next word: 'and'\n",
      "\n",
      "📊 Top 10 candidates:\n",
      "   1. unk             (0.3862)\n",
      "   2. and             (0.3561)\n",
      "   3. the             (0.0491)\n",
      "   4. in              (0.0238)\n",
      "   5. were            (0.0133)\n",
      "   6. which           (0.0103)\n",
      "   7. of              (0.0087)\n",
      "   8. university      (0.0077)\n",
      "   9. a               (0.0076)\n",
      "  10. who             (0.0076)\n",
      "\n",
      "📝 Complete sentence: 'Hello and'\n"
     ]
    },
    {
     "name": "stdin",
     "output_type": "stream",
     "text": [
      "\n",
      "Enter text:  How are\n"
     ]
    },
    {
     "name": "stdout",
     "output_type": "stream",
     "text": [
      "\n",
      "🔍 Analyzing: 'How are'\n",
      "🎯 Predicted next word: 'found'\n",
      "\n",
      "📊 Top 10 candidates:\n",
      "   1. also            (0.0793)\n",
      "   2. the             (0.0764)\n",
      "   3. a               (0.0539)\n",
      "   4. not             (0.0448)\n",
      "   5. one             (0.0417)\n",
      "   6. used            (0.0397)\n",
      "   7. unk             (0.0294)\n",
      "   8. made            (0.0287)\n",
      "   9. called          (0.0266)\n",
      "  10. in              (0.0251)\n",
      "\n",
      "📝 Complete sentence: 'How are found'\n"
     ]
    },
    {
     "name": "stdin",
     "output_type": "stream",
     "text": [
      "\n",
      "Enter text:  How are you, fine\n"
     ]
    },
    {
     "name": "stdout",
     "output_type": "stream",
     "text": [
      "\n",
      "🔍 Analyzing: 'How are you, fine'\n",
      "🎯 Predicted next word: 'and'\n",
      "\n",
      "📊 Top 10 candidates:\n",
      "   1. and             (0.6350)\n",
      "   2. unk             (0.1204)\n",
      "   3. the             (0.0433)\n",
      "   4. in              (0.0298)\n",
      "   5. with            (0.0241)\n",
      "   6. as              (0.0140)\n",
      "   7. to              (0.0128)\n",
      "   8. for             (0.0088)\n",
      "   9. or              (0.0087)\n",
      "  10. life            (0.0059)\n",
      "\n",
      "📝 Complete sentence: 'How are you, fine and'\n"
     ]
    },
    {
     "name": "stdin",
     "output_type": "stream",
     "text": [
      "\n",
      "Enter text:  How are you, find and\n"
     ]
    },
    {
     "name": "stdout",
     "output_type": "stream",
     "text": [
      "\n",
      "🔍 Analyzing: 'How are you, find and'\n",
      "🎯 Predicted next word: 'unk'\n",
      "\n",
      "📊 Top 10 candidates:\n",
      "   1. the             (0.1755)\n",
      "   2. a               (0.0967)\n",
      "   3. unk             (0.0864)\n",
      "   4. that            (0.0842)\n",
      "   5. as              (0.0489)\n",
      "   6. their           (0.0350)\n",
      "   7. by              (0.0348)\n",
      "   8. in              (0.0306)\n",
      "   9. for             (0.0229)\n",
      "  10. to              (0.0229)\n",
      "\n",
      "📝 Complete sentence: 'How are you, find and unk'\n"
     ]
    },
    {
     "name": "stdin",
     "output_type": "stream",
     "text": [
      "\n",
      "Enter text:  How are you, fine and\n"
     ]
    },
    {
     "name": "stdout",
     "output_type": "stream",
     "text": [
      "\n",
      "🔍 Analyzing: 'How are you, fine and'\n",
      "🎯 Predicted next word: 'the'\n",
      "\n",
      "📊 Top 10 candidates:\n",
      "   1. unk             (0.3697)\n",
      "   2. the             (0.2034)\n",
      "   3. other           (0.0370)\n",
      "   4. a               (0.0316)\n",
      "   5. was             (0.0235)\n",
      "   6. is              (0.0154)\n",
      "   7. and             (0.0153)\n",
      "   8. others          (0.0151)\n",
      "   9. in              (0.0133)\n",
      "  10. it              (0.0130)\n",
      "\n",
      "📝 Complete sentence: 'How are you, fine and the'\n"
     ]
    },
    {
     "name": "stdin",
     "output_type": "stream",
     "text": [
      "\n",
      "Enter text:  How are you, find and thank\n"
     ]
    },
    {
     "name": "stdout",
     "output_type": "stream",
     "text": [
      "\n",
      "🔍 Analyzing: 'How are you, find and thank'\n",
      "🎯 Predicted next word: 'when'\n",
      "\n",
      "📊 Top 10 candidates:\n",
      "   1. the             (0.1869)\n",
      "   2. by              (0.1784)\n",
      "   3. for             (0.0763)\n",
      "   4. a               (0.0529)\n",
      "   5. unk             (0.0462)\n",
      "   6. and             (0.0384)\n",
      "   7. in              (0.0366)\n",
      "   8. as              (0.0358)\n",
      "   9. to              (0.0271)\n",
      "  10. that            (0.0182)\n",
      "\n",
      "📝 Complete sentence: 'How are you, find and thank when'\n"
     ]
    },
    {
     "name": "stdin",
     "output_type": "stream",
     "text": [
      "\n",
      "Enter text:  How are you, fine and thank\n"
     ]
    },
    {
     "name": "stdout",
     "output_type": "stream",
     "text": [
      "\n",
      "🔍 Analyzing: 'How are you, fine and thank'\n",
      "🎯 Predicted next word: 'richard'\n",
      "\n",
      "📊 Top 10 candidates:\n",
      "   1. by              (0.1482)\n",
      "   2. the             (0.1446)\n",
      "   3. unk             (0.1255)\n",
      "   4. for             (0.0554)\n",
      "   5. and             (0.0469)\n",
      "   6. a               (0.0303)\n",
      "   7. in              (0.0259)\n",
      "   8. john            (0.0249)\n",
      "   9. it              (0.0236)\n",
      "  10. as              (0.0173)\n",
      "\n",
      "📝 Complete sentence: 'How are you, fine and thank richard'\n"
     ]
    },
    {
     "name": "stdin",
     "output_type": "stream",
     "text": [
      "\n",
      "Enter text:  How are you, fine and thank you.\n"
     ]
    },
    {
     "name": "stdout",
     "output_type": "stream",
     "text": [
      "\n",
      "🔍 Analyzing: 'How are you, fine and thank you.'\n",
      "🎯 Predicted next word: 'think'\n",
      "\n",
      "📊 Top 10 candidates:\n",
      "   1. have            (0.1389)\n",
      "   2. are             (0.0899)\n",
      "   3. and             (0.0662)\n",
      "   4. unk             (0.0654)\n",
      "   5. re              (0.0547)\n",
      "   6. were            (0.0524)\n",
      "   7. to              (0.0382)\n",
      "   8. was             (0.0378)\n",
      "   9. can             (0.0375)\n",
      "  10. had             (0.0271)\n",
      "\n",
      "📝 Complete sentence: 'How are you, fine and thank you. think'\n"
     ]
    }
   ],
   "source": [
    "# Test the trained model\n",
    "\n",
    "# Text Generation and Next Word Prediction\n",
    "\n",
    "import torch\n",
    "import torch.nn.functional as F\n",
    "\n",
    "def predict_next_word(model, input_text, vocab, idx_to_word, device, temperature=1.0, top_k=None):\n",
    "    \"\"\"\n",
    "    Predict the next word given an input text\n",
    "    \n",
    "    Args:\n",
    "        model: Trained GRU model\n",
    "        input_text: Input sentence as string\n",
    "        vocab: Vocabulary dictionary\n",
    "        idx_to_word: Index to word mapping\n",
    "        device: Device to run inference on\n",
    "        temperature: Sampling temperature (higher = more random)\n",
    "        top_k: If specified, only sample from top k most likely tokens\n",
    "    \n",
    "    Returns:\n",
    "        predicted_word: The predicted next word\n",
    "        probabilities: Top 10 word probabilities\n",
    "    \"\"\"\n",
    "    model.eval()\n",
    "    \n",
    "    with torch.no_grad():\n",
    "        # Tokenize input text\n",
    "        tokens = basic_tokenize(input_text)\n",
    "        if len(tokens) == 0:\n",
    "            return \"<unk>\", []\n",
    "        \n",
    "        # Convert to indices\n",
    "        indices = [vocab.get(token, vocab['<unk>']) for token in tokens]\n",
    "        \n",
    "        # Pad or truncate to sequence length (50)\n",
    "        sequence_length = 50\n",
    "        if len(indices) < sequence_length:\n",
    "            # Pad with <pad> tokens at the beginning\n",
    "            indices = [vocab['<pad>']] * (sequence_length - len(indices)) + indices\n",
    "        else:\n",
    "            # Take the last 50 tokens\n",
    "            indices = indices[-sequence_length:]\n",
    "        \n",
    "        # Convert to tensor\n",
    "        input_tensor = torch.tensor([indices], dtype=torch.long).to(device)  # [1, seq_len]\n",
    "        \n",
    "        # Forward pass\n",
    "        logits, hidden = model(input_tensor)\n",
    "        \n",
    "        # Get logits for the last token\n",
    "        last_logits = logits[0, -1, :]  # [vocab_size]\n",
    "        \n",
    "        # Apply temperature\n",
    "        if temperature != 1.0:\n",
    "            last_logits = last_logits / temperature\n",
    "        \n",
    "        # Apply top-k filtering if specified\n",
    "        if top_k is not None:\n",
    "            top_k = min(top_k, last_logits.size(-1))\n",
    "            top_k_logits, top_k_indices = torch.topk(last_logits, top_k)\n",
    "            # Set all other logits to negative infinity\n",
    "            filtered_logits = torch.full_like(last_logits, float('-inf'))\n",
    "            filtered_logits[top_k_indices] = top_k_logits\n",
    "            last_logits = filtered_logits\n",
    "        \n",
    "        # Convert to probabilities\n",
    "        probabilities = F.softmax(last_logits, dim=-1)\n",
    "        \n",
    "        # Get top 10 predictions for display\n",
    "        top_probs, top_indices = torch.topk(probabilities, 10)\n",
    "        top_words = [(idx_to_word[idx.item()], prob.item()) for idx, prob in zip(top_indices, top_probs)]\n",
    "        \n",
    "        # Sample from the distribution\n",
    "        predicted_idx = torch.multinomial(probabilities, 1).item()\n",
    "        predicted_word = idx_to_word[predicted_idx]\n",
    "        \n",
    "        return predicted_word, top_words\n",
    "\n",
    "def generate_text(model, seed_text, vocab, idx_to_word, device, num_words=10, temperature=1.0, top_k=50):\n",
    "    \"\"\"\n",
    "    Generate multiple words continuing from seed text\n",
    "    \n",
    "    Args:\n",
    "        model: Trained GRU model\n",
    "        seed_text: Starting text\n",
    "        vocab: Vocabulary dictionary\n",
    "        idx_to_word: Index to word mapping\n",
    "        device: Device to run inference on\n",
    "        num_words: Number of words to generate\n",
    "        temperature: Sampling temperature\n",
    "        top_k: Top-k sampling parameter\n",
    "    \n",
    "    Returns:\n",
    "        generated_text: Complete generated text\n",
    "    \"\"\"\n",
    "    model.eval()\n",
    "    \n",
    "    current_text = seed_text\n",
    "    generated_words = []\n",
    "    \n",
    "    print(f\"Seed text: '{seed_text}'\")\n",
    "    print(\"Generating words:\")\n",
    "    \n",
    "    for i in range(num_words):\n",
    "        predicted_word, top_words = predict_next_word(\n",
    "            model, current_text, vocab, idx_to_word, device, temperature, top_k\n",
    "        )\n",
    "        \n",
    "        # Skip special tokens\n",
    "        if predicted_word in ['<unk>', '<pad>']:\n",
    "            predicted_word = top_words[1][0] if len(top_words) > 1 else \"the\"\n",
    "        \n",
    "        generated_words.append(predicted_word)\n",
    "        current_text += \" \" + predicted_word\n",
    "        \n",
    "        print(f\"  {i+1}. {predicted_word} (top candidates: {[w[0] for w in top_words[:3]]})\")\n",
    "    \n",
    "    generated_text = seed_text + \" \" + \" \".join(generated_words)\n",
    "    return generated_text\n",
    "\n",
    "def interactive_prediction(model, vocab, idx_to_word, device):\n",
    "    \"\"\"\n",
    "    Interactive mode for testing the model\n",
    "    \"\"\"\n",
    "    print(\"\\n🤖 Interactive Text Prediction Mode\")\n",
    "    print(\"Enter a sentence and I'll predict the next word!\")\n",
    "    print(\"Type 'quit' to exit, 'generate' to generate multiple words\")\n",
    "    print(\"-\" * 60)\n",
    "    \n",
    "    while True:\n",
    "        user_input = input(\"\\nEnter text: \").strip()\n",
    "        \n",
    "        if user_input.lower() == 'quit':\n",
    "            print(\"Goodbye! 👋\")\n",
    "            break\n",
    "        \n",
    "        if user_input.lower() == 'generate':\n",
    "            seed_text = input(\"Enter seed text for generation: \").strip()\n",
    "            if seed_text:\n",
    "                num_words = int(input(\"How many words to generate? (default 10): \") or \"10\")\n",
    "                temperature = float(input(\"Temperature (0.1-2.0, default 1.0): \") or \"1.0\")\n",
    "                \n",
    "                print(f\"\\n🎯 Generating {num_words} words...\")\n",
    "                generated = generate_text(model, seed_text, vocab, idx_to_word, device, \n",
    "                                        num_words=num_words, temperature=temperature, top_k=50)\n",
    "                print(f\"\\n📝 Complete text: '{generated}'\")\n",
    "            continue\n",
    "        \n",
    "        if user_input:\n",
    "            print(f\"\\n🔍 Analyzing: '{user_input}'\")\n",
    "            \n",
    "            # Predict next word\n",
    "            predicted_word, top_words = predict_next_word(\n",
    "                model, user_input, vocab, idx_to_word, device, temperature=1.0, top_k=50\n",
    "            )\n",
    "            \n",
    "            print(f\"🎯 Predicted next word: '{predicted_word}'\")\n",
    "            print(f\"\\n📊 Top 10 candidates:\")\n",
    "            for i, (word, prob) in enumerate(top_words, 1):\n",
    "                print(f\"  {i:2d}. {word:<15} ({prob:.4f})\")\n",
    "            \n",
    "            # Show the complete sentence\n",
    "            complete_sentence = user_input + \" \" + predicted_word\n",
    "            print(f\"\\n📝 Complete sentence: '{complete_sentence}'\")\n",
    "\n",
    "# Test the model with some examples\n",
    "print(\"🧪 Testing the trained GRU model...\")\n",
    "\n",
    "# Example sentences to test\n",
    "test_sentences = [\n",
    "    \"The cat sat on the\",\n",
    "    \"I love to eat\",\n",
    "    \"The weather today is\",\n",
    "    \"Machine learning is\",\n",
    "    \"In the future we will\",\n",
    "    \"The president of the United\",\n",
    "    \"Scientists have discovered a new\",\n",
    "    \"The book was very\"\n",
    "]\n",
    "\n",
    "print(\"\\n📋 Testing with example sentences:\")\n",
    "print(\"=\" * 60)\n",
    "\n",
    "for i, sentence in enumerate(test_sentences, 1):\n",
    "    print(f\"\\n{i}. Input: '{sentence}'\")\n",
    "    \n",
    "    predicted_word, top_words = predict_next_word(\n",
    "        model, sentence, vocab, idx_to_word, device, temperature=0.8, top_k=50\n",
    "    )\n",
    "    \n",
    "    print(f\"   Predicted: '{predicted_word}'\")\n",
    "    print(f\"   Top 3: {[w[0] for w in top_words[:3]]}\")\n",
    "    print(f\"   Complete: '{sentence} {predicted_word}'\")\n",
    "\n",
    "# Start interactive mode\n",
    "interactive_prediction(model, vocab, idx_to_word, device)"
   ]
  },
  {
   "cell_type": "code",
   "execution_count": null,
   "metadata": {},
   "outputs": [],
   "source": []
  }
 ],
 "metadata": {
  "kernelspec": {
   "display_name": "Python 3 (ipykernel)",
   "language": "python",
   "name": "python3"
  },
  "language_info": {
   "codemirror_mode": {
    "name": "ipython",
    "version": 3
   },
   "file_extension": ".py",
   "mimetype": "text/x-python",
   "name": "python",
   "nbconvert_exporter": "python",
   "pygments_lexer": "ipython3",
   "version": "3.10.12"
  }
 },
 "nbformat": 4,
 "nbformat_minor": 4
}
