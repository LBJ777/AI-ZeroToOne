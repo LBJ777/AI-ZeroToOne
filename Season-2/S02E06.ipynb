{
 "cells": [
  {
   "cell_type": "markdown",
   "metadata": {},
   "source": [
    "# Coding: Language Model based on LSTM\n",
    "\n",
    " - Dataset: WikiText-2\n",
    " - Model: LSTM/GRU\n",
    " - Optimizer: Adam\n",
    " - Learning Rate: 0.001\n",
    " - Batch Size: 64\n",
    " - Epochs: 10\n",
    " - Dropout: 0.2"
   ]
  },
  {
   "cell_type": "code",
   "execution_count": 1,
   "metadata": {},
   "outputs": [
    {
     "name": "stdout",
     "output_type": "stream",
     "text": [
      "Using device: cuda\n",
      "Loading WikiText-2 dataset from Hugging Face...\n"
     ]
    },
    {
     "data": {
      "application/vnd.jupyter.widget-view+json": {
       "model_id": "912c068f8a144eb69dd7e1cf1aa3b58f",
       "version_major": 2,
       "version_minor": 0
      },
      "text/plain": [
       "README.md:   0%|          | 0.00/10.5k [00:00<?, ?B/s]"
      ]
     },
     "metadata": {},
     "output_type": "display_data"
    },
    {
     "data": {
      "application/vnd.jupyter.widget-view+json": {
       "model_id": "b1aab9701ede4ec797f5cd504d2d75b0",
       "version_major": 2,
       "version_minor": 0
      },
      "text/plain": [
       "test-00000-of-00001.parquet:   0%|          | 0.00/685k [00:00<?, ?B/s]"
      ]
     },
     "metadata": {},
     "output_type": "display_data"
    },
    {
     "data": {
      "application/vnd.jupyter.widget-view+json": {
       "model_id": "d455a16f3d49429097a2054ca5cfdedb",
       "version_major": 2,
       "version_minor": 0
      },
      "text/plain": [
       "train-00000-of-00001.parquet:   0%|          | 0.00/6.07M [00:00<?, ?B/s]"
      ]
     },
     "metadata": {},
     "output_type": "display_data"
    },
    {
     "data": {
      "application/vnd.jupyter.widget-view+json": {
       "model_id": "e3e949a069124bf59103ddce436d735b",
       "version_major": 2,
       "version_minor": 0
      },
      "text/plain": [
       "validation-00000-of-00001.parquet:   0%|          | 0.00/618k [00:00<?, ?B/s]"
      ]
     },
     "metadata": {},
     "output_type": "display_data"
    },
    {
     "data": {
      "application/vnd.jupyter.widget-view+json": {
       "model_id": "b1a5a52264fa420c91b002b693bb2b90",
       "version_major": 2,
       "version_minor": 0
      },
      "text/plain": [
       "Generating test split:   0%|          | 0/4358 [00:00<?, ? examples/s]"
      ]
     },
     "metadata": {},
     "output_type": "display_data"
    },
    {
     "data": {
      "application/vnd.jupyter.widget-view+json": {
       "model_id": "74114b2cbf6944cdae729121266190a8",
       "version_major": 2,
       "version_minor": 0
      },
      "text/plain": [
       "Generating train split:   0%|          | 0/36718 [00:00<?, ? examples/s]"
      ]
     },
     "metadata": {},
     "output_type": "display_data"
    },
    {
     "data": {
      "application/vnd.jupyter.widget-view+json": {
       "model_id": "d7a7242781ab49c6aeb553d7c8d48d95",
       "version_major": 2,
       "version_minor": 0
      },
      "text/plain": [
       "Generating validation split:   0%|          | 0/3760 [00:00<?, ? examples/s]"
      ]
     },
     "metadata": {},
     "output_type": "display_data"
    },
    {
     "name": "stdout",
     "output_type": "stream",
     "text": [
      "Train dataset size: 36718\n",
      "Validation dataset size: 3760\n",
      "Test dataset size: 4358\n",
      "\n",
      "Looking for non-empty samples...\n",
      "Found non-empty sample at index 1\n",
      "First sample:  = Valkyria Chronicles III = \n",
      "\n",
      "\n",
      "Building vocabulary...\n",
      "Non-empty lines: 23767\n",
      "Total tokens: 1750345\n",
      "Vocabulary size: 28710\n",
      "Final vocabulary size (with special tokens): 28712\n",
      "Most common words: [('the', 130768), ('of', 57030), ('unk', 54625), ('and', 50735), ('in', 45015), ('to', 39521), ('a', 36523), ('was', 21008), ('on', 15140), ('as', 15058)]\n",
      "\n",
      "Sample tokenization:\n",
      "Original:  = Valkyria Chronicles III = \n",
      "\n",
      "Tokens: ['valkyria', 'chronicles', 'iii']\n",
      "Indices: [3767, 3830, 860]\n",
      "\n",
      "Dataset loaded successfully!\n"
     ]
    }
   ],
   "source": [
    "# Load WikiText-2 Dataset using Hugging Face datasets\n",
    "\n",
    "import torch\n",
    "from datasets import load_dataset\n",
    "from torch.utils.data import DataLoader\n",
    "from collections import Counter\n",
    "import re\n",
    "\n",
    "# Set device\n",
    "device = torch.device('cuda' if torch.cuda.is_available() else 'cpu')\n",
    "print(f'Using device: {device}')\n",
    "\n",
    "# Load WikiText-2 dataset from Hugging Face\n",
    "print(\"Loading WikiText-2 dataset from Hugging Face...\")\n",
    "dataset = load_dataset(\"wikitext\", \"wikitext-2-v1\")\n",
    "\n",
    "# Access the splits\n",
    "train_dataset = dataset['train']\n",
    "val_dataset = dataset['validation']\n",
    "test_dataset = dataset['test']\n",
    "\n",
    "print(f\"Train dataset size: {len(train_dataset)}\")\n",
    "print(f\"Validation dataset size: {len(val_dataset)}\")\n",
    "print(f\"Test dataset size: {len(test_dataset)}\")\n",
    "\n",
    "# Show a sample\n",
    "# Find a non-empty sample\n",
    "print(f\"\\nLooking for non-empty samples...\")\n",
    "sample_text = None\n",
    "for i, example in enumerate(train_dataset):\n",
    "    if example['text'].strip():  # Find first non-empty line\n",
    "        sample_text = example['text']\n",
    "        print(f\"Found non-empty sample at index {i}\")\n",
    "        break\n",
    "print(f\"First sample: {sample_text[:200]}\")\n",
    "\n",
    "# Basic tokenization function\n",
    "def basic_tokenize(text):\n",
    "    # Convert to lowercase and split on whitespace and punctuation\n",
    "    text = text.lower()\n",
    "    tokens = re.findall(r'\\b\\w+\\b', text)\n",
    "    return tokens\n",
    "\n",
    "# Build vocabulary from training data\n",
    "print(\"\\nBuilding vocabulary...\")\n",
    "all_tokens = []\n",
    "non_empty_lines = 0\n",
    "for example in train_dataset:\n",
    "    if example['text'].strip():  # Skip empty lines\n",
    "        tokens = basic_tokenize(example['text'])\n",
    "        all_tokens.extend(tokens)\n",
    "        non_empty_lines += 1\n",
    "\n",
    "# Create vocabulary\n",
    "vocab_counter = Counter(all_tokens)\n",
    "vocab_size = len(vocab_counter)\n",
    "print(f\"Non-empty lines: {non_empty_lines}\")\n",
    "print(f\"Total tokens: {len(all_tokens)}\")\n",
    "print(f\"Vocabulary size: {vocab_size}\")\n",
    "\n",
    "# Create word to index mapping\n",
    "vocab = {'<unk>': 0, '<pad>': 1}\n",
    "for word, count in vocab_counter.most_common():\n",
    "    if word not in vocab:\n",
    "        vocab[word] = len(vocab)\n",
    "\n",
    "# Create index to word mapping\n",
    "idx_to_word = {idx: word for word, idx in vocab.items()}\n",
    "\n",
    "print(f\"Final vocabulary size (with special tokens): {len(vocab)}\")\n",
    "print(f\"Most common words: {list(vocab_counter.most_common(10))}\")\n",
    "\n",
    "# Function to convert text to indices\n",
    "def text_to_indices(text, vocab):\n",
    "    tokens = basic_tokenize(text)\n",
    "    return [vocab.get(token, vocab['<unk>']) for token in tokens]\n",
    "\n",
    "# Convert a sample to see the tokenization\n",
    "sample_indices = text_to_indices(sample_text, vocab)\n",
    "print(f\"\\nSample tokenization:\")\n",
    "print(f\"Original: {sample_text[:100]}\")\n",
    "print(f\"Tokens: {basic_tokenize(sample_text)[:20]}\")\n",
    "print(f\"Indices: {sample_indices[:20]}\")\n",
    "\n",
    "print(\"\\nDataset loaded successfully!\")"
   ]
  },
  {
   "cell_type": "code",
   "execution_count": 2,
   "metadata": {},
   "outputs": [
    {
     "name": "stdout",
     "output_type": "stream",
     "text": [
      "Creating training dataset...\n",
      "Processing dataset with sequence length: 50\n",
      "Total tokens in dataset: 1750345\n",
      "Created 1750295 sequences\n",
      "\n",
      "Creating validation dataset...\n",
      "Processing dataset with sequence length: 50\n",
      "Total tokens in dataset: 183606\n",
      "Created 183556 sequences\n",
      "\n",
      "Creating test dataset...\n",
      "Processing dataset with sequence length: 50\n",
      "Total tokens in dataset: 206381\n",
      "Created 206331 sequences\n",
      "\n",
      "DataLoader Summary:\n",
      "Training batches: 27349\n",
      "Validation batches: 2869\n",
      "Test batches: 3224\n",
      "Batch size: 64\n",
      "Sequence length: 50\n",
      "\n",
      "Testing DataLoader...\n",
      "Batch 1:\n",
      "  Sequences shape: torch.Size([64, 50])\n",
      "  Targets shape: torch.Size([64])\n",
      "  Sample sequence: [4069, 402, 1436, 755, 3324, 178, 413, 686, 198, 8]\n",
      "  Sample target: 2\n",
      "  Sample words: ['hawaii', 'reported', '70', 'mph', '110', 'km', 'h', 'winds', 'within', 'a', 'storm', 'prompting', 'the', 'jtwc', 'to', 'initiate', 'advisories', 'on', 'tropical', 'storm', 'dot', 'despite', 'an', 'apparent', 'correlation', 'between', 'dot', 'and', 'the', 'preceding', 'unnamed', 'tropical', 'cyclone', 'the', 'lack', 'of', 'ship', 'reports', 'between', 'july', '27', 'and', 'august', '1', 'prevented', 'the', 'agency', 'from', 'confirming', 'that']\n",
      "  Target word: the\n",
      "\n",
      "DataLoader created successfully!\n"
     ]
    }
   ],
   "source": [
    "# Data Preprocess & Init DataLoader\n",
    "\n",
    "import torch\n",
    "from torch.utils.data import Dataset, DataLoader\n",
    "import torch.nn.functional as F\n",
    "\n",
    "class WikiTextDataset(Dataset):\n",
    "    def __init__(self, hf_dataset, vocab, sequence_length=50):\n",
    "        \"\"\"\n",
    "        Custom Dataset for WikiText-2\n",
    "        \n",
    "        Args:\n",
    "            hf_dataset: Hugging Face dataset split\n",
    "            vocab: vocabulary dictionary\n",
    "            sequence_length: length of input sequences\n",
    "        \"\"\"\n",
    "        self.vocab = vocab\n",
    "        self.sequence_length = sequence_length\n",
    "        \n",
    "        # Process all text and create sequences\n",
    "        self.sequences = []\n",
    "        self.targets = []\n",
    "        \n",
    "        print(f\"Processing dataset with sequence length: {sequence_length}\")\n",
    "        \n",
    "        # Concatenate all non-empty text and tokenize\n",
    "        all_indices = []\n",
    "        for example in hf_dataset:\n",
    "            if example['text'].strip():  # Skip empty lines\n",
    "                indices = text_to_indices(example['text'], vocab)\n",
    "                all_indices.extend(indices)\n",
    "        \n",
    "        print(f\"Total tokens in dataset: {len(all_indices)}\")\n",
    "        \n",
    "        # Create sequences of specified length\n",
    "        for i in range(len(all_indices) - sequence_length):\n",
    "            # Input sequence\n",
    "            seq = all_indices[i:i + sequence_length]\n",
    "            # Target is the next token\n",
    "            target = all_indices[i + sequence_length]\n",
    "            \n",
    "            self.sequences.append(seq)\n",
    "            self.targets.append(target)\n",
    "        \n",
    "        print(f\"Created {len(self.sequences)} sequences\")\n",
    "    \n",
    "    def __len__(self):\n",
    "        return len(self.sequences)\n",
    "    \n",
    "    def __getitem__(self, idx):\n",
    "        return (\n",
    "            torch.tensor(self.sequences[idx], dtype=torch.long),\n",
    "            torch.tensor(self.targets[idx], dtype=torch.long)\n",
    "        )\n",
    "\n",
    "# Create datasets\n",
    "sequence_length = 50\n",
    "batch_size = 64\n",
    "\n",
    "print(\"Creating training dataset...\")\n",
    "train_wiki_dataset = WikiTextDataset(train_dataset, vocab, sequence_length)\n",
    "\n",
    "print(\"\\nCreating validation dataset...\")\n",
    "val_wiki_dataset = WikiTextDataset(val_dataset, vocab, sequence_length)\n",
    "\n",
    "print(\"\\nCreating test dataset...\")\n",
    "test_wiki_dataset = WikiTextDataset(test_dataset, vocab, sequence_length)\n",
    "\n",
    "# Create DataLoaders\n",
    "train_loader = DataLoader(\n",
    "    train_wiki_dataset, \n",
    "    batch_size=batch_size, \n",
    "    shuffle=True, \n",
    "    num_workers=0  # Set to 0 for compatibility\n",
    ")\n",
    "\n",
    "val_loader = DataLoader(\n",
    "    val_wiki_dataset, \n",
    "    batch_size=batch_size, \n",
    "    shuffle=False, \n",
    "    num_workers=0\n",
    ")\n",
    "\n",
    "test_loader = DataLoader(\n",
    "    test_wiki_dataset, \n",
    "    batch_size=batch_size, \n",
    "    shuffle=False, \n",
    "    num_workers=0\n",
    ")\n",
    "\n",
    "print(f\"\\nDataLoader Summary:\")\n",
    "print(f\"Training batches: {len(train_loader)}\")\n",
    "print(f\"Validation batches: {len(val_loader)}\")\n",
    "print(f\"Test batches: {len(test_loader)}\")\n",
    "print(f\"Batch size: {batch_size}\")\n",
    "print(f\"Sequence length: {sequence_length}\")\n",
    "\n",
    "# Test the DataLoader\n",
    "print(\"\\nTesting DataLoader...\")\n",
    "for batch_idx, (sequences, targets) in enumerate(train_loader):\n",
    "    print(f\"Batch {batch_idx + 1}:\")\n",
    "    print(f\"  Sequences shape: {sequences.shape}\")\n",
    "    print(f\"  Targets shape: {targets.shape}\")\n",
    "    print(f\"  Sample sequence: {sequences[0][:10].tolist()}\")\n",
    "    print(f\"  Sample target: {targets[0].item()}\")\n",
    "    \n",
    "    # Convert back to words for verification\n",
    "    sample_words = [idx_to_word[idx.item()] for idx in sequences[0]]\n",
    "    target_word = idx_to_word[targets[0].item()]\n",
    "    print(f\"  Sample words: {sample_words}\")\n",
    "    print(f\"  Target word: {target_word}\")\n",
    "    break  # Only show first batch\n",
    "\n",
    "print(\"\\nDataLoader created successfully!\")"
   ]
  },
  {
   "cell_type": "code",
   "execution_count": 3,
   "metadata": {},
   "outputs": [
    {
     "name": "stdout",
     "output_type": "stream",
     "text": [
      "\n",
      "GRU Language Model Summary:\n",
      "Vocabulary size: 28,712\n",
      "Embedding dimension: 128\n",
      "Hidden dimension: 256\n",
      "Number of layers: 2\n",
      "Dropout: 0.2\n",
      "Total parameters: 11,745,320\n",
      "Trainable parameters: 11,745,320\n",
      "Model device: cuda:0\n",
      "\n",
      "Testing model with sample batch...\n",
      "Input shape: torch.Size([64, 50])\n",
      "Output logits shape: torch.Size([64, 50, 28712])\n",
      "Hidden state shape: torch.Size([2, 64, 256])\n",
      "Target shape: torch.Size([64])\n",
      "Sample loss: 10.2650\n",
      "Sample accuracy: 0.0000\n",
      "\n",
      "Model initialized successfully!\n"
     ]
    }
   ],
   "source": [
    "# GRU Language Model Implementation\n",
    "\n",
    "import torch\n",
    "import torch.nn as nn\n",
    "import torch.optim as optim\n",
    "import torch.nn.functional as F\n",
    "import math\n",
    "\n",
    "class GRULanguageModel(nn.Module):\n",
    "    def __init__(self, vocab_size, embedding_dim=256, hidden_dim=512, num_layers=2, dropout=0.2):\n",
    "        \"\"\"\n",
    "        GRU-based Language Model for next word prediction\n",
    "        \n",
    "        Args:\n",
    "            vocab_size: Size of vocabulary\n",
    "            embedding_dim: Dimension of word embeddings\n",
    "            hidden_dim: Hidden dimension of GRU\n",
    "            num_layers: Number of GRU layers\n",
    "            dropout: Dropout probability\n",
    "        \"\"\"\n",
    "        super(GRULanguageModel, self).__init__()\n",
    "        \n",
    "        self.vocab_size = vocab_size\n",
    "        self.embedding_dim = embedding_dim\n",
    "        self.hidden_dim = hidden_dim\n",
    "        self.num_layers = num_layers\n",
    "        self.dropout = dropout\n",
    "        \n",
    "        # Word embedding layer\n",
    "        self.embedding = nn.Embedding(vocab_size, embedding_dim)\n",
    "        \n",
    "        # GRU layer(s)\n",
    "        self.gru = nn.GRU(\n",
    "            input_size=embedding_dim,\n",
    "            hidden_size=hidden_dim,\n",
    "            num_layers=num_layers,\n",
    "            dropout=dropout if num_layers > 1 else 0,\n",
    "            batch_first=True\n",
    "        )\n",
    "        \n",
    "        # Dropout layer\n",
    "        self.dropout_layer = nn.Dropout(dropout)\n",
    "        \n",
    "        # Output projection layer\n",
    "        self.output_projection = nn.Linear(hidden_dim, vocab_size)\n",
    "        \n",
    "        # Initialize weights\n",
    "        self.init_weights()\n",
    "    \n",
    "    def init_weights(self):\n",
    "        \"\"\"Initialize model weights\"\"\"\n",
    "        # Initialize embedding weights\n",
    "        nn.init.uniform_(self.embedding.weight, -0.1, 0.1)\n",
    "        \n",
    "        # Initialize GRU weights\n",
    "        for name, param in self.gru.named_parameters():\n",
    "            if 'weight' in name:\n",
    "                nn.init.orthogonal_(param)\n",
    "            elif 'bias' in name:\n",
    "                nn.init.zeros_(param)\n",
    "        \n",
    "        # Initialize output layer\n",
    "        nn.init.xavier_uniform_(self.output_projection.weight)\n",
    "        nn.init.zeros_(self.output_projection.bias)\n",
    "    \n",
    "    def forward(self, input_ids, hidden=None):\n",
    "        \"\"\"\n",
    "        Forward pass\n",
    "        \n",
    "        Args:\n",
    "            input_ids: Input token indices [batch_size, seq_len]\n",
    "            hidden: Hidden state from previous step\n",
    "            \n",
    "        Returns:\n",
    "            logits: Output logits [batch_size, seq_len, vocab_size]\n",
    "            hidden: Final hidden state\n",
    "        \"\"\"\n",
    "        batch_size, seq_len = input_ids.size()\n",
    "        \n",
    "        # Word embeddings\n",
    "        embeddings = self.embedding(input_ids)  # [batch_size, seq_len, embedding_dim]\n",
    "        \n",
    "        # GRU forward pass, 2 layers by default\n",
    "        gru_output, hidden = self.gru(embeddings, hidden)  # [batch_size, seq_len, hidden_dim]\n",
    "        \n",
    "        # Apply dropout to GRU output\n",
    "        gru_output = self.dropout_layer(gru_output)\n",
    "        \n",
    "        # Project to vocabulary size\n",
    "        logits = self.output_projection(gru_output)  # [batch_size, seq_len, vocab_size]\n",
    "        \n",
    "        return logits, hidden\n",
    "    \n",
    "    def init_hidden(self, batch_size):\n",
    "        \"\"\"Initialize hidden state\"\"\"\n",
    "        return torch.zeros(self.num_layers, batch_size, self.hidden_dim).to(next(self.parameters()).device)\n",
    "\n",
    "# Model hyperparameters\n",
    "vocab_size = len(vocab)\n",
    "embedding_dim = 128\n",
    "hidden_dim = 256\n",
    "num_layers = 2\n",
    "dropout = 0.2\n",
    "learning_rate = 0.0001\n",
    "\n",
    "# Initialize model\n",
    "model = GRULanguageModel(\n",
    "    vocab_size=vocab_size,\n",
    "    embedding_dim=embedding_dim,\n",
    "    hidden_dim=hidden_dim,\n",
    "    num_layers=num_layers,\n",
    "    dropout=dropout\n",
    ")\n",
    "\n",
    "# Move model to device\n",
    "model = model.to(device)\n",
    "\n",
    "# Loss function and optimizer\n",
    "criterion = nn.CrossEntropyLoss(ignore_index=vocab['<pad>'])  # Ignore padding tokens\n",
    "optimizer = optim.Adam(model.parameters(), lr=learning_rate)\n",
    "# Should try LR-Scheduler? If you use it, make the initial LR=0.001\n",
    "# scheduler = torch.optim.lr_scheduler.ReduceLROnPlateau(optimizer, factor=0.5, patience=2)\n",
    "\n",
    "# Print model information\n",
    "total_params = sum(p.numel() for p in model.parameters())\n",
    "trainable_params = sum(p.numel() for p in model.parameters() if p.requires_grad)\n",
    "\n",
    "print(f\"\\nGRU Language Model Summary:\")\n",
    "print(f\"Vocabulary size: {vocab_size:,}\")\n",
    "print(f\"Embedding dimension: {embedding_dim}\")\n",
    "print(f\"Hidden dimension: {hidden_dim}\")\n",
    "print(f\"Number of layers: {num_layers}\")\n",
    "print(f\"Dropout: {dropout}\")\n",
    "print(f\"Total parameters: {total_params:,}\")\n",
    "print(f\"Trainable parameters: {trainable_params:,}\")\n",
    "print(f\"Model device: {next(model.parameters()).device}\")\n",
    "\n",
    "# Test the model with a sample batch\n",
    "print(f\"\\nTesting model with sample batch...\")\n",
    "model.eval()\n",
    "with torch.no_grad():\n",
    "    # Get a sample batch\n",
    "    sample_sequences, sample_targets = next(iter(train_loader))\n",
    "    sample_sequences = sample_sequences.to(device)\n",
    "    sample_targets = sample_targets.to(device)\n",
    "    \n",
    "    # Forward pass\n",
    "    logits, hidden = model(sample_sequences)\n",
    "    \n",
    "    print(f\"Input shape: {sample_sequences.shape}\")\n",
    "    print(f\"Output logits shape: {logits.shape}\")\n",
    "    print(f\"Hidden state shape: {hidden.shape}\")\n",
    "    print(f\"Target shape: {sample_targets.shape}\")\n",
    "    \n",
    "    # Calculate loss for the last token prediction\n",
    "    last_token_logits = logits[:, -1, :]  # [batch_size, vocab_size]\n",
    "    loss = criterion(last_token_logits, sample_targets)\n",
    "    print(f\"Sample loss: {loss.item():.4f}\")\n",
    "    \n",
    "    # Get predictions\n",
    "    predictions = torch.argmax(last_token_logits, dim=-1)\n",
    "    accuracy = (predictions == sample_targets).float().mean()\n",
    "    print(f\"Sample accuracy: {accuracy.item():.4f}\")\n",
    "\n",
    "print(f\"\\nModel initialized successfully!\")"
   ]
  },
  {
   "cell_type": "code",
   "execution_count": 4,
   "metadata": {},
   "outputs": [
    {
     "name": "stdout",
     "output_type": "stream",
     "text": [
      "🚀 Starting GRU Language Model Training...\n",
      "Model has 11,745,320 parameters\n",
      "Starting training for 10 epochs...\n",
      "Training batches: 27349\n",
      "Validation batches: 2869\n",
      "------------------------------------------------------------\n"
     ]
    },
    {
     "name": "stderr",
     "output_type": "stream",
     "text": [
      "Epoch 1 Training:   4%|▎         | 1011/27349 [00:12<05:13, 83.90it/s, Loss=7.7516, Acc=0.0735]"
     ]
    },
    {
     "name": "stdout",
     "output_type": "stream",
     "text": [
      "\n",
      "Batch 1000/27349:\n",
      "  Loss: 7.7534\n",
      "  Accuracy: 0.0737\n"
     ]
    },
    {
     "name": "stderr",
     "output_type": "stream",
     "text": [
      "Epoch 1 Training:   7%|▋         | 2011/27349 [00:24<04:44, 89.07it/s, Loss=7.5865, Acc=0.0739]"
     ]
    },
    {
     "name": "stdout",
     "output_type": "stream",
     "text": [
      "\n",
      "Batch 2000/27349:\n",
      "  Loss: 7.5885\n",
      "  Accuracy: 0.0740\n"
     ]
    },
    {
     "name": "stderr",
     "output_type": "stream",
     "text": [
      "Epoch 1 Training:  11%|█         | 3007/27349 [00:37<05:36, 72.38it/s, Loss=7.5024, Acc=0.0770]"
     ]
    },
    {
     "name": "stdout",
     "output_type": "stream",
     "text": [
      "\n",
      "Batch 3000/27349:\n",
      "  Loss: 7.5036\n",
      "  Accuracy: 0.0770\n"
     ]
    },
    {
     "name": "stderr",
     "output_type": "stream",
     "text": [
      "Epoch 1 Training:  15%|█▍        | 4012/27349 [00:50<04:48, 80.94it/s, Loss=7.4338, Acc=0.0805]"
     ]
    },
    {
     "name": "stdout",
     "output_type": "stream",
     "text": [
      "\n",
      "Batch 4000/27349:\n",
      "  Loss: 7.4336\n",
      "  Accuracy: 0.0805\n"
     ]
    },
    {
     "name": "stderr",
     "output_type": "stream",
     "text": [
      "Epoch 1 Training:  18%|█▊        | 5014/27349 [01:02<05:16, 70.61it/s, Loss=7.3793, Acc=0.0832]"
     ]
    },
    {
     "name": "stdout",
     "output_type": "stream",
     "text": [
      "\n",
      "Batch 5000/27349:\n",
      "  Loss: 7.3798\n",
      "  Accuracy: 0.0832\n"
     ]
    },
    {
     "name": "stderr",
     "output_type": "stream",
     "text": [
      "Epoch 1 Training:  22%|██▏       | 6008/27349 [01:16<04:49, 73.84it/s, Loss=7.3384, Acc=0.0851]"
     ]
    },
    {
     "name": "stdout",
     "output_type": "stream",
     "text": [
      "\n",
      "Batch 6000/27349:\n",
      "  Loss: 7.3388\n",
      "  Accuracy: 0.0851\n"
     ]
    },
    {
     "name": "stderr",
     "output_type": "stream",
     "text": [
      "Epoch 1 Training:  26%|██▌       | 7008/27349 [01:30<04:48, 70.54it/s, Loss=7.3072, Acc=0.0864]"
     ]
    },
    {
     "name": "stdout",
     "output_type": "stream",
     "text": [
      "\n",
      "Batch 7000/27349:\n",
      "  Loss: 7.3071\n",
      "  Accuracy: 0.0864\n"
     ]
    },
    {
     "name": "stderr",
     "output_type": "stream",
     "text": [
      "Epoch 1 Training:  29%|██▉       | 8014/27349 [01:44<03:50, 83.87it/s, Loss=7.2775, Acc=0.0879]"
     ]
    },
    {
     "name": "stdout",
     "output_type": "stream",
     "text": [
      "\n",
      "Batch 8000/27349:\n",
      "  Loss: 7.2781\n",
      "  Accuracy: 0.0878\n"
     ]
    },
    {
     "name": "stderr",
     "output_type": "stream",
     "text": [
      "Epoch 1 Training:  33%|███▎      | 9008/27349 [01:57<04:04, 74.91it/s, Loss=7.2532, Acc=0.0894]"
     ]
    },
    {
     "name": "stdout",
     "output_type": "stream",
     "text": [
      "\n",
      "Batch 9000/27349:\n",
      "  Loss: 7.2535\n",
      "  Accuracy: 0.0894\n"
     ]
    },
    {
     "name": "stderr",
     "output_type": "stream",
     "text": [
      "Epoch 1 Training:  37%|███▋      | 10008/27349 [02:10<03:50, 75.19it/s, Loss=7.2320, Acc=0.0907]"
     ]
    },
    {
     "name": "stdout",
     "output_type": "stream",
     "text": [
      "\n",
      "Batch 10000/27349:\n",
      "  Loss: 7.2323\n",
      "  Accuracy: 0.0907\n"
     ]
    },
    {
     "name": "stderr",
     "output_type": "stream",
     "text": [
      "Epoch 1 Training:  40%|████      | 11008/27349 [02:23<03:39, 74.60it/s, Loss=7.2109, Acc=0.0921]"
     ]
    },
    {
     "name": "stdout",
     "output_type": "stream",
     "text": [
      "\n",
      "Batch 11000/27349:\n",
      "  Loss: 7.2110\n",
      "  Accuracy: 0.0921\n"
     ]
    },
    {
     "name": "stderr",
     "output_type": "stream",
     "text": [
      "Epoch 1 Training:  44%|████▍     | 12008/27349 [02:37<03:24, 74.85it/s, Loss=7.1923, Acc=0.0933]"
     ]
    },
    {
     "name": "stdout",
     "output_type": "stream",
     "text": [
      "\n",
      "Batch 12000/27349:\n",
      "  Loss: 7.1928\n",
      "  Accuracy: 0.0932\n"
     ]
    },
    {
     "name": "stderr",
     "output_type": "stream",
     "text": [
      "Epoch 1 Training:  48%|████▊     | 13008/27349 [02:50<03:27, 69.27it/s, Loss=7.1754, Acc=0.0945]"
     ]
    },
    {
     "name": "stdout",
     "output_type": "stream",
     "text": [
      "\n",
      "Batch 13000/27349:\n",
      "  Loss: 7.1756\n",
      "  Accuracy: 0.0945\n"
     ]
    },
    {
     "name": "stderr",
     "output_type": "stream",
     "text": [
      "Epoch 1 Training:  51%|█████     | 14009/27349 [03:04<03:07, 71.09it/s, Loss=7.1578, Acc=0.0956]"
     ]
    },
    {
     "name": "stdout",
     "output_type": "stream",
     "text": [
      "\n",
      "Batch 14000/27349:\n",
      "  Loss: 7.1582\n",
      "  Accuracy: 0.0956\n"
     ]
    },
    {
     "name": "stderr",
     "output_type": "stream",
     "text": [
      "Epoch 1 Training:  55%|█████▍    | 15014/27349 [03:18<02:48, 73.33it/s, Loss=7.1409, Acc=0.0968]"
     ]
    },
    {
     "name": "stdout",
     "output_type": "stream",
     "text": [
      "\n",
      "Batch 15000/27349:\n",
      "  Loss: 7.1411\n",
      "  Accuracy: 0.0968\n"
     ]
    },
    {
     "name": "stderr",
     "output_type": "stream",
     "text": [
      "Epoch 1 Training:  59%|█████▊    | 16011/27349 [03:32<02:32, 74.43it/s, Loss=7.1233, Acc=0.0979]"
     ]
    },
    {
     "name": "stdout",
     "output_type": "stream",
     "text": [
      "\n",
      "Batch 16000/27349:\n",
      "  Loss: 7.1236\n",
      "  Accuracy: 0.0979\n"
     ]
    },
    {
     "name": "stderr",
     "output_type": "stream",
     "text": [
      "Epoch 1 Training:  62%|██████▏   | 17011/27349 [03:46<02:22, 72.31it/s, Loss=7.1085, Acc=0.0990]"
     ]
    },
    {
     "name": "stdout",
     "output_type": "stream",
     "text": [
      "\n",
      "Batch 17000/27349:\n",
      "  Loss: 7.1086\n",
      "  Accuracy: 0.0989\n"
     ]
    },
    {
     "name": "stderr",
     "output_type": "stream",
     "text": [
      "Epoch 1 Training:  66%|██████▌   | 18015/27349 [03:59<01:49, 85.10it/s, Loss=7.0932, Acc=0.1001]"
     ]
    },
    {
     "name": "stdout",
     "output_type": "stream",
     "text": [
      "\n",
      "Batch 18000/27349:\n",
      "  Loss: 7.0934\n",
      "  Accuracy: 0.1000\n"
     ]
    },
    {
     "name": "stderr",
     "output_type": "stream",
     "text": [
      "Epoch 1 Training:  70%|██████▉   | 19009/27349 [04:11<01:54, 73.00it/s, Loss=7.0786, Acc=0.1010]"
     ]
    },
    {
     "name": "stdout",
     "output_type": "stream",
     "text": [
      "\n",
      "Batch 19000/27349:\n",
      "  Loss: 7.0787\n",
      "  Accuracy: 0.1010\n"
     ]
    },
    {
     "name": "stderr",
     "output_type": "stream",
     "text": [
      "Epoch 1 Training:  73%|███████▎  | 20008/27349 [04:23<01:40, 73.39it/s, Loss=7.0658, Acc=0.1019]"
     ]
    },
    {
     "name": "stdout",
     "output_type": "stream",
     "text": [
      "\n",
      "Batch 20000/27349:\n",
      "  Loss: 7.0660\n",
      "  Accuracy: 0.1019\n"
     ]
    },
    {
     "name": "stderr",
     "output_type": "stream",
     "text": [
      "Epoch 1 Training:  77%|███████▋  | 21007/27349 [04:37<01:29, 70.96it/s, Loss=7.0528, Acc=0.1028]"
     ]
    },
    {
     "name": "stdout",
     "output_type": "stream",
     "text": [
      "\n",
      "Batch 21000/27349:\n",
      "  Loss: 7.0529\n",
      "  Accuracy: 0.1028\n"
     ]
    },
    {
     "name": "stderr",
     "output_type": "stream",
     "text": [
      "Epoch 1 Training:  80%|████████  | 22014/27349 [04:51<01:07, 79.16it/s, Loss=7.0400, Acc=0.1037]"
     ]
    },
    {
     "name": "stdout",
     "output_type": "stream",
     "text": [
      "\n",
      "Batch 22000/27349:\n",
      "  Loss: 7.0401\n",
      "  Accuracy: 0.1037\n"
     ]
    },
    {
     "name": "stderr",
     "output_type": "stream",
     "text": [
      "Epoch 1 Training:  84%|████████▍ | 23010/27349 [05:02<00:52, 83.12it/s, Loss=7.0274, Acc=0.1047]"
     ]
    },
    {
     "name": "stdout",
     "output_type": "stream",
     "text": [
      "\n",
      "Batch 23000/27349:\n",
      "  Loss: 7.0276\n",
      "  Accuracy: 0.1047\n"
     ]
    },
    {
     "name": "stderr",
     "output_type": "stream",
     "text": [
      "Epoch 1 Training:  88%|████████▊ | 24009/27349 [05:14<00:38, 85.65it/s, Loss=7.0157, Acc=0.1055]"
     ]
    },
    {
     "name": "stdout",
     "output_type": "stream",
     "text": [
      "\n",
      "Batch 24000/27349:\n",
      "  Loss: 7.0159\n",
      "  Accuracy: 0.1055\n"
     ]
    },
    {
     "name": "stderr",
     "output_type": "stream",
     "text": [
      "Epoch 1 Training:  91%|█████████▏| 25012/27349 [05:28<00:30, 76.66it/s, Loss=7.0037, Acc=0.1064]"
     ]
    },
    {
     "name": "stdout",
     "output_type": "stream",
     "text": [
      "\n",
      "Batch 25000/27349:\n",
      "  Loss: 7.0040\n",
      "  Accuracy: 0.1064\n"
     ]
    },
    {
     "name": "stderr",
     "output_type": "stream",
     "text": [
      "Epoch 1 Training:  95%|█████████▌| 26007/27349 [05:42<00:18, 70.64it/s, Loss=6.9918, Acc=0.1074]"
     ]
    },
    {
     "name": "stdout",
     "output_type": "stream",
     "text": [
      "\n",
      "Batch 26000/27349:\n",
      "  Loss: 6.9920\n",
      "  Accuracy: 0.1074\n"
     ]
    },
    {
     "name": "stderr",
     "output_type": "stream",
     "text": [
      "Epoch 1 Training:  99%|█████████▉| 27008/27349 [05:56<00:04, 71.73it/s, Loss=6.9811, Acc=0.1082]"
     ]
    },
    {
     "name": "stdout",
     "output_type": "stream",
     "text": [
      "\n",
      "Batch 27000/27349:\n",
      "  Loss: 6.9813\n",
      "  Accuracy: 0.1081\n"
     ]
    },
    {
     "name": "stderr",
     "output_type": "stream",
     "text": [
      "Epoch 1 Training: 100%|██████████| 27349/27349 [06:01<00:00, 75.71it/s, Loss=6.9776, Acc=0.1084]\n",
      "Epoch 1 Validation: 100%|██████████| 2869/2869 [00:13<00:00, 213.55it/s, Val Loss=6.3928, Val Acc=0.1412]\n"
     ]
    },
    {
     "name": "stdout",
     "output_type": "stream",
     "text": [
      "✓ New best model saved! Val Loss: 6.3928\n",
      "\n",
      "Epoch 1/10 Summary:\n",
      "  Train Loss: 6.9776 | Train Acc: 0.1084\n",
      "  Val Loss: 6.3928 | Val Acc: 0.1412\n",
      "  Time: 374.66s\n",
      "------------------------------------------------------------\n"
     ]
    },
    {
     "name": "stderr",
     "output_type": "stream",
     "text": [
      "Epoch 2 Training:   4%|▎         | 1015/27349 [00:13<04:58, 88.15it/s, Loss=6.5892, Acc=0.1336]"
     ]
    },
    {
     "name": "stdout",
     "output_type": "stream",
     "text": [
      "\n",
      "Batch 1000/27349:\n",
      "  Loss: 6.5877\n",
      "  Accuracy: 0.1337\n"
     ]
    },
    {
     "name": "stderr",
     "output_type": "stream",
     "text": [
      "Epoch 2 Training:   7%|▋         | 2017/27349 [00:24<04:48, 87.76it/s, Loss=6.6029, Acc=0.1326]"
     ]
    },
    {
     "name": "stdout",
     "output_type": "stream",
     "text": [
      "\n",
      "Batch 2000/27349:\n",
      "  Loss: 6.6032\n",
      "  Accuracy: 0.1326\n"
     ]
    },
    {
     "name": "stderr",
     "output_type": "stream",
     "text": [
      "Epoch 2 Training:  11%|█         | 3011/27349 [00:36<04:53, 82.94it/s, Loss=6.6037, Acc=0.1328]"
     ]
    },
    {
     "name": "stdout",
     "output_type": "stream",
     "text": [
      "\n",
      "Batch 3000/27349:\n",
      "  Loss: 6.6046\n",
      "  Accuracy: 0.1328\n"
     ]
    },
    {
     "name": "stderr",
     "output_type": "stream",
     "text": [
      "Epoch 2 Training:  15%|█▍        | 4013/27349 [00:49<05:23, 72.11it/s, Loss=6.6030, Acc=0.1332]"
     ]
    },
    {
     "name": "stdout",
     "output_type": "stream",
     "text": [
      "\n",
      "Batch 4000/27349:\n",
      "  Loss: 6.6037\n",
      "  Accuracy: 0.1332\n"
     ]
    },
    {
     "name": "stderr",
     "output_type": "stream",
     "text": [
      "Epoch 2 Training:  18%|█▊        | 5007/27349 [01:03<05:05, 73.02it/s, Loss=6.5925, Acc=0.1341]"
     ]
    },
    {
     "name": "stdout",
     "output_type": "stream",
     "text": [
      "\n",
      "Batch 5000/27349:\n",
      "  Loss: 6.5924\n",
      "  Accuracy: 0.1341\n"
     ]
    },
    {
     "name": "stderr",
     "output_type": "stream",
     "text": [
      "Epoch 2 Training:  22%|██▏       | 6008/27349 [01:17<04:51, 73.29it/s, Loss=6.5870, Acc=0.1341]"
     ]
    },
    {
     "name": "stdout",
     "output_type": "stream",
     "text": [
      "\n",
      "Batch 6000/27349:\n",
      "  Loss: 6.5870\n",
      "  Accuracy: 0.1341\n"
     ]
    },
    {
     "name": "stderr",
     "output_type": "stream",
     "text": [
      "Epoch 2 Training:  26%|██▌       | 7009/27349 [01:30<03:55, 86.24it/s, Loss=6.5835, Acc=0.1342]"
     ]
    },
    {
     "name": "stdout",
     "output_type": "stream",
     "text": [
      "\n",
      "Batch 7000/27349:\n",
      "  Loss: 6.5833\n",
      "  Accuracy: 0.1342\n"
     ]
    },
    {
     "name": "stderr",
     "output_type": "stream",
     "text": [
      "Epoch 2 Training:  29%|██▉       | 8017/27349 [01:42<03:42, 86.83it/s, Loss=6.5813, Acc=0.1344]"
     ]
    },
    {
     "name": "stdout",
     "output_type": "stream",
     "text": [
      "\n",
      "Batch 8000/27349:\n",
      "  Loss: 6.5812\n",
      "  Accuracy: 0.1344\n"
     ]
    },
    {
     "name": "stderr",
     "output_type": "stream",
     "text": [
      "Epoch 2 Training:  33%|███▎      | 9011/27349 [01:54<03:45, 81.30it/s, Loss=6.5784, Acc=0.1346]"
     ]
    },
    {
     "name": "stdout",
     "output_type": "stream",
     "text": [
      "\n",
      "Batch 9000/27349:\n",
      "  Loss: 6.5784\n",
      "  Accuracy: 0.1346\n"
     ]
    },
    {
     "name": "stderr",
     "output_type": "stream",
     "text": [
      "Epoch 2 Training:  37%|███▋      | 10015/27349 [02:06<03:25, 84.26it/s, Loss=6.5757, Acc=0.1349]"
     ]
    },
    {
     "name": "stdout",
     "output_type": "stream",
     "text": [
      "\n",
      "Batch 10000/27349:\n",
      "  Loss: 6.5757\n",
      "  Accuracy: 0.1349\n"
     ]
    },
    {
     "name": "stderr",
     "output_type": "stream",
     "text": [
      "Epoch 2 Training:  40%|████      | 11010/27349 [02:19<03:37, 75.02it/s, Loss=6.5755, Acc=0.1352]"
     ]
    },
    {
     "name": "stdout",
     "output_type": "stream",
     "text": [
      "\n",
      "Batch 11000/27349:\n",
      "  Loss: 6.5756\n",
      "  Accuracy: 0.1352\n"
     ]
    },
    {
     "name": "stderr",
     "output_type": "stream",
     "text": [
      "Epoch 2 Training:  44%|████▍     | 12013/27349 [02:33<03:36, 70.77it/s, Loss=6.5710, Acc=0.1356]"
     ]
    },
    {
     "name": "stdout",
     "output_type": "stream",
     "text": [
      "\n",
      "Batch 12000/27349:\n",
      "  Loss: 6.5712\n",
      "  Accuracy: 0.1356\n"
     ]
    },
    {
     "name": "stderr",
     "output_type": "stream",
     "text": [
      "Epoch 2 Training:  48%|████▊     | 13012/27349 [02:47<03:25, 69.80it/s, Loss=6.5667, Acc=0.1358]"
     ]
    },
    {
     "name": "stdout",
     "output_type": "stream",
     "text": [
      "\n",
      "Batch 13000/27349:\n",
      "  Loss: 6.5670\n",
      "  Accuracy: 0.1358\n"
     ]
    },
    {
     "name": "stderr",
     "output_type": "stream",
     "text": [
      "Epoch 2 Training:  51%|█████     | 14011/27349 [03:01<03:07, 71.19it/s, Loss=6.5621, Acc=0.1362]"
     ]
    },
    {
     "name": "stdout",
     "output_type": "stream",
     "text": [
      "\n",
      "Batch 14000/27349:\n",
      "  Loss: 6.5621\n",
      "  Accuracy: 0.1361\n"
     ]
    },
    {
     "name": "stderr",
     "output_type": "stream",
     "text": [
      "Epoch 2 Training:  55%|█████▍    | 15014/27349 [03:14<02:21, 86.87it/s, Loss=6.5578, Acc=0.1364]"
     ]
    },
    {
     "name": "stdout",
     "output_type": "stream",
     "text": [
      "\n",
      "Batch 15000/27349:\n",
      "  Loss: 6.5579\n",
      "  Accuracy: 0.1364\n"
     ]
    },
    {
     "name": "stderr",
     "output_type": "stream",
     "text": [
      "Epoch 2 Training:  59%|█████▊    | 16013/27349 [03:25<02:11, 85.91it/s, Loss=6.5554, Acc=0.1367]"
     ]
    },
    {
     "name": "stdout",
     "output_type": "stream",
     "text": [
      "\n",
      "Batch 16000/27349:\n",
      "  Loss: 6.5555\n",
      "  Accuracy: 0.1367\n"
     ]
    },
    {
     "name": "stderr",
     "output_type": "stream",
     "text": [
      "Epoch 2 Training:  62%|██████▏   | 17012/27349 [03:37<01:59, 86.54it/s, Loss=6.5510, Acc=0.1369]"
     ]
    },
    {
     "name": "stdout",
     "output_type": "stream",
     "text": [
      "\n",
      "Batch 17000/27349:\n",
      "  Loss: 6.5512\n",
      "  Accuracy: 0.1369\n"
     ]
    },
    {
     "name": "stderr",
     "output_type": "stream",
     "text": [
      "Epoch 2 Training:  66%|██████▌   | 18011/27349 [03:49<01:55, 81.02it/s, Loss=6.5458, Acc=0.1373]"
     ]
    },
    {
     "name": "stdout",
     "output_type": "stream",
     "text": [
      "\n",
      "Batch 18000/27349:\n",
      "  Loss: 6.5458\n",
      "  Accuracy: 0.1373\n"
     ]
    },
    {
     "name": "stderr",
     "output_type": "stream",
     "text": [
      "Epoch 2 Training:  70%|██████▉   | 19010/27349 [04:01<01:41, 82.19it/s, Loss=6.5426, Acc=0.1375]"
     ]
    },
    {
     "name": "stdout",
     "output_type": "stream",
     "text": [
      "\n",
      "Batch 19000/27349:\n",
      "  Loss: 6.5427\n",
      "  Accuracy: 0.1375\n"
     ]
    },
    {
     "name": "stderr",
     "output_type": "stream",
     "text": [
      "Epoch 2 Training:  73%|███████▎  | 20014/27349 [04:13<01:27, 83.74it/s, Loss=6.5384, Acc=0.1378]"
     ]
    },
    {
     "name": "stdout",
     "output_type": "stream",
     "text": [
      "\n",
      "Batch 20000/27349:\n",
      "  Loss: 6.5383\n",
      "  Accuracy: 0.1378\n"
     ]
    },
    {
     "name": "stderr",
     "output_type": "stream",
     "text": [
      "Epoch 2 Training:  77%|███████▋  | 21016/27349 [04:26<01:11, 88.47it/s, Loss=6.5342, Acc=0.1381]"
     ]
    },
    {
     "name": "stdout",
     "output_type": "stream",
     "text": [
      "\n",
      "Batch 21000/27349:\n",
      "  Loss: 6.5343\n",
      "  Accuracy: 0.1381\n"
     ]
    },
    {
     "name": "stderr",
     "output_type": "stream",
     "text": [
      "Epoch 2 Training:  81%|████████  | 22016/27349 [04:38<01:03, 84.09it/s, Loss=6.5297, Acc=0.1383]"
     ]
    },
    {
     "name": "stdout",
     "output_type": "stream",
     "text": [
      "\n",
      "Batch 22000/27349:\n",
      "  Loss: 6.5297\n",
      "  Accuracy: 0.1383\n"
     ]
    },
    {
     "name": "stderr",
     "output_type": "stream",
     "text": [
      "Epoch 2 Training:  84%|████████▍ | 23015/27349 [04:50<00:53, 80.69it/s, Loss=6.5256, Acc=0.1385]"
     ]
    },
    {
     "name": "stdout",
     "output_type": "stream",
     "text": [
      "\n",
      "Batch 23000/27349:\n",
      "  Loss: 6.5257\n",
      "  Accuracy: 0.1385\n"
     ]
    },
    {
     "name": "stderr",
     "output_type": "stream",
     "text": [
      "Epoch 2 Training:  88%|████████▊ | 24010/27349 [05:03<00:37, 89.37it/s, Loss=6.5226, Acc=0.1388]"
     ]
    },
    {
     "name": "stdout",
     "output_type": "stream",
     "text": [
      "\n",
      "Batch 24000/27349:\n",
      "  Loss: 6.5225\n",
      "  Accuracy: 0.1388\n"
     ]
    },
    {
     "name": "stderr",
     "output_type": "stream",
     "text": [
      "Epoch 2 Training:  91%|█████████▏| 25009/27349 [05:15<00:28, 82.97it/s, Loss=6.5187, Acc=0.1390]"
     ]
    },
    {
     "name": "stdout",
     "output_type": "stream",
     "text": [
      "\n",
      "Batch 25000/27349:\n",
      "  Loss: 6.5187\n",
      "  Accuracy: 0.1390\n"
     ]
    },
    {
     "name": "stderr",
     "output_type": "stream",
     "text": [
      "Epoch 2 Training:  95%|█████████▌| 26011/27349 [05:29<00:15, 86.46it/s, Loss=6.5146, Acc=0.1392]"
     ]
    },
    {
     "name": "stdout",
     "output_type": "stream",
     "text": [
      "\n",
      "Batch 26000/27349:\n",
      "  Loss: 6.5148\n",
      "  Accuracy: 0.1392\n"
     ]
    },
    {
     "name": "stderr",
     "output_type": "stream",
     "text": [
      "Epoch 2 Training:  99%|█████████▉| 27013/27349 [05:41<00:03, 84.35it/s, Loss=6.5117, Acc=0.1394]"
     ]
    },
    {
     "name": "stdout",
     "output_type": "stream",
     "text": [
      "\n",
      "Batch 27000/27349:\n",
      "  Loss: 6.5117\n",
      "  Accuracy: 0.1394\n"
     ]
    },
    {
     "name": "stderr",
     "output_type": "stream",
     "text": [
      "Epoch 2 Training: 100%|██████████| 27349/27349 [05:45<00:00, 79.25it/s, Loss=6.5107, Acc=0.1394]\n",
      "Epoch 2 Validation: 100%|██████████| 2869/2869 [00:13<00:00, 217.27it/s, Val Loss=6.1653, Val Acc=0.1556]\n"
     ]
    },
    {
     "name": "stdout",
     "output_type": "stream",
     "text": [
      "✓ New best model saved! Val Loss: 6.1653\n",
      "\n",
      "Epoch 2/10 Summary:\n",
      "  Train Loss: 6.5107 | Train Acc: 0.1394\n",
      "  Val Loss: 6.1653 | Val Acc: 0.1556\n",
      "  Time: 358.29s\n",
      "------------------------------------------------------------\n"
     ]
    },
    {
     "name": "stderr",
     "output_type": "stream",
     "text": [
      "Epoch 3 Training:   4%|▎         | 1008/27349 [00:11<05:09, 85.08it/s, Loss=6.3332, Acc=0.1485]"
     ]
    },
    {
     "name": "stdout",
     "output_type": "stream",
     "text": [
      "\n",
      "Batch 1000/27349:\n",
      "  Loss: 6.3346\n",
      "  Accuracy: 0.1485\n"
     ]
    },
    {
     "name": "stderr",
     "output_type": "stream",
     "text": [
      "Epoch 3 Training:   7%|▋         | 2016/27349 [00:23<05:02, 83.86it/s, Loss=6.3267, Acc=0.1477]"
     ]
    },
    {
     "name": "stdout",
     "output_type": "stream",
     "text": [
      "\n",
      "Batch 2000/27349:\n",
      "  Loss: 6.3273\n",
      "  Accuracy: 0.1476\n"
     ]
    },
    {
     "name": "stderr",
     "output_type": "stream",
     "text": [
      "Epoch 3 Training:  11%|█         | 3015/27349 [00:35<04:37, 87.60it/s, Loss=6.3264, Acc=0.1480]"
     ]
    },
    {
     "name": "stdout",
     "output_type": "stream",
     "text": [
      "\n",
      "Batch 3000/27349:\n",
      "  Loss: 6.3264\n",
      "  Accuracy: 0.1479\n"
     ]
    },
    {
     "name": "stderr",
     "output_type": "stream",
     "text": [
      "Epoch 3 Training:  15%|█▍        | 4011/27349 [00:47<04:42, 82.67it/s, Loss=6.3222, Acc=0.1483]"
     ]
    },
    {
     "name": "stdout",
     "output_type": "stream",
     "text": [
      "\n",
      "Batch 4000/27349:\n",
      "  Loss: 6.3228\n",
      "  Accuracy: 0.1483\n"
     ]
    },
    {
     "name": "stderr",
     "output_type": "stream",
     "text": [
      "Epoch 3 Training:  18%|█▊        | 5011/27349 [01:00<05:09, 72.14it/s, Loss=6.3185, Acc=0.1490]"
     ]
    },
    {
     "name": "stdout",
     "output_type": "stream",
     "text": [
      "\n",
      "Batch 5000/27349:\n",
      "  Loss: 6.3185\n",
      "  Accuracy: 0.1490\n"
     ]
    },
    {
     "name": "stderr",
     "output_type": "stream",
     "text": [
      "Epoch 3 Training:  22%|██▏       | 6007/27349 [01:14<05:06, 69.58it/s, Loss=6.3172, Acc=0.1491]"
     ]
    },
    {
     "name": "stdout",
     "output_type": "stream",
     "text": [
      "\n",
      "Batch 6000/27349:\n",
      "  Loss: 6.3166\n",
      "  Accuracy: 0.1490\n"
     ]
    },
    {
     "name": "stderr",
     "output_type": "stream",
     "text": [
      "Epoch 3 Training:  26%|██▌       | 7011/27349 [01:27<03:47, 89.33it/s, Loss=6.3145, Acc=0.1493]"
     ]
    },
    {
     "name": "stdout",
     "output_type": "stream",
     "text": [
      "\n",
      "Batch 7000/27349:\n",
      "  Loss: 6.3147\n",
      "  Accuracy: 0.1493\n"
     ]
    },
    {
     "name": "stderr",
     "output_type": "stream",
     "text": [
      "Epoch 3 Training:  29%|██▉       | 8011/27349 [01:40<04:20, 74.36it/s, Loss=6.3119, Acc=0.1494]"
     ]
    },
    {
     "name": "stdout",
     "output_type": "stream",
     "text": [
      "\n",
      "Batch 8000/27349:\n",
      "  Loss: 6.3118\n",
      "  Accuracy: 0.1494\n"
     ]
    },
    {
     "name": "stderr",
     "output_type": "stream",
     "text": [
      "Epoch 3 Training:  33%|███▎      | 9008/27349 [01:54<04:15, 71.82it/s, Loss=6.3126, Acc=0.1493]"
     ]
    },
    {
     "name": "stdout",
     "output_type": "stream",
     "text": [
      "\n",
      "Batch 9000/27349:\n",
      "  Loss: 6.3126\n",
      "  Accuracy: 0.1493\n"
     ]
    },
    {
     "name": "stderr",
     "output_type": "stream",
     "text": [
      "Epoch 3 Training:  37%|███▋      | 10012/27349 [02:06<03:22, 85.61it/s, Loss=6.3118, Acc=0.1493]"
     ]
    },
    {
     "name": "stdout",
     "output_type": "stream",
     "text": [
      "\n",
      "Batch 10000/27349:\n",
      "  Loss: 6.3119\n",
      "  Accuracy: 0.1493\n"
     ]
    },
    {
     "name": "stderr",
     "output_type": "stream",
     "text": [
      "Epoch 3 Training:  40%|████      | 11007/27349 [02:20<03:52, 70.40it/s, Loss=6.3084, Acc=0.1495]"
     ]
    },
    {
     "name": "stdout",
     "output_type": "stream",
     "text": [
      "\n",
      "Batch 11000/27349:\n",
      "  Loss: 6.3085\n",
      "  Accuracy: 0.1495\n"
     ]
    },
    {
     "name": "stderr",
     "output_type": "stream",
     "text": [
      "Epoch 3 Training:  44%|████▍     | 12012/27349 [02:33<02:57, 86.60it/s, Loss=6.3083, Acc=0.1495]"
     ]
    },
    {
     "name": "stdout",
     "output_type": "stream",
     "text": [
      "\n",
      "Batch 12000/27349:\n",
      "  Loss: 6.3085\n",
      "  Accuracy: 0.1495\n"
     ]
    },
    {
     "name": "stderr",
     "output_type": "stream",
     "text": [
      "Epoch 3 Training:  48%|████▊     | 13013/27349 [02:45<02:45, 86.73it/s, Loss=6.3076, Acc=0.1496]"
     ]
    },
    {
     "name": "stdout",
     "output_type": "stream",
     "text": [
      "\n",
      "Batch 13000/27349:\n",
      "  Loss: 6.3076\n",
      "  Accuracy: 0.1496\n"
     ]
    },
    {
     "name": "stderr",
     "output_type": "stream",
     "text": [
      "Epoch 3 Training:  51%|█████     | 14015/27349 [02:58<02:55, 76.09it/s, Loss=6.3063, Acc=0.1498]"
     ]
    },
    {
     "name": "stdout",
     "output_type": "stream",
     "text": [
      "\n",
      "Batch 14000/27349:\n",
      "  Loss: 6.3062\n",
      "  Accuracy: 0.1498\n"
     ]
    },
    {
     "name": "stderr",
     "output_type": "stream",
     "text": [
      "Epoch 3 Training:  55%|█████▍    | 15008/27349 [03:11<02:27, 83.44it/s, Loss=6.3049, Acc=0.1497]"
     ]
    },
    {
     "name": "stdout",
     "output_type": "stream",
     "text": [
      "\n",
      "Batch 15000/27349:\n",
      "  Loss: 6.3049\n",
      "  Accuracy: 0.1497\n"
     ]
    },
    {
     "name": "stderr",
     "output_type": "stream",
     "text": [
      "Epoch 3 Training:  59%|█████▊    | 16011/27349 [03:24<02:31, 75.06it/s, Loss=6.3028, Acc=0.1498]"
     ]
    },
    {
     "name": "stdout",
     "output_type": "stream",
     "text": [
      "\n",
      "Batch 16000/27349:\n",
      "  Loss: 6.3028\n",
      "  Accuracy: 0.1498\n"
     ]
    },
    {
     "name": "stderr",
     "output_type": "stream",
     "text": [
      "Epoch 3 Training:  62%|██████▏   | 17013/27349 [03:36<02:06, 81.59it/s, Loss=6.3004, Acc=0.1500]"
     ]
    },
    {
     "name": "stdout",
     "output_type": "stream",
     "text": [
      "\n",
      "Batch 17000/27349:\n",
      "  Loss: 6.3004\n",
      "  Accuracy: 0.1500\n"
     ]
    },
    {
     "name": "stderr",
     "output_type": "stream",
     "text": [
      "Epoch 3 Training:  66%|██████▌   | 18016/27349 [03:48<01:53, 82.44it/s, Loss=6.2968, Acc=0.1502]"
     ]
    },
    {
     "name": "stdout",
     "output_type": "stream",
     "text": [
      "\n",
      "Batch 18000/27349:\n",
      "  Loss: 6.2967\n",
      "  Accuracy: 0.1502\n"
     ]
    },
    {
     "name": "stderr",
     "output_type": "stream",
     "text": [
      "Epoch 3 Training:  70%|██████▉   | 19013/27349 [04:00<01:58, 70.34it/s, Loss=6.2944, Acc=0.1504]"
     ]
    },
    {
     "name": "stdout",
     "output_type": "stream",
     "text": [
      "\n",
      "Batch 19000/27349:\n",
      "  Loss: 6.2944\n",
      "  Accuracy: 0.1504\n"
     ]
    },
    {
     "name": "stderr",
     "output_type": "stream",
     "text": [
      "Epoch 3 Training:  73%|███████▎  | 20008/27349 [04:15<01:45, 69.30it/s, Loss=6.2920, Acc=0.1505]"
     ]
    },
    {
     "name": "stdout",
     "output_type": "stream",
     "text": [
      "\n",
      "Batch 20000/27349:\n",
      "  Loss: 6.2921\n",
      "  Accuracy: 0.1505\n"
     ]
    },
    {
     "name": "stderr",
     "output_type": "stream",
     "text": [
      "Epoch 3 Training:  77%|███████▋  | 21016/27349 [04:28<01:16, 83.10it/s, Loss=6.2913, Acc=0.1505]"
     ]
    },
    {
     "name": "stdout",
     "output_type": "stream",
     "text": [
      "\n",
      "Batch 21000/27349:\n",
      "  Loss: 6.2913\n",
      "  Accuracy: 0.1505\n"
     ]
    },
    {
     "name": "stderr",
     "output_type": "stream",
     "text": [
      "Epoch 3 Training:  80%|████████  | 22009/27349 [04:41<01:10, 75.96it/s, Loss=6.2904, Acc=0.1504]"
     ]
    },
    {
     "name": "stdout",
     "output_type": "stream",
     "text": [
      "\n",
      "Batch 22000/27349:\n",
      "  Loss: 6.2905\n",
      "  Accuracy: 0.1504\n"
     ]
    },
    {
     "name": "stderr",
     "output_type": "stream",
     "text": [
      "Epoch 3 Training:  84%|████████▍ | 23015/27349 [04:54<00:47, 91.50it/s, Loss=6.2889, Acc=0.1506]"
     ]
    },
    {
     "name": "stdout",
     "output_type": "stream",
     "text": [
      "\n",
      "Batch 23000/27349:\n",
      "  Loss: 6.2889\n",
      "  Accuracy: 0.1506\n"
     ]
    },
    {
     "name": "stderr",
     "output_type": "stream",
     "text": [
      "Epoch 3 Training:  88%|████████▊ | 24014/27349 [05:06<00:41, 80.29it/s, Loss=6.2866, Acc=0.1507]"
     ]
    },
    {
     "name": "stdout",
     "output_type": "stream",
     "text": [
      "\n",
      "Batch 24000/27349:\n",
      "  Loss: 6.2866\n",
      "  Accuracy: 0.1507\n"
     ]
    },
    {
     "name": "stderr",
     "output_type": "stream",
     "text": [
      "Epoch 3 Training:  91%|█████████▏| 25009/27349 [05:18<00:27, 85.67it/s, Loss=6.2847, Acc=0.1508]"
     ]
    },
    {
     "name": "stdout",
     "output_type": "stream",
     "text": [
      "\n",
      "Batch 25000/27349:\n",
      "  Loss: 6.2847\n",
      "  Accuracy: 0.1508\n"
     ]
    },
    {
     "name": "stderr",
     "output_type": "stream",
     "text": [
      "Epoch 3 Training:  95%|█████████▌| 26016/27349 [05:30<00:16, 82.94it/s, Loss=6.2831, Acc=0.1509]"
     ]
    },
    {
     "name": "stdout",
     "output_type": "stream",
     "text": [
      "\n",
      "Batch 26000/27349:\n",
      "  Loss: 6.2831\n",
      "  Accuracy: 0.1509\n"
     ]
    },
    {
     "name": "stderr",
     "output_type": "stream",
     "text": [
      "Epoch 3 Training:  99%|█████████▉| 27011/27349 [05:42<00:04, 78.78it/s, Loss=6.2810, Acc=0.1510]"
     ]
    },
    {
     "name": "stdout",
     "output_type": "stream",
     "text": [
      "\n",
      "Batch 27000/27349:\n",
      "  Loss: 6.2811\n",
      "  Accuracy: 0.1511\n"
     ]
    },
    {
     "name": "stderr",
     "output_type": "stream",
     "text": [
      "Epoch 3 Training: 100%|██████████| 27349/27349 [05:47<00:00, 78.77it/s, Loss=6.2804, Acc=0.1511]\n",
      "Epoch 3 Validation: 100%|██████████| 2869/2869 [00:12<00:00, 232.81it/s, Val Loss=6.0207, Val Acc=0.1622]\n"
     ]
    },
    {
     "name": "stdout",
     "output_type": "stream",
     "text": [
      "✓ New best model saved! Val Loss: 6.0207\n",
      "\n",
      "Epoch 3/10 Summary:\n",
      "  Train Loss: 6.2804 | Train Acc: 0.1511\n",
      "  Val Loss: 6.0207 | Val Acc: 0.1622\n",
      "  Time: 359.53s\n",
      "------------------------------------------------------------\n"
     ]
    },
    {
     "name": "stderr",
     "output_type": "stream",
     "text": [
      "Epoch 4 Training:   4%|▎         | 1008/27349 [00:14<06:20, 69.24it/s, Loss=6.1462, Acc=0.1567]"
     ]
    },
    {
     "name": "stdout",
     "output_type": "stream",
     "text": [
      "\n",
      "Batch 1000/27349:\n",
      "  Loss: 6.1466\n",
      "  Accuracy: 0.1568\n"
     ]
    },
    {
     "name": "stderr",
     "output_type": "stream",
     "text": [
      "Epoch 4 Training:   7%|▋         | 2013/27349 [00:28<06:01, 70.06it/s, Loss=6.1271, Acc=0.1587]"
     ]
    },
    {
     "name": "stdout",
     "output_type": "stream",
     "text": [
      "\n",
      "Batch 2000/27349:\n",
      "  Loss: 6.1262\n",
      "  Accuracy: 0.1587\n"
     ]
    },
    {
     "name": "stderr",
     "output_type": "stream",
     "text": [
      "Epoch 4 Training:  11%|█         | 3010/27349 [00:42<05:39, 71.62it/s, Loss=6.1246, Acc=0.1582]"
     ]
    },
    {
     "name": "stdout",
     "output_type": "stream",
     "text": [
      "\n",
      "Batch 3000/27349:\n",
      "  Loss: 6.1247\n",
      "  Accuracy: 0.1582\n"
     ]
    },
    {
     "name": "stderr",
     "output_type": "stream",
     "text": [
      "Epoch 4 Training:  15%|█▍        | 4009/27349 [00:56<04:40, 83.15it/s, Loss=6.1220, Acc=0.1583]"
     ]
    },
    {
     "name": "stdout",
     "output_type": "stream",
     "text": [
      "\n",
      "Batch 4000/27349:\n",
      "  Loss: 6.1219\n",
      "  Accuracy: 0.1583\n"
     ]
    },
    {
     "name": "stderr",
     "output_type": "stream",
     "text": [
      "Epoch 4 Training:  18%|█▊        | 5011/27349 [01:08<04:56, 75.41it/s, Loss=6.1198, Acc=0.1581]"
     ]
    },
    {
     "name": "stdout",
     "output_type": "stream",
     "text": [
      "\n",
      "Batch 5000/27349:\n",
      "  Loss: 6.1198\n",
      "  Accuracy: 0.1581\n"
     ]
    },
    {
     "name": "stderr",
     "output_type": "stream",
     "text": [
      "Epoch 4 Training:  22%|██▏       | 6015/27349 [01:21<04:22, 81.37it/s, Loss=6.1236, Acc=0.1578]"
     ]
    },
    {
     "name": "stdout",
     "output_type": "stream",
     "text": [
      "\n",
      "Batch 6000/27349:\n",
      "  Loss: 6.1233\n",
      "  Accuracy: 0.1578\n"
     ]
    },
    {
     "name": "stderr",
     "output_type": "stream",
     "text": [
      "Epoch 4 Training:  26%|██▌       | 7010/27349 [01:33<03:56, 85.87it/s, Loss=6.1268, Acc=0.1577]"
     ]
    },
    {
     "name": "stdout",
     "output_type": "stream",
     "text": [
      "\n",
      "Batch 7000/27349:\n",
      "  Loss: 6.1267\n",
      "  Accuracy: 0.1578\n"
     ]
    },
    {
     "name": "stderr",
     "output_type": "stream",
     "text": [
      "Epoch 4 Training:  29%|██▉       | 8008/27349 [01:46<04:27, 72.36it/s, Loss=6.1280, Acc=0.1580]"
     ]
    },
    {
     "name": "stdout",
     "output_type": "stream",
     "text": [
      "\n",
      "Batch 8000/27349:\n",
      "  Loss: 6.1284\n",
      "  Accuracy: 0.1580\n"
     ]
    },
    {
     "name": "stderr",
     "output_type": "stream",
     "text": [
      "Epoch 4 Training:  33%|███▎      | 9013/27349 [01:58<03:37, 84.25it/s, Loss=6.1294, Acc=0.1583]"
     ]
    },
    {
     "name": "stdout",
     "output_type": "stream",
     "text": [
      "\n",
      "Batch 9000/27349:\n",
      "  Loss: 6.1292\n",
      "  Accuracy: 0.1583\n"
     ]
    },
    {
     "name": "stderr",
     "output_type": "stream",
     "text": [
      "Epoch 4 Training:  37%|███▋      | 10009/27349 [02:10<03:14, 89.18it/s, Loss=6.1282, Acc=0.1583]"
     ]
    },
    {
     "name": "stdout",
     "output_type": "stream",
     "text": [
      "\n",
      "Batch 10000/27349:\n",
      "  Loss: 6.1283\n",
      "  Accuracy: 0.1583\n"
     ]
    },
    {
     "name": "stderr",
     "output_type": "stream",
     "text": [
      "Epoch 4 Training:  40%|████      | 11009/27349 [02:21<03:21, 81.11it/s, Loss=6.1268, Acc=0.1585]"
     ]
    },
    {
     "name": "stdout",
     "output_type": "stream",
     "text": [
      "\n",
      "Batch 11000/27349:\n",
      "  Loss: 6.1268\n",
      "  Accuracy: 0.1585\n"
     ]
    },
    {
     "name": "stderr",
     "output_type": "stream",
     "text": [
      "Epoch 4 Training:  44%|████▍     | 12010/27349 [02:34<03:12, 79.61it/s, Loss=6.1267, Acc=0.1585]"
     ]
    },
    {
     "name": "stdout",
     "output_type": "stream",
     "text": [
      "\n",
      "Batch 12000/27349:\n",
      "  Loss: 6.1266\n",
      "  Accuracy: 0.1585\n"
     ]
    },
    {
     "name": "stderr",
     "output_type": "stream",
     "text": [
      "Epoch 4 Training:  48%|████▊     | 13008/27349 [02:45<02:54, 82.08it/s, Loss=6.1271, Acc=0.1586]"
     ]
    },
    {
     "name": "stdout",
     "output_type": "stream",
     "text": [
      "\n",
      "Batch 13000/27349:\n",
      "  Loss: 6.1269\n",
      "  Accuracy: 0.1586\n"
     ]
    },
    {
     "name": "stderr",
     "output_type": "stream",
     "text": [
      "Epoch 4 Training:  51%|█████     | 14014/27349 [02:59<03:08, 70.76it/s, Loss=6.1268, Acc=0.1587]"
     ]
    },
    {
     "name": "stdout",
     "output_type": "stream",
     "text": [
      "\n",
      "Batch 14000/27349:\n",
      "  Loss: 6.1269\n",
      "  Accuracy: 0.1587\n"
     ]
    },
    {
     "name": "stderr",
     "output_type": "stream",
     "text": [
      "Epoch 4 Training:  55%|█████▍    | 15016/27349 [03:11<02:34, 79.99it/s, Loss=6.1260, Acc=0.1589]"
     ]
    },
    {
     "name": "stdout",
     "output_type": "stream",
     "text": [
      "\n",
      "Batch 15000/27349:\n",
      "  Loss: 6.1260\n",
      "  Accuracy: 0.1589\n"
     ]
    },
    {
     "name": "stderr",
     "output_type": "stream",
     "text": [
      "Epoch 4 Training:  59%|█████▊    | 16010/27349 [03:23<02:19, 81.38it/s, Loss=6.1248, Acc=0.1590]"
     ]
    },
    {
     "name": "stdout",
     "output_type": "stream",
     "text": [
      "\n",
      "Batch 16000/27349:\n",
      "  Loss: 6.1249\n",
      "  Accuracy: 0.1590\n"
     ]
    },
    {
     "name": "stderr",
     "output_type": "stream",
     "text": [
      "Epoch 4 Training:  62%|██████▏   | 17010/27349 [03:35<02:08, 80.76it/s, Loss=6.1251, Acc=0.1590]"
     ]
    },
    {
     "name": "stdout",
     "output_type": "stream",
     "text": [
      "\n",
      "Batch 17000/27349:\n",
      "  Loss: 6.1249\n",
      "  Accuracy: 0.1590\n"
     ]
    },
    {
     "name": "stderr",
     "output_type": "stream",
     "text": [
      "Epoch 4 Training:  66%|██████▌   | 18013/27349 [03:48<01:58, 78.86it/s, Loss=6.1244, Acc=0.1591]"
     ]
    },
    {
     "name": "stdout",
     "output_type": "stream",
     "text": [
      "\n",
      "Batch 18000/27349:\n",
      "  Loss: 6.1245\n",
      "  Accuracy: 0.1591\n"
     ]
    },
    {
     "name": "stderr",
     "output_type": "stream",
     "text": [
      "Epoch 4 Training:  70%|██████▉   | 19012/27349 [04:01<01:39, 83.47it/s, Loss=6.1238, Acc=0.1592]"
     ]
    },
    {
     "name": "stdout",
     "output_type": "stream",
     "text": [
      "\n",
      "Batch 19000/27349:\n",
      "  Loss: 6.1238\n",
      "  Accuracy: 0.1592\n"
     ]
    },
    {
     "name": "stderr",
     "output_type": "stream",
     "text": [
      "Epoch 4 Training:  73%|███████▎  | 20008/27349 [04:14<01:44, 70.13it/s, Loss=6.1239, Acc=0.1592]"
     ]
    },
    {
     "name": "stdout",
     "output_type": "stream",
     "text": [
      "\n",
      "Batch 20000/27349:\n",
      "  Loss: 6.1240\n",
      "  Accuracy: 0.1592\n"
     ]
    },
    {
     "name": "stderr",
     "output_type": "stream",
     "text": [
      "Epoch 4 Training:  77%|███████▋  | 21007/27349 [04:28<01:30, 69.95it/s, Loss=6.1232, Acc=0.1593]"
     ]
    },
    {
     "name": "stdout",
     "output_type": "stream",
     "text": [
      "\n",
      "Batch 21000/27349:\n",
      "  Loss: 6.1232\n",
      "  Accuracy: 0.1593\n"
     ]
    },
    {
     "name": "stderr",
     "output_type": "stream",
     "text": [
      "Epoch 4 Training:  80%|████████  | 22015/27349 [04:41<01:02, 84.91it/s, Loss=6.1235, Acc=0.1593]"
     ]
    },
    {
     "name": "stdout",
     "output_type": "stream",
     "text": [
      "\n",
      "Batch 22000/27349:\n",
      "  Loss: 6.1235\n",
      "  Accuracy: 0.1593\n"
     ]
    },
    {
     "name": "stderr",
     "output_type": "stream",
     "text": [
      "Epoch 4 Training:  84%|████████▍ | 23007/27349 [04:54<01:02, 69.65it/s, Loss=6.1235, Acc=0.1594]"
     ]
    },
    {
     "name": "stdout",
     "output_type": "stream",
     "text": [
      "\n",
      "Batch 23000/27349:\n",
      "  Loss: 6.1235\n",
      "  Accuracy: 0.1594\n"
     ]
    },
    {
     "name": "stderr",
     "output_type": "stream",
     "text": [
      "Epoch 4 Training:  88%|████████▊ | 24012/27349 [05:07<00:44, 75.18it/s, Loss=6.1230, Acc=0.1593]"
     ]
    },
    {
     "name": "stdout",
     "output_type": "stream",
     "text": [
      "\n",
      "Batch 24000/27349:\n",
      "  Loss: 6.1230\n",
      "  Accuracy: 0.1593\n"
     ]
    },
    {
     "name": "stderr",
     "output_type": "stream",
     "text": [
      "Epoch 4 Training:  91%|█████████▏| 25013/27349 [05:19<00:33, 70.62it/s, Loss=6.1217, Acc=0.1594]"
     ]
    },
    {
     "name": "stdout",
     "output_type": "stream",
     "text": [
      "\n",
      "Batch 25000/27349:\n",
      "  Loss: 6.1217\n",
      "  Accuracy: 0.1594\n"
     ]
    },
    {
     "name": "stderr",
     "output_type": "stream",
     "text": [
      "Epoch 4 Training:  95%|█████████▌| 26011/27349 [05:34<00:19, 70.05it/s, Loss=6.1206, Acc=0.1596]"
     ]
    },
    {
     "name": "stdout",
     "output_type": "stream",
     "text": [
      "\n",
      "Batch 26000/27349:\n",
      "  Loss: 6.1207\n",
      "  Accuracy: 0.1596\n"
     ]
    },
    {
     "name": "stderr",
     "output_type": "stream",
     "text": [
      "Epoch 4 Training:  99%|█████████▊| 27007/27349 [05:48<00:04, 73.09it/s, Loss=6.1193, Acc=0.1597]"
     ]
    },
    {
     "name": "stdout",
     "output_type": "stream",
     "text": [
      "\n",
      "Batch 27000/27349:\n",
      "  Loss: 6.1194\n",
      "  Accuracy: 0.1597\n"
     ]
    },
    {
     "name": "stderr",
     "output_type": "stream",
     "text": [
      "Epoch 4 Training: 100%|██████████| 27349/27349 [05:52<00:00, 77.48it/s, Loss=6.1189, Acc=0.1597]\n",
      "Epoch 4 Validation: 100%|██████████| 2869/2869 [00:13<00:00, 220.40it/s, Val Loss=5.9235, Val Acc=0.1675]\n"
     ]
    },
    {
     "name": "stdout",
     "output_type": "stream",
     "text": [
      "✓ New best model saved! Val Loss: 5.9235\n",
      "\n",
      "Epoch 4/10 Summary:\n",
      "  Train Loss: 6.1189 | Train Acc: 0.1597\n",
      "  Val Loss: 5.9235 | Val Acc: 0.1675\n",
      "  Time: 365.99s\n",
      "------------------------------------------------------------\n"
     ]
    },
    {
     "name": "stderr",
     "output_type": "stream",
     "text": [
      "Epoch 5 Training:   4%|▎         | 1009/27349 [00:14<06:12, 70.66it/s, Loss=5.9767, Acc=0.1651]"
     ]
    },
    {
     "name": "stdout",
     "output_type": "stream",
     "text": [
      "\n",
      "Batch 1000/27349:\n",
      "  Loss: 5.9765\n",
      "  Accuracy: 0.1650\n"
     ]
    },
    {
     "name": "stderr",
     "output_type": "stream",
     "text": [
      "Epoch 5 Training:   7%|▋         | 2012/27349 [00:27<05:53, 71.63it/s, Loss=5.9835, Acc=0.1661]"
     ]
    },
    {
     "name": "stdout",
     "output_type": "stream",
     "text": [
      "\n",
      "Batch 2000/27349:\n",
      "  Loss: 5.9814\n",
      "  Accuracy: 0.1662\n"
     ]
    },
    {
     "name": "stderr",
     "output_type": "stream",
     "text": [
      "Epoch 5 Training:  11%|█         | 3016/27349 [00:39<04:51, 83.58it/s, Loss=5.9853, Acc=0.1657]"
     ]
    },
    {
     "name": "stdout",
     "output_type": "stream",
     "text": [
      "\n",
      "Batch 3000/27349:\n",
      "  Loss: 5.9846\n",
      "  Accuracy: 0.1657\n"
     ]
    },
    {
     "name": "stderr",
     "output_type": "stream",
     "text": [
      "Epoch 5 Training:  15%|█▍        | 4011/27349 [00:51<05:20, 72.91it/s, Loss=5.9870, Acc=0.1655]"
     ]
    },
    {
     "name": "stdout",
     "output_type": "stream",
     "text": [
      "\n",
      "Batch 4000/27349:\n",
      "  Loss: 5.9870\n",
      "  Accuracy: 0.1655\n"
     ]
    },
    {
     "name": "stderr",
     "output_type": "stream",
     "text": [
      "Epoch 5 Training:  18%|█▊        | 5008/27349 [01:03<05:05, 73.05it/s, Loss=5.9934, Acc=0.1655]"
     ]
    },
    {
     "name": "stdout",
     "output_type": "stream",
     "text": [
      "\n",
      "Batch 5000/27349:\n",
      "  Loss: 5.9932\n",
      "  Accuracy: 0.1656\n"
     ]
    },
    {
     "name": "stderr",
     "output_type": "stream",
     "text": [
      "Epoch 5 Training:  22%|██▏       | 6010/27349 [01:17<05:00, 71.06it/s, Loss=5.9907, Acc=0.1655]"
     ]
    },
    {
     "name": "stdout",
     "output_type": "stream",
     "text": [
      "\n",
      "Batch 6000/27349:\n",
      "  Loss: 5.9909\n",
      "  Accuracy: 0.1655\n"
     ]
    },
    {
     "name": "stderr",
     "output_type": "stream",
     "text": [
      "Epoch 5 Training:  26%|██▌       | 7007/27349 [01:31<04:47, 70.83it/s, Loss=5.9900, Acc=0.1656]"
     ]
    },
    {
     "name": "stdout",
     "output_type": "stream",
     "text": [
      "\n",
      "Batch 7000/27349:\n",
      "  Loss: 5.9898\n",
      "  Accuracy: 0.1657\n"
     ]
    },
    {
     "name": "stderr",
     "output_type": "stream",
     "text": [
      "Epoch 5 Training:  29%|██▉       | 8012/27349 [01:45<04:06, 78.42it/s, Loss=5.9886, Acc=0.1656]"
     ]
    },
    {
     "name": "stdout",
     "output_type": "stream",
     "text": [
      "\n",
      "Batch 8000/27349:\n",
      "  Loss: 5.9886\n",
      "  Accuracy: 0.1656\n"
     ]
    },
    {
     "name": "stderr",
     "output_type": "stream",
     "text": [
      "Epoch 5 Training:  33%|███▎      | 9010/27349 [01:58<04:17, 71.26it/s, Loss=5.9921, Acc=0.1655]"
     ]
    },
    {
     "name": "stdout",
     "output_type": "stream",
     "text": [
      "\n",
      "Batch 9000/27349:\n",
      "  Loss: 5.9923\n",
      "  Accuracy: 0.1655\n"
     ]
    },
    {
     "name": "stderr",
     "output_type": "stream",
     "text": [
      "Epoch 5 Training:  37%|███▋      | 10010/27349 [02:10<04:07, 70.07it/s, Loss=5.9929, Acc=0.1657]"
     ]
    },
    {
     "name": "stdout",
     "output_type": "stream",
     "text": [
      "\n",
      "Batch 10000/27349:\n",
      "  Loss: 5.9928\n",
      "  Accuracy: 0.1657\n"
     ]
    },
    {
     "name": "stderr",
     "output_type": "stream",
     "text": [
      "Epoch 5 Training:  40%|████      | 11010/27349 [02:24<03:38, 74.69it/s, Loss=5.9918, Acc=0.1658]"
     ]
    },
    {
     "name": "stdout",
     "output_type": "stream",
     "text": [
      "\n",
      "Batch 11000/27349:\n",
      "  Loss: 5.9917\n",
      "  Accuracy: 0.1658\n"
     ]
    },
    {
     "name": "stderr",
     "output_type": "stream",
     "text": [
      "Epoch 5 Training:  44%|████▍     | 12009/27349 [02:36<02:52, 89.13it/s, Loss=5.9923, Acc=0.1661]"
     ]
    },
    {
     "name": "stdout",
     "output_type": "stream",
     "text": [
      "\n",
      "Batch 12000/27349:\n",
      "  Loss: 5.9920\n",
      "  Accuracy: 0.1661\n"
     ]
    },
    {
     "name": "stderr",
     "output_type": "stream",
     "text": [
      "Epoch 5 Training:  48%|████▊     | 13017/27349 [02:47<02:41, 88.61it/s, Loss=5.9939, Acc=0.1660]"
     ]
    },
    {
     "name": "stdout",
     "output_type": "stream",
     "text": [
      "\n",
      "Batch 13000/27349:\n",
      "  Loss: 5.9937\n",
      "  Accuracy: 0.1660\n"
     ]
    },
    {
     "name": "stderr",
     "output_type": "stream",
     "text": [
      "Epoch 5 Training:  51%|█████     | 14016/27349 [02:59<02:36, 85.06it/s, Loss=5.9941, Acc=0.1661]"
     ]
    },
    {
     "name": "stdout",
     "output_type": "stream",
     "text": [
      "\n",
      "Batch 14000/27349:\n",
      "  Loss: 5.9941\n",
      "  Accuracy: 0.1661\n"
     ]
    },
    {
     "name": "stderr",
     "output_type": "stream",
     "text": [
      "Epoch 5 Training:  55%|█████▍    | 15014/27349 [03:11<02:18, 89.15it/s, Loss=5.9962, Acc=0.1662]"
     ]
    },
    {
     "name": "stdout",
     "output_type": "stream",
     "text": [
      "\n",
      "Batch 15000/27349:\n",
      "  Loss: 5.9961\n",
      "  Accuracy: 0.1662\n"
     ]
    },
    {
     "name": "stderr",
     "output_type": "stream",
     "text": [
      "Epoch 5 Training:  59%|█████▊    | 16012/27349 [03:22<02:14, 84.60it/s, Loss=5.9954, Acc=0.1663]"
     ]
    },
    {
     "name": "stdout",
     "output_type": "stream",
     "text": [
      "\n",
      "Batch 16000/27349:\n",
      "  Loss: 5.9954\n",
      "  Accuracy: 0.1663\n"
     ]
    },
    {
     "name": "stderr",
     "output_type": "stream",
     "text": [
      "Epoch 5 Training:  62%|██████▏   | 17014/27349 [03:35<02:09, 79.63it/s, Loss=5.9955, Acc=0.1663]"
     ]
    },
    {
     "name": "stdout",
     "output_type": "stream",
     "text": [
      "\n",
      "Batch 17000/27349:\n",
      "  Loss: 5.9954\n",
      "  Accuracy: 0.1663\n"
     ]
    },
    {
     "name": "stderr",
     "output_type": "stream",
     "text": [
      "Epoch 5 Training:  66%|██████▌   | 18013/27349 [03:47<01:47, 86.71it/s, Loss=5.9962, Acc=0.1664]"
     ]
    },
    {
     "name": "stdout",
     "output_type": "stream",
     "text": [
      "\n",
      "Batch 18000/27349:\n",
      "  Loss: 5.9960\n",
      "  Accuracy: 0.1664\n"
     ]
    },
    {
     "name": "stderr",
     "output_type": "stream",
     "text": [
      "Epoch 5 Training:  70%|██████▉   | 19010/27349 [03:59<01:41, 82.55it/s, Loss=5.9970, Acc=0.1663]"
     ]
    },
    {
     "name": "stdout",
     "output_type": "stream",
     "text": [
      "\n",
      "Batch 19000/27349:\n",
      "  Loss: 5.9971\n",
      "  Accuracy: 0.1663\n"
     ]
    },
    {
     "name": "stderr",
     "output_type": "stream",
     "text": [
      "Epoch 5 Training:  73%|███████▎  | 20016/27349 [04:11<01:23, 88.24it/s, Loss=5.9969, Acc=0.1663]"
     ]
    },
    {
     "name": "stdout",
     "output_type": "stream",
     "text": [
      "\n",
      "Batch 20000/27349:\n",
      "  Loss: 5.9969\n",
      "  Accuracy: 0.1663\n"
     ]
    },
    {
     "name": "stderr",
     "output_type": "stream",
     "text": [
      "Epoch 5 Training:  77%|███████▋  | 21013/27349 [04:23<01:23, 75.55it/s, Loss=5.9970, Acc=0.1664]"
     ]
    },
    {
     "name": "stdout",
     "output_type": "stream",
     "text": [
      "\n",
      "Batch 21000/27349:\n",
      "  Loss: 5.9970\n",
      "  Accuracy: 0.1664\n"
     ]
    },
    {
     "name": "stderr",
     "output_type": "stream",
     "text": [
      "Epoch 5 Training:  80%|████████  | 22010/27349 [04:37<01:14, 71.40it/s, Loss=5.9972, Acc=0.1663]"
     ]
    },
    {
     "name": "stdout",
     "output_type": "stream",
     "text": [
      "\n",
      "Batch 22000/27349:\n",
      "  Loss: 5.9973\n",
      "  Accuracy: 0.1663\n"
     ]
    },
    {
     "name": "stderr",
     "output_type": "stream",
     "text": [
      "Epoch 5 Training:  84%|████████▍ | 23010/27349 [04:51<01:00, 71.92it/s, Loss=5.9964, Acc=0.1665]"
     ]
    },
    {
     "name": "stdout",
     "output_type": "stream",
     "text": [
      "\n",
      "Batch 23000/27349:\n",
      "  Loss: 5.9964\n",
      "  Accuracy: 0.1665\n"
     ]
    },
    {
     "name": "stderr",
     "output_type": "stream",
     "text": [
      "Epoch 5 Training:  88%|████████▊ | 24013/27349 [05:05<00:47, 70.30it/s, Loss=5.9954, Acc=0.1666]"
     ]
    },
    {
     "name": "stdout",
     "output_type": "stream",
     "text": [
      "\n",
      "Batch 24000/27349:\n",
      "  Loss: 5.9954\n",
      "  Accuracy: 0.1666\n"
     ]
    },
    {
     "name": "stderr",
     "output_type": "stream",
     "text": [
      "Epoch 5 Training:  91%|█████████▏| 25010/27349 [05:18<00:30, 76.52it/s, Loss=5.9945, Acc=0.1666]"
     ]
    },
    {
     "name": "stdout",
     "output_type": "stream",
     "text": [
      "\n",
      "Batch 25000/27349:\n",
      "  Loss: 5.9945\n",
      "  Accuracy: 0.1666\n"
     ]
    },
    {
     "name": "stderr",
     "output_type": "stream",
     "text": [
      "Epoch 5 Training:  95%|█████████▌| 26011/27349 [05:32<00:19, 70.16it/s, Loss=5.9940, Acc=0.1667]"
     ]
    },
    {
     "name": "stdout",
     "output_type": "stream",
     "text": [
      "\n",
      "Batch 26000/27349:\n",
      "  Loss: 5.9940\n",
      "  Accuracy: 0.1667\n"
     ]
    },
    {
     "name": "stderr",
     "output_type": "stream",
     "text": [
      "Epoch 5 Training:  99%|█████████▉| 27011/27349 [05:46<00:04, 73.18it/s, Loss=5.9927, Acc=0.1668]"
     ]
    },
    {
     "name": "stdout",
     "output_type": "stream",
     "text": [
      "\n",
      "Batch 27000/27349:\n",
      "  Loss: 5.9927\n",
      "  Accuracy: 0.1668\n"
     ]
    },
    {
     "name": "stderr",
     "output_type": "stream",
     "text": [
      "Epoch 5 Training: 100%|██████████| 27349/27349 [05:51<00:00, 77.89it/s, Loss=5.9923, Acc=0.1669]\n",
      "Epoch 5 Validation: 100%|██████████| 2869/2869 [00:12<00:00, 225.34it/s, Val Loss=5.8582, Val Acc=0.1721]\n"
     ]
    },
    {
     "name": "stdout",
     "output_type": "stream",
     "text": [
      "✓ New best model saved! Val Loss: 5.8582\n",
      "\n",
      "Epoch 5/10 Summary:\n",
      "  Train Loss: 5.9923 | Train Acc: 0.1669\n",
      "  Val Loss: 5.8582 | Val Acc: 0.1721\n",
      "  Time: 363.86s\n",
      "------------------------------------------------------------\n"
     ]
    },
    {
     "name": "stderr",
     "output_type": "stream",
     "text": [
      "Epoch 6 Training:   4%|▎         | 1014/27349 [00:12<05:53, 74.44it/s, Loss=5.8568, Acc=0.1733]"
     ]
    },
    {
     "name": "stdout",
     "output_type": "stream",
     "text": [
      "\n",
      "Batch 1000/27349:\n",
      "  Loss: 5.8560\n",
      "  Accuracy: 0.1734\n"
     ]
    },
    {
     "name": "stderr",
     "output_type": "stream",
     "text": [
      "Epoch 6 Training:   7%|▋         | 2007/27349 [00:26<05:42, 73.94it/s, Loss=5.8624, Acc=0.1730]"
     ]
    },
    {
     "name": "stdout",
     "output_type": "stream",
     "text": [
      "\n",
      "Batch 2000/27349:\n",
      "  Loss: 5.8631\n",
      "  Accuracy: 0.1729\n"
     ]
    },
    {
     "name": "stderr",
     "output_type": "stream",
     "text": [
      "Epoch 6 Training:  11%|█         | 3008/27349 [00:39<05:07, 79.06it/s, Loss=5.8747, Acc=0.1725]"
     ]
    },
    {
     "name": "stdout",
     "output_type": "stream",
     "text": [
      "\n",
      "Batch 3000/27349:\n",
      "  Loss: 5.8744\n",
      "  Accuracy: 0.1725\n"
     ]
    },
    {
     "name": "stderr",
     "output_type": "stream",
     "text": [
      "Epoch 6 Training:  15%|█▍        | 4015/27349 [00:52<04:43, 82.32it/s, Loss=5.8715, Acc=0.1730]"
     ]
    },
    {
     "name": "stdout",
     "output_type": "stream",
     "text": [
      "\n",
      "Batch 4000/27349:\n",
      "  Loss: 5.8714\n",
      "  Accuracy: 0.1730\n"
     ]
    },
    {
     "name": "stderr",
     "output_type": "stream",
     "text": [
      "Epoch 6 Training:  18%|█▊        | 5014/27349 [01:05<05:18, 70.19it/s, Loss=5.8731, Acc=0.1730]"
     ]
    },
    {
     "name": "stdout",
     "output_type": "stream",
     "text": [
      "\n",
      "Batch 5000/27349:\n",
      "  Loss: 5.8735\n",
      "  Accuracy: 0.1730\n"
     ]
    },
    {
     "name": "stderr",
     "output_type": "stream",
     "text": [
      "Epoch 6 Training:  22%|██▏       | 6013/27349 [01:19<05:02, 70.43it/s, Loss=5.8764, Acc=0.1726]"
     ]
    },
    {
     "name": "stdout",
     "output_type": "stream",
     "text": [
      "\n",
      "Batch 6000/27349:\n",
      "  Loss: 5.8765\n",
      "  Accuracy: 0.1725\n"
     ]
    },
    {
     "name": "stderr",
     "output_type": "stream",
     "text": [
      "Epoch 6 Training:  26%|██▌       | 7007/27349 [01:31<04:46, 70.90it/s, Loss=5.8749, Acc=0.1729]"
     ]
    },
    {
     "name": "stdout",
     "output_type": "stream",
     "text": [
      "\n",
      "Batch 7000/27349:\n",
      "  Loss: 5.8751\n",
      "  Accuracy: 0.1728\n"
     ]
    },
    {
     "name": "stderr",
     "output_type": "stream",
     "text": [
      "Epoch 6 Training:  29%|██▉       | 8009/27349 [01:45<04:29, 71.85it/s, Loss=5.8780, Acc=0.1729]"
     ]
    },
    {
     "name": "stdout",
     "output_type": "stream",
     "text": [
      "\n",
      "Batch 8000/27349:\n",
      "  Loss: 5.8779\n",
      "  Accuracy: 0.1729\n"
     ]
    },
    {
     "name": "stderr",
     "output_type": "stream",
     "text": [
      "Epoch 6 Training:  33%|███▎      | 9008/27349 [01:57<03:47, 80.75it/s, Loss=5.8791, Acc=0.1729]"
     ]
    },
    {
     "name": "stdout",
     "output_type": "stream",
     "text": [
      "\n",
      "Batch 9000/27349:\n",
      "  Loss: 5.8793\n",
      "  Accuracy: 0.1729\n"
     ]
    },
    {
     "name": "stderr",
     "output_type": "stream",
     "text": [
      "Epoch 6 Training:  37%|███▋      | 10010/27349 [02:11<04:05, 70.61it/s, Loss=5.8802, Acc=0.1728]"
     ]
    },
    {
     "name": "stdout",
     "output_type": "stream",
     "text": [
      "\n",
      "Batch 10000/27349:\n",
      "  Loss: 5.8803\n",
      "  Accuracy: 0.1728\n"
     ]
    },
    {
     "name": "stderr",
     "output_type": "stream",
     "text": [
      "Epoch 6 Training:  40%|████      | 11010/27349 [02:25<03:43, 73.12it/s, Loss=5.8833, Acc=0.1726]"
     ]
    },
    {
     "name": "stdout",
     "output_type": "stream",
     "text": [
      "\n",
      "Batch 11000/27349:\n",
      "  Loss: 5.8831\n",
      "  Accuracy: 0.1726\n"
     ]
    },
    {
     "name": "stderr",
     "output_type": "stream",
     "text": [
      "Epoch 6 Training:  44%|████▍     | 12013/27349 [02:38<03:11, 80.26it/s, Loss=5.8836, Acc=0.1726]"
     ]
    },
    {
     "name": "stdout",
     "output_type": "stream",
     "text": [
      "\n",
      "Batch 12000/27349:\n",
      "  Loss: 5.8838\n",
      "  Accuracy: 0.1726\n"
     ]
    },
    {
     "name": "stderr",
     "output_type": "stream",
     "text": [
      "Epoch 6 Training:  48%|████▊     | 13010/27349 [02:52<03:07, 76.59it/s, Loss=5.8855, Acc=0.1727]"
     ]
    },
    {
     "name": "stdout",
     "output_type": "stream",
     "text": [
      "\n",
      "Batch 13000/27349:\n",
      "  Loss: 5.8855\n",
      "  Accuracy: 0.1727\n"
     ]
    },
    {
     "name": "stderr",
     "output_type": "stream",
     "text": [
      "Epoch 6 Training:  51%|█████     | 14008/27349 [03:05<02:45, 80.55it/s, Loss=5.8846, Acc=0.1727]"
     ]
    },
    {
     "name": "stdout",
     "output_type": "stream",
     "text": [
      "\n",
      "Batch 14000/27349:\n",
      "  Loss: 5.8848\n",
      "  Accuracy: 0.1727\n"
     ]
    },
    {
     "name": "stderr",
     "output_type": "stream",
     "text": [
      "Epoch 6 Training:  55%|█████▍    | 15010/27349 [03:18<02:35, 79.48it/s, Loss=5.8853, Acc=0.1728]"
     ]
    },
    {
     "name": "stdout",
     "output_type": "stream",
     "text": [
      "\n",
      "Batch 15000/27349:\n",
      "  Loss: 5.8853\n",
      "  Accuracy: 0.1728\n"
     ]
    },
    {
     "name": "stderr",
     "output_type": "stream",
     "text": [
      "Epoch 6 Training:  59%|█████▊    | 16012/27349 [03:31<02:32, 74.34it/s, Loss=5.8847, Acc=0.1728]"
     ]
    },
    {
     "name": "stdout",
     "output_type": "stream",
     "text": [
      "\n",
      "Batch 16000/27349:\n",
      "  Loss: 5.8848\n",
      "  Accuracy: 0.1728\n"
     ]
    },
    {
     "name": "stderr",
     "output_type": "stream",
     "text": [
      "Epoch 6 Training:  62%|██████▏   | 17009/27349 [03:44<02:09, 79.89it/s, Loss=5.8854, Acc=0.1728]"
     ]
    },
    {
     "name": "stdout",
     "output_type": "stream",
     "text": [
      "\n",
      "Batch 17000/27349:\n",
      "  Loss: 5.8854\n",
      "  Accuracy: 0.1728\n"
     ]
    },
    {
     "name": "stderr",
     "output_type": "stream",
     "text": [
      "Epoch 6 Training:  66%|██████▌   | 18009/27349 [03:57<02:05, 74.50it/s, Loss=5.8861, Acc=0.1728]"
     ]
    },
    {
     "name": "stdout",
     "output_type": "stream",
     "text": [
      "\n",
      "Batch 18000/27349:\n",
      "  Loss: 5.8859\n",
      "  Accuracy: 0.1728\n"
     ]
    },
    {
     "name": "stderr",
     "output_type": "stream",
     "text": [
      "Epoch 6 Training:  70%|██████▉   | 19011/27349 [04:09<01:41, 82.15it/s, Loss=5.8865, Acc=0.1727]"
     ]
    },
    {
     "name": "stdout",
     "output_type": "stream",
     "text": [
      "\n",
      "Batch 19000/27349:\n",
      "  Loss: 5.8866\n",
      "  Accuracy: 0.1727\n"
     ]
    },
    {
     "name": "stderr",
     "output_type": "stream",
     "text": [
      "Epoch 6 Training:  73%|███████▎  | 20014/27349 [04:21<01:37, 75.35it/s, Loss=5.8864, Acc=0.1728]"
     ]
    },
    {
     "name": "stdout",
     "output_type": "stream",
     "text": [
      "\n",
      "Batch 20000/27349:\n",
      "  Loss: 5.8865\n",
      "  Accuracy: 0.1728\n"
     ]
    },
    {
     "name": "stderr",
     "output_type": "stream",
     "text": [
      "Epoch 6 Training:  77%|███████▋  | 21008/27349 [04:33<01:28, 71.62it/s, Loss=5.8866, Acc=0.1728]"
     ]
    },
    {
     "name": "stdout",
     "output_type": "stream",
     "text": [
      "\n",
      "Batch 21000/27349:\n",
      "  Loss: 5.8867\n",
      "  Accuracy: 0.1728\n"
     ]
    },
    {
     "name": "stderr",
     "output_type": "stream",
     "text": [
      "Epoch 6 Training:  80%|████████  | 22011/27349 [04:46<01:14, 71.81it/s, Loss=5.8870, Acc=0.1727]"
     ]
    },
    {
     "name": "stdout",
     "output_type": "stream",
     "text": [
      "\n",
      "Batch 22000/27349:\n",
      "  Loss: 5.8869\n",
      "  Accuracy: 0.1727\n"
     ]
    },
    {
     "name": "stderr",
     "output_type": "stream",
     "text": [
      "Epoch 6 Training:  84%|████████▍ | 23013/27349 [04:58<00:49, 87.55it/s, Loss=5.8875, Acc=0.1726]"
     ]
    },
    {
     "name": "stdout",
     "output_type": "stream",
     "text": [
      "\n",
      "Batch 23000/27349:\n",
      "  Loss: 5.8875\n",
      "  Accuracy: 0.1726\n"
     ]
    },
    {
     "name": "stderr",
     "output_type": "stream",
     "text": [
      "Epoch 6 Training:  88%|████████▊ | 24009/27349 [05:11<00:47, 71.02it/s, Loss=5.8879, Acc=0.1727]"
     ]
    },
    {
     "name": "stdout",
     "output_type": "stream",
     "text": [
      "\n",
      "Batch 24000/27349:\n",
      "  Loss: 5.8878\n",
      "  Accuracy: 0.1727\n"
     ]
    },
    {
     "name": "stderr",
     "output_type": "stream",
     "text": [
      "Epoch 6 Training:  91%|█████████▏| 25012/27349 [05:24<00:31, 74.30it/s, Loss=5.8872, Acc=0.1728]"
     ]
    },
    {
     "name": "stdout",
     "output_type": "stream",
     "text": [
      "\n",
      "Batch 25000/27349:\n",
      "  Loss: 5.8873\n",
      "  Accuracy: 0.1727\n"
     ]
    },
    {
     "name": "stderr",
     "output_type": "stream",
     "text": [
      "Epoch 6 Training:  95%|█████████▌| 26017/27349 [05:37<00:15, 87.59it/s, Loss=5.8869, Acc=0.1728]"
     ]
    },
    {
     "name": "stdout",
     "output_type": "stream",
     "text": [
      "\n",
      "Batch 26000/27349:\n",
      "  Loss: 5.8870\n",
      "  Accuracy: 0.1728\n"
     ]
    },
    {
     "name": "stderr",
     "output_type": "stream",
     "text": [
      "Epoch 6 Training:  99%|█████████▉| 27011/27349 [05:49<00:03, 85.04it/s, Loss=5.8871, Acc=0.1728]"
     ]
    },
    {
     "name": "stdout",
     "output_type": "stream",
     "text": [
      "\n",
      "Batch 27000/27349:\n",
      "  Loss: 5.8870\n",
      "  Accuracy: 0.1728\n"
     ]
    },
    {
     "name": "stderr",
     "output_type": "stream",
     "text": [
      "Epoch 6 Training: 100%|██████████| 27349/27349 [05:53<00:00, 77.41it/s, Loss=5.8867, Acc=0.1729]\n",
      "Epoch 6 Validation: 100%|██████████| 2869/2869 [00:13<00:00, 220.12it/s, Val Loss=5.8124, Val Acc=0.1742]\n"
     ]
    },
    {
     "name": "stdout",
     "output_type": "stream",
     "text": [
      "✓ New best model saved! Val Loss: 5.8124\n",
      "\n",
      "Epoch 6/10 Summary:\n",
      "  Train Loss: 5.8867 | Train Acc: 0.1729\n",
      "  Val Loss: 5.8124 | Val Acc: 0.1742\n",
      "  Time: 366.34s\n",
      "------------------------------------------------------------\n"
     ]
    },
    {
     "name": "stderr",
     "output_type": "stream",
     "text": [
      "Epoch 7 Training:   4%|▎         | 1011/27349 [00:13<06:12, 70.71it/s, Loss=5.7615, Acc=0.1791]"
     ]
    },
    {
     "name": "stdout",
     "output_type": "stream",
     "text": [
      "\n",
      "Batch 1000/27349:\n",
      "  Loss: 5.7592\n",
      "  Accuracy: 0.1794\n"
     ]
    },
    {
     "name": "stderr",
     "output_type": "stream",
     "text": [
      "Epoch 7 Training:   7%|▋         | 2007/27349 [00:27<06:00, 70.34it/s, Loss=5.7728, Acc=0.1778]"
     ]
    },
    {
     "name": "stdout",
     "output_type": "stream",
     "text": [
      "\n",
      "Batch 2000/27349:\n",
      "  Loss: 5.7736\n",
      "  Accuracy: 0.1779\n"
     ]
    },
    {
     "name": "stderr",
     "output_type": "stream",
     "text": [
      "Epoch 7 Training:  11%|█         | 3012/27349 [00:39<05:13, 77.57it/s, Loss=5.7678, Acc=0.1781]"
     ]
    },
    {
     "name": "stdout",
     "output_type": "stream",
     "text": [
      "\n",
      "Batch 3000/27349:\n",
      "  Loss: 5.7674\n",
      "  Accuracy: 0.1780\n"
     ]
    },
    {
     "name": "stderr",
     "output_type": "stream",
     "text": [
      "Epoch 7 Training:  15%|█▍        | 4014/27349 [00:52<04:26, 87.49it/s, Loss=5.7711, Acc=0.1778]"
     ]
    },
    {
     "name": "stdout",
     "output_type": "stream",
     "text": [
      "\n",
      "Batch 4000/27349:\n",
      "  Loss: 5.7713\n",
      "  Accuracy: 0.1778\n"
     ]
    },
    {
     "name": "stderr",
     "output_type": "stream",
     "text": [
      "Epoch 7 Training:  18%|█▊        | 5017/27349 [01:03<04:16, 87.01it/s, Loss=5.7689, Acc=0.1779]"
     ]
    },
    {
     "name": "stdout",
     "output_type": "stream",
     "text": [
      "\n",
      "Batch 5000/27349:\n",
      "  Loss: 5.7694\n",
      "  Accuracy: 0.1779\n"
     ]
    },
    {
     "name": "stderr",
     "output_type": "stream",
     "text": [
      "Epoch 7 Training:  22%|██▏       | 6016/27349 [01:15<04:10, 85.07it/s, Loss=5.7737, Acc=0.1779]"
     ]
    },
    {
     "name": "stdout",
     "output_type": "stream",
     "text": [
      "\n",
      "Batch 6000/27349:\n",
      "  Loss: 5.7737\n",
      "  Accuracy: 0.1779\n"
     ]
    },
    {
     "name": "stderr",
     "output_type": "stream",
     "text": [
      "Epoch 7 Training:  26%|██▌       | 7015/27349 [01:27<03:54, 86.73it/s, Loss=5.7727, Acc=0.1782]"
     ]
    },
    {
     "name": "stdout",
     "output_type": "stream",
     "text": [
      "\n",
      "Batch 7000/27349:\n",
      "  Loss: 5.7730\n",
      "  Accuracy: 0.1782\n"
     ]
    },
    {
     "name": "stderr",
     "output_type": "stream",
     "text": [
      "Epoch 7 Training:  29%|██▉       | 8007/27349 [01:38<04:23, 73.43it/s, Loss=5.7749, Acc=0.1781]"
     ]
    },
    {
     "name": "stdout",
     "output_type": "stream",
     "text": [
      "\n",
      "Batch 8000/27349:\n",
      "  Loss: 5.7749\n",
      "  Accuracy: 0.1781\n"
     ]
    },
    {
     "name": "stderr",
     "output_type": "stream",
     "text": [
      "Epoch 7 Training:  33%|███▎      | 9013/27349 [01:51<03:35, 85.20it/s, Loss=5.7755, Acc=0.1781]"
     ]
    },
    {
     "name": "stdout",
     "output_type": "stream",
     "text": [
      "\n",
      "Batch 9000/27349:\n",
      "  Loss: 5.7752\n",
      "  Accuracy: 0.1781\n"
     ]
    },
    {
     "name": "stderr",
     "output_type": "stream",
     "text": [
      "Epoch 7 Training:  37%|███▋      | 10008/27349 [02:04<03:15, 88.51it/s, Loss=5.7776, Acc=0.1779]"
     ]
    },
    {
     "name": "stdout",
     "output_type": "stream",
     "text": [
      "\n",
      "Batch 10000/27349:\n",
      "  Loss: 5.7775\n",
      "  Accuracy: 0.1779\n"
     ]
    },
    {
     "name": "stderr",
     "output_type": "stream",
     "text": [
      "Epoch 7 Training:  40%|████      | 11014/27349 [02:16<03:10, 85.81it/s, Loss=5.7803, Acc=0.1779]"
     ]
    },
    {
     "name": "stdout",
     "output_type": "stream",
     "text": [
      "\n",
      "Batch 11000/27349:\n",
      "  Loss: 5.7801\n",
      "  Accuracy: 0.1779\n"
     ]
    },
    {
     "name": "stderr",
     "output_type": "stream",
     "text": [
      "Epoch 7 Training:  44%|████▍     | 12009/27349 [02:28<03:06, 82.14it/s, Loss=5.7801, Acc=0.1778]"
     ]
    },
    {
     "name": "stdout",
     "output_type": "stream",
     "text": [
      "\n",
      "Batch 12000/27349:\n",
      "  Loss: 5.7803\n",
      "  Accuracy: 0.1778\n"
     ]
    },
    {
     "name": "stderr",
     "output_type": "stream",
     "text": [
      "Epoch 7 Training:  48%|████▊     | 13009/27349 [02:41<03:16, 72.87it/s, Loss=5.7831, Acc=0.1776]"
     ]
    },
    {
     "name": "stdout",
     "output_type": "stream",
     "text": [
      "\n",
      "Batch 13000/27349:\n",
      "  Loss: 5.7831\n",
      "  Accuracy: 0.1776\n"
     ]
    },
    {
     "name": "stderr",
     "output_type": "stream",
     "text": [
      "Epoch 7 Training:  51%|█████     | 14007/27349 [02:54<02:59, 74.50it/s, Loss=5.7828, Acc=0.1778]"
     ]
    },
    {
     "name": "stdout",
     "output_type": "stream",
     "text": [
      "\n",
      "Batch 14000/27349:\n",
      "  Loss: 5.7828\n",
      "  Accuracy: 0.1778\n"
     ]
    },
    {
     "name": "stderr",
     "output_type": "stream",
     "text": [
      "Epoch 7 Training:  55%|█████▍    | 15008/27349 [03:07<02:29, 82.30it/s, Loss=5.7848, Acc=0.1778]"
     ]
    },
    {
     "name": "stdout",
     "output_type": "stream",
     "text": [
      "\n",
      "Batch 15000/27349:\n",
      "  Loss: 5.7847\n",
      "  Accuracy: 0.1778\n"
     ]
    },
    {
     "name": "stderr",
     "output_type": "stream",
     "text": [
      "Epoch 7 Training:  59%|█████▊    | 16010/27349 [03:20<02:23, 79.20it/s, Loss=5.7862, Acc=0.1777]"
     ]
    },
    {
     "name": "stdout",
     "output_type": "stream",
     "text": [
      "\n",
      "Batch 16000/27349:\n",
      "  Loss: 5.7860\n",
      "  Accuracy: 0.1777\n"
     ]
    },
    {
     "name": "stderr",
     "output_type": "stream",
     "text": [
      "Epoch 7 Training:  62%|██████▏   | 17010/27349 [03:32<01:57, 87.87it/s, Loss=5.7884, Acc=0.1776]"
     ]
    },
    {
     "name": "stdout",
     "output_type": "stream",
     "text": [
      "\n",
      "Batch 17000/27349:\n",
      "  Loss: 5.7883\n",
      "  Accuracy: 0.1776\n"
     ]
    },
    {
     "name": "stderr",
     "output_type": "stream",
     "text": [
      "Epoch 7 Training:  66%|██████▌   | 18009/27349 [03:43<01:53, 82.60it/s, Loss=5.7899, Acc=0.1775]"
     ]
    },
    {
     "name": "stdout",
     "output_type": "stream",
     "text": [
      "\n",
      "Batch 18000/27349:\n",
      "  Loss: 5.7899\n",
      "  Accuracy: 0.1775\n"
     ]
    },
    {
     "name": "stderr",
     "output_type": "stream",
     "text": [
      "Epoch 7 Training:  70%|██████▉   | 19017/27349 [03:55<01:37, 85.38it/s, Loss=5.7908, Acc=0.1775]"
     ]
    },
    {
     "name": "stdout",
     "output_type": "stream",
     "text": [
      "\n",
      "Batch 19000/27349:\n",
      "  Loss: 5.7909\n",
      "  Accuracy: 0.1775\n"
     ]
    },
    {
     "name": "stderr",
     "output_type": "stream",
     "text": [
      "Epoch 7 Training:  73%|███████▎  | 20016/27349 [04:07<01:24, 86.92it/s, Loss=5.7908, Acc=0.1776]"
     ]
    },
    {
     "name": "stdout",
     "output_type": "stream",
     "text": [
      "\n",
      "Batch 20000/27349:\n",
      "  Loss: 5.7908\n",
      "  Accuracy: 0.1776\n"
     ]
    },
    {
     "name": "stderr",
     "output_type": "stream",
     "text": [
      "Epoch 7 Training:  77%|███████▋  | 21012/27349 [04:19<01:14, 85.19it/s, Loss=5.7912, Acc=0.1777]"
     ]
    },
    {
     "name": "stdout",
     "output_type": "stream",
     "text": [
      "\n",
      "Batch 21000/27349:\n",
      "  Loss: 5.7911\n",
      "  Accuracy: 0.1777\n"
     ]
    },
    {
     "name": "stderr",
     "output_type": "stream",
     "text": [
      "Epoch 7 Training:  80%|████████  | 22013/27349 [04:30<01:05, 81.86it/s, Loss=5.7917, Acc=0.1778]"
     ]
    },
    {
     "name": "stdout",
     "output_type": "stream",
     "text": [
      "\n",
      "Batch 22000/27349:\n",
      "  Loss: 5.7916\n",
      "  Accuracy: 0.1779\n"
     ]
    },
    {
     "name": "stderr",
     "output_type": "stream",
     "text": [
      "Epoch 7 Training:  84%|████████▍ | 23008/27349 [04:43<00:53, 81.90it/s, Loss=5.7927, Acc=0.1779]"
     ]
    },
    {
     "name": "stdout",
     "output_type": "stream",
     "text": [
      "\n",
      "Batch 23000/27349:\n",
      "  Loss: 5.7927\n",
      "  Accuracy: 0.1779\n"
     ]
    },
    {
     "name": "stderr",
     "output_type": "stream",
     "text": [
      "Epoch 9 Training:  37%|███▋      | 10014/27349 [02:14<03:23, 84.98it/s, Loss=5.6244, Acc=0.1874]"
     ]
    },
    {
     "name": "stdout",
     "output_type": "stream",
     "text": [
      "\n",
      "Batch 10000/27349:\n",
      "  Loss: 5.6242\n",
      "  Accuracy: 0.1874\n"
     ]
    },
    {
     "name": "stderr",
     "output_type": "stream",
     "text": [
      "Epoch 9 Training:  40%|████      | 11007/27349 [02:27<03:17, 82.70it/s, Loss=5.6248, Acc=0.1873]"
     ]
    },
    {
     "name": "stdout",
     "output_type": "stream",
     "text": [
      "\n",
      "Batch 11000/27349:\n",
      "  Loss: 5.6249\n",
      "  Accuracy: 0.1873\n"
     ]
    },
    {
     "name": "stderr",
     "output_type": "stream",
     "text": [
      "Epoch 9 Training:  43%|████▎     | 11786/27349 [02:37<03:17, 78.88it/s, Loss=5.6256, Acc=0.1873]IOPub message rate exceeded.\n",
      "The Jupyter server will temporarily stop sending output\n",
      "to the client in order to avoid crashing it.\n",
      "To change this limit, set the config variable\n",
      "`--ServerApp.iopub_msg_rate_limit`.\n",
      "\n",
      "Current values:\n",
      "ServerApp.iopub_msg_rate_limit=1000.0 (msgs/sec)\n",
      "ServerApp.rate_limit_window=3.0 (secs)\n",
      "\n",
      "Epoch 10 Training:  51%|█████     | 14014/27349 [02:54<02:50, 77.99it/s, Loss=5.5613, Acc=0.1913]"
     ]
    },
    {
     "name": "stdout",
     "output_type": "stream",
     "text": [
      "\n",
      "Batch 14000/27349:\n",
      "  Loss: 5.5612\n",
      "  Accuracy: 0.1913\n"
     ]
    },
    {
     "name": "stderr",
     "output_type": "stream",
     "text": [
      "Epoch 10 Training:  55%|█████▍    | 15009/27349 [03:08<02:52, 71.41it/s, Loss=5.5627, Acc=0.1913]"
     ]
    },
    {
     "name": "stdout",
     "output_type": "stream",
     "text": [
      "\n",
      "Batch 15000/27349:\n",
      "  Loss: 5.5627\n",
      "  Accuracy: 0.1913\n"
     ]
    },
    {
     "name": "stderr",
     "output_type": "stream",
     "text": [
      "Epoch 10 Training:  59%|█████▊    | 16014/27349 [03:22<02:32, 74.32it/s, Loss=5.5644, Acc=0.1913]"
     ]
    },
    {
     "name": "stdout",
     "output_type": "stream",
     "text": [
      "\n",
      "Batch 16000/27349:\n",
      "  Loss: 5.5645\n",
      "  Accuracy: 0.1913\n"
     ]
    },
    {
     "name": "stderr",
     "output_type": "stream",
     "text": [
      "Epoch 10 Training:  62%|██████▏   | 17014/27349 [03:34<02:00, 86.06it/s, Loss=5.5656, Acc=0.1912]"
     ]
    },
    {
     "name": "stdout",
     "output_type": "stream",
     "text": [
      "\n",
      "Batch 17000/27349:\n",
      "  Loss: 5.5657\n",
      "  Accuracy: 0.1912\n"
     ]
    },
    {
     "name": "stderr",
     "output_type": "stream",
     "text": [
      "Epoch 10 Training:  66%|██████▌   | 18018/27349 [03:46<01:43, 89.74it/s, Loss=5.5674, Acc=0.1912]"
     ]
    },
    {
     "name": "stdout",
     "output_type": "stream",
     "text": [
      "\n",
      "Batch 18000/27349:\n",
      "  Loss: 5.5674\n",
      "  Accuracy: 0.1912\n"
     ]
    },
    {
     "name": "stderr",
     "output_type": "stream",
     "text": [
      "Epoch 10 Training:  70%|██████▉   | 19009/27349 [03:59<01:58, 70.18it/s, Loss=5.5702, Acc=0.1909]"
     ]
    },
    {
     "name": "stdout",
     "output_type": "stream",
     "text": [
      "\n",
      "Batch 19000/27349:\n",
      "  Loss: 5.5701\n",
      "  Accuracy: 0.1909\n"
     ]
    },
    {
     "name": "stderr",
     "output_type": "stream",
     "text": [
      "Epoch 10 Training:  73%|███████▎  | 20011/27349 [04:13<01:42, 71.87it/s, Loss=5.5713, Acc=0.1910]"
     ]
    },
    {
     "name": "stdout",
     "output_type": "stream",
     "text": [
      "\n",
      "Batch 20000/27349:\n",
      "  Loss: 5.5714\n",
      "  Accuracy: 0.1910\n"
     ]
    },
    {
     "name": "stderr",
     "output_type": "stream",
     "text": [
      "Epoch 10 Training:  77%|███████▋  | 21007/27349 [04:27<01:30, 70.13it/s, Loss=5.5728, Acc=0.1909]"
     ]
    },
    {
     "name": "stdout",
     "output_type": "stream",
     "text": [
      "\n",
      "Batch 21000/27349:\n",
      "  Loss: 5.5729\n",
      "  Accuracy: 0.1909\n"
     ]
    },
    {
     "name": "stderr",
     "output_type": "stream",
     "text": [
      "Epoch 10 Training:  80%|████████  | 22011/27349 [04:39<01:02, 85.44it/s, Loss=5.5738, Acc=0.1908]"
     ]
    },
    {
     "name": "stdout",
     "output_type": "stream",
     "text": [
      "\n",
      "Batch 22000/27349:\n",
      "  Loss: 5.5739\n",
      "  Accuracy: 0.1908\n"
     ]
    },
    {
     "name": "stderr",
     "output_type": "stream",
     "text": [
      "Epoch 10 Training:  84%|████████▍ | 23010/27349 [04:51<00:50, 85.69it/s, Loss=5.5752, Acc=0.1908]"
     ]
    },
    {
     "name": "stdout",
     "output_type": "stream",
     "text": [
      "\n",
      "Batch 23000/27349:\n",
      "  Loss: 5.5751\n",
      "  Accuracy: 0.1908\n"
     ]
    },
    {
     "name": "stderr",
     "output_type": "stream",
     "text": [
      "Epoch 10 Training:  88%|████████▊ | 24007/27349 [05:03<00:45, 74.01it/s, Loss=5.5765, Acc=0.1907]"
     ]
    },
    {
     "name": "stdout",
     "output_type": "stream",
     "text": [
      "\n",
      "Batch 24000/27349:\n",
      "  Loss: 5.5765\n",
      "  Accuracy: 0.1907\n"
     ]
    },
    {
     "name": "stderr",
     "output_type": "stream",
     "text": [
      "Epoch 10 Training:  91%|█████████▏| 25007/27349 [05:17<00:32, 71.09it/s, Loss=5.5777, Acc=0.1907]"
     ]
    },
    {
     "name": "stdout",
     "output_type": "stream",
     "text": [
      "\n",
      "Batch 25000/27349:\n",
      "  Loss: 5.5776\n",
      "  Accuracy: 0.1907\n"
     ]
    },
    {
     "name": "stderr",
     "output_type": "stream",
     "text": [
      "Epoch 10 Training:  95%|█████████▌| 26014/27349 [05:31<00:16, 82.19it/s, Loss=5.5785, Acc=0.1907]"
     ]
    },
    {
     "name": "stdout",
     "output_type": "stream",
     "text": [
      "\n",
      "Batch 26000/27349:\n",
      "  Loss: 5.5785\n",
      "  Accuracy: 0.1907\n"
     ]
    },
    {
     "name": "stderr",
     "output_type": "stream",
     "text": [
      "Epoch 10 Training:  99%|█████████▉| 27008/27349 [05:45<00:04, 82.89it/s, Loss=5.5790, Acc=0.1908]"
     ]
    },
    {
     "name": "stdout",
     "output_type": "stream",
     "text": [
      "\n",
      "Batch 27000/27349:\n",
      "  Loss: 5.5790\n",
      "  Accuracy: 0.1908\n"
     ]
    },
    {
     "name": "stderr",
     "output_type": "stream",
     "text": [
      "Epoch 10 Training: 100%|██████████| 27349/27349 [05:49<00:00, 78.33it/s, Loss=5.5795, Acc=0.1908]\n",
      "Epoch 10 Validation: 100%|██████████| 2869/2869 [00:12<00:00, 231.55it/s, Val Loss=5.6805, Val Acc=0.1846]\n"
     ]
    },
    {
     "name": "stdout",
     "output_type": "stream",
     "text": [
      "✓ New best model saved! Val Loss: 5.6805\n",
      "\n",
      "Epoch 10/10 Summary:\n",
      "  Train Loss: 5.5795 | Train Acc: 0.1908\n",
      "  Val Loss: 5.6805 | Val Acc: 0.1846\n",
      "  Time: 361.54s\n",
      "------------------------------------------------------------\n",
      "\n",
      "Training completed in 3618.42s\n",
      "Best validation loss: 5.6805\n",
      "Loaded best model weights\n"
     ]
    },
    {
     "data": {
      "image/png": "[encoded data removed]",
      "text/plain": [
       "<Figure size 1500x500 with 2 Axes>"
      ]
     },
     "metadata": {},
     "output_type": "display_data"
    },
    {
     "name": "stdout",
     "output_type": "stream",
     "text": [
      "\n",
      "✅ Training completed!\n",
      "📁 Model saved as 'gru_language_model.pth'\n",
      "🎯 Final validation accuracy: 0.1846\n"
     ]
    }
   ],
   "source": [
    "# Train the GRU Language Model\n",
    "\n",
    "import torch\n",
    "import torch.nn as nn\n",
    "import time\n",
    "from tqdm import tqdm\n",
    "import matplotlib.pyplot as plt\n",
    "\n",
    "def train_epoch(model, train_loader, criterion, optimizer, device, epoch):\n",
    "    \"\"\"Train the model for one epoch\"\"\"\n",
    "    model.train()\n",
    "    total_loss = 0\n",
    "    total_samples = 0\n",
    "    correct_predictions = 0\n",
    "    \n",
    "    # Progress bar\n",
    "    pbar = tqdm(train_loader, desc=f'Epoch {epoch+1} Training')\n",
    "    \n",
    "    for batch_idx, (sequences, targets) in enumerate(pbar):\n",
    "        # Move data to device\n",
    "        sequences = sequences.to(device)\n",
    "        targets = targets.to(device)\n",
    "        \n",
    "        # Zero gradients\n",
    "        optimizer.zero_grad()\n",
    "        \n",
    "        # Forward pass\n",
    "        logits, hidden = model(sequences)\n",
    "        \n",
    "        # Calculate loss (predict next token from last timestep)\n",
    "        last_token_logits = logits[:, -1, :]  # [batch_size, vocab_size]\n",
    "        loss = criterion(last_token_logits, targets)\n",
    "        \n",
    "        # Backward pass\n",
    "        loss.backward()\n",
    "        \n",
    "        # Gradient clipping to prevent exploding gradients\n",
    "        # May try 0.5 as the max_norm\n",
    "        torch.nn.utils.clip_grad_norm_(model.parameters(), max_norm=1.0)\n",
    "        \n",
    "        # Update weights\n",
    "        optimizer.step()\n",
    "        \n",
    "        # Statistics\n",
    "        total_loss += loss.item()\n",
    "        total_samples += targets.size(0)\n",
    "        \n",
    "        # Calculate accuracy\n",
    "        predictions = torch.argmax(last_token_logits, dim=-1)\n",
    "        correct_predictions += (predictions == targets).sum().item()\n",
    "        \n",
    "        # Update progress bar\n",
    "        avg_loss = total_loss / (batch_idx + 1)\n",
    "        accuracy = correct_predictions / total_samples\n",
    "        pbar.set_postfix({\n",
    "            'Loss': f'{avg_loss:.4f}',\n",
    "            'Acc': f'{accuracy:.4f}'\n",
    "        })\n",
    "        \n",
    "        # Print detailed stats every 1000 batches\n",
    "        if (batch_idx + 1) % 1000 == 0:\n",
    "            print(f'\\nBatch {batch_idx+1}/{len(train_loader)}:')\n",
    "            print(f'  Loss: {avg_loss:.4f}')\n",
    "            print(f'  Accuracy: {accuracy:.4f}')\n",
    "    \n",
    "    avg_loss = total_loss / len(train_loader)\n",
    "    accuracy = correct_predictions / total_samples\n",
    "    \n",
    "    return avg_loss, accuracy\n",
    "\n",
    "def validate_epoch(model, val_loader, criterion, device, epoch):\n",
    "    \"\"\"Validate the model\"\"\"\n",
    "    model.eval()\n",
    "    total_loss = 0\n",
    "    total_samples = 0\n",
    "    correct_predictions = 0\n",
    "    \n",
    "    with torch.no_grad():\n",
    "        pbar = tqdm(val_loader, desc=f'Epoch {epoch+1} Validation')\n",
    "        \n",
    "        for sequences, targets in pbar:\n",
    "            # Move data to device\n",
    "            sequences = sequences.to(device)\n",
    "            targets = targets.to(device)\n",
    "            \n",
    "            # Forward pass\n",
    "            logits, hidden = model(sequences)\n",
    "            \n",
    "            # Calculate loss\n",
    "            last_token_logits = logits[:, -1, :]\n",
    "            loss = criterion(last_token_logits, targets)\n",
    "            \n",
    "            # Statistics\n",
    "            total_loss += loss.item()\n",
    "            total_samples += targets.size(0)\n",
    "            \n",
    "            # Calculate accuracy\n",
    "            predictions = torch.argmax(last_token_logits, dim=-1)\n",
    "            correct_predictions += (predictions == targets).sum().item()\n",
    "            \n",
    "            # Update progress bar\n",
    "            avg_loss = total_loss / len(val_loader) if len(val_loader) > 0 else 0\n",
    "            accuracy = correct_predictions / total_samples\n",
    "            pbar.set_postfix({\n",
    "                'Val Loss': f'{avg_loss:.4f}',\n",
    "                'Val Acc': f'{accuracy:.4f}'\n",
    "            })\n",
    "    \n",
    "    avg_loss = total_loss / len(val_loader)\n",
    "    accuracy = correct_predictions / total_samples\n",
    "    \n",
    "    return avg_loss, accuracy\n",
    "\n",
    "def train_model(model, train_loader, val_loader, criterion, optimizer, device, num_epochs=10):\n",
    "    \"\"\"Complete training loop\"\"\"\n",
    "    \n",
    "    # Training history\n",
    "    train_losses = []\n",
    "    train_accuracies = []\n",
    "    val_losses = []\n",
    "    val_accuracies = []\n",
    "    \n",
    "    best_val_loss = float('inf')\n",
    "    best_model_state = None\n",
    "    \n",
    "    print(f\"Starting training for {num_epochs} epochs...\")\n",
    "    print(f\"Training batches: {len(train_loader)}\")\n",
    "    print(f\"Validation batches: {len(val_loader)}\")\n",
    "    print(\"-\" * 60)\n",
    "    \n",
    "    start_time = time.time()\n",
    "    \n",
    "    for epoch in range(num_epochs):\n",
    "        epoch_start_time = time.time()\n",
    "        \n",
    "        # Training\n",
    "        train_loss, train_acc = train_epoch(model, train_loader, criterion, optimizer, device, epoch)\n",
    "        \n",
    "        # Validation\n",
    "        val_loss, val_acc = validate_epoch(model, val_loader, criterion, device, epoch)\n",
    "        \n",
    "        # Save best model\n",
    "        if val_loss < best_val_loss:\n",
    "            best_val_loss = val_loss\n",
    "            best_model_state = model.state_dict().copy()\n",
    "            print(f\"✓ New best model saved! Val Loss: {val_loss:.4f}\")\n",
    "        \n",
    "        # Record history\n",
    "        train_losses.append(train_loss)\n",
    "        train_accuracies.append(train_acc)\n",
    "        val_losses.append(val_loss)\n",
    "        val_accuracies.append(val_acc)\n",
    "        \n",
    "        # Print epoch summary\n",
    "        epoch_time = time.time() - epoch_start_time\n",
    "        print(f\"\\nEpoch {epoch+1}/{num_epochs} Summary:\")\n",
    "        print(f\"  Train Loss: {train_loss:.4f} | Train Acc: {train_acc:.4f}\")\n",
    "        print(f\"  Val Loss: {val_loss:.4f} | Val Acc: {val_acc:.4f}\")\n",
    "        print(f\"  Time: {epoch_time:.2f}s\")\n",
    "        print(\"-\" * 60)\n",
    "    \n",
    "    total_time = time.time() - start_time\n",
    "    print(f\"\\nTraining completed in {total_time:.2f}s\")\n",
    "    print(f\"Best validation loss: {best_val_loss:.4f}\")\n",
    "    \n",
    "    # Load best model\n",
    "    if best_model_state is not None:\n",
    "        model.load_state_dict(best_model_state)\n",
    "        print(\"Loaded best model weights\")\n",
    "    \n",
    "    return {\n",
    "        'train_losses': train_losses,\n",
    "        'train_accuracies': train_accuracies,\n",
    "        'val_losses': val_losses,\n",
    "        'val_accuracies': val_accuracies,\n",
    "        'best_val_loss': best_val_loss\n",
    "    }\n",
    "\n",
    "def plot_training_history(history):\n",
    "    \"\"\"Plot training curves\"\"\"\n",
    "    fig, (ax1, ax2) = plt.subplots(1, 2, figsize=(15, 5))\n",
    "    \n",
    "    # Loss plot\n",
    "    ax1.plot(history['train_losses'], label='Train Loss', color='blue')\n",
    "    ax1.plot(history['val_losses'], label='Val Loss', color='red')\n",
    "    ax1.set_title('Training and Validation Loss')\n",
    "    ax1.set_xlabel('Epoch')\n",
    "    ax1.set_ylabel('Loss')\n",
    "    ax1.legend()\n",
    "    ax1.grid(True)\n",
    "    \n",
    "    # Accuracy plot\n",
    "    ax2.plot(history['train_accuracies'], label='Train Accuracy', color='blue')\n",
    "    ax2.plot(history['val_accuracies'], label='Val Accuracy', color='red')\n",
    "    ax2.set_title('Training and Validation Accuracy')\n",
    "    ax2.set_xlabel('Epoch')\n",
    "    ax2.set_ylabel('Accuracy')\n",
    "    ax2.legend()\n",
    "    ax2.grid(True)\n",
    "    \n",
    "    plt.tight_layout()\n",
    "    plt.show()\n",
    "\n",
    "# Start training\n",
    "print(\"🚀 Starting GRU Language Model Training...\")\n",
    "print(f\"Model has {sum(p.numel() for p in model.parameters()):,} parameters\")\n",
    "\n",
    "# Training parameters\n",
    "# Try 20+ epochs, with LR-Scheduler\n",
    "num_epochs = 10\n",
    "\n",
    "# Train the model\n",
    "history = train_model(\n",
    "    model=model,\n",
    "    train_loader=train_loader,\n",
    "    val_loader=val_loader,\n",
    "    criterion=criterion,\n",
    "    optimizer=optimizer,\n",
    "    device=device,\n",
    "    num_epochs=num_epochs\n",
    ")\n",
    "\n",
    "# Plot results\n",
    "plot_training_history(history)\n",
    "\n",
    "# Save the trained model\n",
    "torch.save({\n",
    "    'model_state_dict': model.state_dict(),\n",
    "    'optimizer_state_dict': optimizer.state_dict(),\n",
    "    'history': history,\n",
    "    'vocab': vocab,\n",
    "    'model_config': {\n",
    "        'vocab_size': vocab_size,\n",
    "        'embedding_dim': embedding_dim,\n",
    "        'hidden_dim': hidden_dim,\n",
    "        'num_layers': num_layers,\n",
    "        'dropout': dropout\n",
    "    }\n",
    "}, 'gru_language_model.pth')\n",
    "\n",
    "print(\"\\n✅ Training completed!\")\n",
    "print(\"📁 Model saved as 'gru_language_model.pth'\")\n",
    "print(f\"🎯 Final validation accuracy: {history['val_accuracies'][-1]:.4f}\")"
   ]
  },
  {
   "cell_type": "code",
   "execution_count": null,
   "metadata": {},
   "outputs": [
    {
     "name": "stdout",
     "output_type": "stream",
     "text": [
      "🧪 Testing the trained GRU model...\n",
      "\n",
      "📋 Testing with example sentences:\n",
      "============================================================\n",
      "\n",
      "1. Input: 'The cat sat on the'\n",
      "   Predicted: 'surface'\n",
      "   Top 3: ['ground', 'unk', 'surface']\n",
      "   Complete: 'The cat sat on the surface'\n",
      "\n",
      "2. Input: 'I love to eat'\n",
      "   Predicted: 'it'\n",
      "   Top 3: ['the', 'unk', 'a']\n",
      "   Complete: 'I love to eat it'\n",
      "\n",
      "3. Input: 'The weather today is'\n",
      "   Predicted: 'not'\n",
      "   Top 3: ['a', 'the', 'also']\n",
      "   Complete: 'The weather today is not'\n",
      "\n",
      "4. Input: 'Machine learning is'\n",
      "   Predicted: 'unk'\n",
      "   Top 3: ['a', 'the', 'to']\n",
      "   Complete: 'Machine learning is unk'\n",
      "\n",
      "5. Input: 'In the future we will'\n",
      "   Predicted: 'also'\n",
      "   Top 3: ['be', 'not', 'have']\n",
      "   Complete: 'In the future we will also'\n",
      "\n",
      "6. Input: 'The president of the United'\n",
      "   Predicted: 'states'\n",
      "   Top 3: ['states', 'nations', 'kingdom']\n",
      "   Complete: 'The president of the United states'\n",
      "\n",
      "7. Input: 'Scientists have discovered a new'\n",
      "   Predicted: 'front'\n",
      "   Top 3: ['unk', 'rate', 'generation']\n",
      "   Complete: 'Scientists have discovered a new front'\n",
      "\n",
      "8. Input: 'The book was very'\n",
      "   Predicted: 'well'\n",
      "   Top 3: ['difficult', 'successful', 'unk']\n",
      "   Complete: 'The book was very well'\n",
      "\n",
      "🤖 Interactive Text Prediction Mode\n",
      "Enter a sentence and I'll predict the next word!\n",
      "Type 'quit' to exit, 'generate' to generate multiple words\n",
      "------------------------------------------------------------\n"
     ]
    },
    {
     "name": "stdout",
     "output_type": "stream",
     "text": [
      "\n",
      "Enter text:  I'm living in the United\n"
     ]
    },
    {
     "name": "stdout",
     "output_type": "stream",
     "text": [
      "\n",
      "🔍 Analyzing: 'I'm living in the United'\n",
      "🎯 Predicted next word: 'states'\n",
      "\n",
      "📊 Top 10 candidates:\n",
      "   1. states          (0.9700)\n",
      "   2. kingdom         (0.0207)\n",
      "   3. nations         (0.0015)\n",
      "   4. notes           (0.0007)\n",
      "   5. century         (0.0005)\n",
      "   6. of              (0.0005)\n",
      "   7. class           (0.0003)\n",
      "   8. and             (0.0003)\n",
      "   9. area            (0.0003)\n",
      "  10. body            (0.0002)\n",
      "\n",
      "📝 Complete sentence: 'I'm living in the United states'\n"
     ]
    },
    {
     "name": "stdout",
     "output_type": "stream",
     "text": [
      "\n",
      "Enter text:  Hello world! I am an AI, Who\n"
     ]
    },
    {
     "name": "stdout",
     "output_type": "stream",
     "text": [
      "\n",
      "🔍 Analyzing: 'Hello world! I am an AI, Who'\n",
      "🎯 Predicted next word: 'can'\n",
      "\n",
      "📊 Top 10 candidates:\n",
      "   1. is              (0.2028)\n",
      "   2. can             (0.1560)\n",
      "   3. has             (0.0769)\n",
      "   4. was             (0.0745)\n",
      "   5. will            (0.0722)\n",
      "   6. would           (0.0555)\n",
      "   7. had             (0.0524)\n",
      "   8. are             (0.0269)\n",
      "   9. must            (0.0220)\n",
      "  10. could           (0.0192)\n",
      "\n",
      "📝 Complete sentence: 'Hello world! I am an AI, Who can'\n"
     ]
    },
    {
     "name": "stdout",
     "output_type": "stream",
     "text": [
      "\n",
      "Enter text:  Hello world! I am an AI, Who can save\n"
     ]
    },
    {
     "name": "stdout",
     "output_type": "stream",
     "text": [
      "\n",
      "🔍 Analyzing: 'Hello world! I am an AI, Who can save'\n",
      "🎯 Predicted next word: 'on'\n",
      "\n",
      "📊 Top 10 candidates:\n",
      "   1. the             (0.2553)\n",
      "   2. them            (0.1336)\n",
      "   3. their           (0.0590)\n",
      "   4. it              (0.0569)\n",
      "   5. a               (0.0536)\n",
      "   6. any             (0.0456)\n",
      "   7. him             (0.0238)\n",
      "   8. in              (0.0199)\n",
      "   9. unk             (0.0173)\n",
      "  10. for             (0.0163)\n",
      "\n",
      "📝 Complete sentence: 'Hello world! I am an AI, Who can save on'\n"
     ]
    },
    {
     "name": "stdout",
     "output_type": "stream",
     "text": [
      "\n",
      "Enter text:  Hello world! I am an AI, Who can save o\n"
     ]
    },
    {
     "name": "stdout",
     "output_type": "stream",
     "text": [
      "\n",
      "🔍 Analyzing: 'Hello world! I am an AI, Who can save o'\n",
      "🎯 Predicted next word: 'offer'\n",
      "\n",
      "📊 Top 10 candidates:\n",
      "   1. malley          (0.4640)\n",
      "   2. brien           (0.1186)\n",
      "   3. kong            (0.0807)\n",
      "   4. acid            (0.0541)\n",
      "   5. unk             (0.0349)\n",
      "   6. acids           (0.0252)\n",
      "   7. vegas           (0.0179)\n",
      "   8. intelligence    (0.0147)\n",
      "   9. márquez         (0.0140)\n",
      "  10. shara           (0.0132)\n",
      "\n",
      "📝 Complete sentence: 'Hello world! I am an AI, Who can save o offer'\n"
     ]
    },
    {
     "name": "stdout",
     "output_type": "stream",
     "text": [
      "\n",
      "Enter text:  Hello world! I am an AI, Who can save on\n"
     ]
    },
    {
     "name": "stdout",
     "output_type": "stream",
     "text": [
      "\n",
      "🔍 Analyzing: 'Hello world! I am an AI, Who can save on'\n",
      "🎯 Predicted next word: 'an'\n",
      "\n",
      "📊 Top 10 candidates:\n",
      "   1. the             (0.3911)\n",
      "   2. their           (0.0885)\n",
      "   3. a               (0.0861)\n",
      "   4. any             (0.0433)\n",
      "   5. them            (0.0273)\n",
      "   6. its             (0.0225)\n",
      "   7. how             (0.0185)\n",
      "   8. earth           (0.0175)\n",
      "   9. unk             (0.0164)\n",
      "  10. it              (0.0161)\n",
      "\n",
      "📝 Complete sentence: 'Hello world! I am an AI, Who can save on an'\n"
     ]
    },
    {
     "name": "stdout",
     "output_type": "stream",
     "text": [
      "\n",
      "Enter text:  Hello world! I am an AI, Who can save on an\n"
     ]
    },
    {
     "name": "stdout",
     "output_type": "stream",
     "text": [
      "\n",
      "🔍 Analyzing: 'Hello world! I am an AI, Who can save on an'\n",
      "🎯 Predicted next word: 'injury'\n",
      "\n",
      "📊 Top 10 candidates:\n",
      "   1. average         (0.1661)\n",
      "   2. adult           (0.0491)\n",
      "   3. air             (0.0469)\n",
      "   4. alternative     (0.0424)\n",
      "   5. hour            (0.0380)\n",
      "   6. alien           (0.0378)\n",
      "   7. unk             (0.0339)\n",
      "   8. attempt         (0.0321)\n",
      "   9. eye             (0.0292)\n",
      "  10. emotional       (0.0270)\n",
      "\n",
      "📝 Complete sentence: 'Hello world! I am an AI, Who can save on an injury'\n"
     ]
    },
    {
     "name": "stdout",
     "output_type": "stream",
     "text": [
      "\n",
      "Enter text:  Hundreds of thousands of\n"
     ]
    },
    {
     "name": "stdout",
     "output_type": "stream",
     "text": [
      "\n",
      "🔍 Analyzing: 'Hundreds of thousands of'\n",
      "🎯 Predicted next word: 'aircraft'\n",
      "\n",
      "📊 Top 10 candidates:\n",
      "   1. men             (0.0865)\n",
      "   2. aircraft        (0.0743)\n",
      "   3. unk             (0.0587)\n",
      "   4. dollars         (0.0540)\n",
      "   5. water           (0.0515)\n",
      "   6. people          (0.0484)\n",
      "   7. women           (0.0411)\n",
      "   8. thousands       (0.0338)\n",
      "   9. equipment       (0.0296)\n",
      "  10. birds           (0.0279)\n",
      "\n",
      "📝 Complete sentence: 'Hundreds of thousands of aircraft'\n"
     ]
    },
    {
     "name": "stdout",
     "output_type": "stream",
     "text": [
      "\n",
      "Enter text:  Hundreds of thousands of aircraft\n"
     ]
    },
    {
     "name": "stdout",
     "output_type": "stream",
     "text": [
      "\n",
      "🔍 Analyzing: 'Hundreds of thousands of aircraft'\n",
      "🎯 Predicted next word: 'aircraft'\n",
      "\n",
      "📊 Top 10 candidates:\n",
      "   1. and             (0.1315)\n",
      "   2. are             (0.0874)\n",
      "   3. in              (0.0748)\n",
      "   4. were            (0.0634)\n",
      "   5. from            (0.0377)\n",
      "   6. per             (0.0353)\n",
      "   7. the             (0.0328)\n",
      "   8. with            (0.0317)\n",
      "   9. can             (0.0263)\n",
      "  10. including       (0.0249)\n",
      "\n",
      "📝 Complete sentence: 'Hundreds of thousands of aircraft aircraft'\n"
     ]
    },
    {
     "name": "stdout",
     "output_type": "stream",
     "text": [
      "\n",
      "Enter text:  Hundreds of thousands of people\n"
     ]
    },
    {
     "name": "stdout",
     "output_type": "stream",
     "text": [
      "\n",
      "🔍 Analyzing: 'Hundreds of thousands of people'\n",
      "🎯 Predicted next word: 'caused'\n",
      "\n",
      "📊 Top 10 candidates:\n",
      "   1. are             (0.1147)\n",
      "   2. were            (0.1138)\n",
      "   3. and             (0.1099)\n",
      "   4. in              (0.1043)\n",
      "   5. of              (0.0441)\n",
      "   6. from            (0.0321)\n",
      "   7. the             (0.0255)\n",
      "   8. with            (0.0240)\n",
      "   9. who             (0.0230)\n",
      "  10. can             (0.0229)\n",
      "\n",
      "📝 Complete sentence: 'Hundreds of thousands of people caused'\n"
     ]
    },
    {
     "name": "stdout",
     "output_type": "stream",
     "text": [
      "\n",
      "Enter text:  News, features and analysis from\n"
     ]
    },
    {
     "name": "stdout",
     "output_type": "stream",
     "text": [
      "\n",
      "🔍 Analyzing: 'News, features and analysis from'\n",
      "🎯 Predicted next word: 'the'\n",
      "\n",
      "📊 Top 10 candidates:\n",
      "   1. the             (0.5477)\n",
      "   2. a               (0.1049)\n",
      "   3. their           (0.0521)\n",
      "   4. its             (0.0361)\n",
      "   5. other           (0.0278)\n",
      "   6. unk             (0.0276)\n",
      "   7. an              (0.0173)\n",
      "   8. this            (0.0163)\n",
      "   9. both            (0.0113)\n",
      "  10. all             (0.0105)\n",
      "\n",
      "📝 Complete sentence: 'News, features and analysis from the'\n"
     ]
    },
    {
     "name": "stdout",
     "output_type": "stream",
     "text": [
      "\n",
      "Enter text:  News, features and analysis from the\n"
     ]
    },
    {
     "name": "stdout",
     "output_type": "stream",
     "text": [
      "\n",
      "🔍 Analyzing: 'News, features and analysis from the'\n",
      "🎯 Predicted next word: 'olympic'\n",
      "\n",
      "📊 Top 10 candidates:\n",
      "   1. unk             (0.1007)\n",
      "   2. game            (0.0437)\n",
      "   3. process         (0.0434)\n",
      "   4. world           (0.0416)\n",
      "   5. same            (0.0402)\n",
      "   6. first           (0.0317)\n",
      "   7. air             (0.0252)\n",
      "   8. core            (0.0240)\n",
      "   9. project         (0.0236)\n",
      "  10. flight          (0.0234)\n",
      "\n",
      "📝 Complete sentence: 'News, features and analysis from the olympic'\n"
     ]
    },
    {
     "name": "stdout",
     "output_type": "stream",
     "text": [
      "\n",
      "🔍 Analyzing: 'Hello, world! I am Archer. What is your'\n",
      "🎯 Predicted next word: 'way'\n",
      "\n",
      "📊 Top 10 candidates:\n",
      "   1. unk             (0.3377)\n",
      "   2. first           (0.1444)\n",
      "   3. own             (0.0813)\n",
      "   4. love            (0.0381)\n",
      "   5. most            (0.0293)\n",
      "   6. best            (0.0262)\n",
      "   7. name            (0.0258)\n",
      "   8. use             (0.0219)\n",
      "   9. last            (0.0216)\n",
      "  10. great           (0.0179)\n",
      "\n",
      "📝 Complete sentence: 'Hello, world! I am Archer. What is your way'\n"
     ]
    },
    {
     "name": "stdout",
     "output_type": "stream",
     "text": [
      "\n",
      "Enter text:  He does not want to drink this\n"
     ]
    },
    {
     "name": "stdout",
     "output_type": "stream",
     "text": [
      "\n",
      "🔍 Analyzing: 'He does not want to drink this'\n",
      "🎯 Predicted next word: 'time'\n",
      "\n",
      "📊 Top 10 candidates:\n",
      "   1. unk             (0.1353)\n",
      "   2. with            (0.0529)\n",
      "   3. to              (0.0496)\n",
      "   4. as              (0.0481)\n",
      "   5. in              (0.0475)\n",
      "   6. work            (0.0421)\n",
      "   7. use             (0.0342)\n",
      "   8. other           (0.0289)\n",
      "   9. name            (0.0271)\n",
      "  10. time            (0.0265)\n",
      "\n",
      "📝 Complete sentence: 'He does not want to drink this time'\n"
     ]
    },
    {
     "name": "stdout",
     "output_type": "stream",
     "text": [
      "\n",
      "Enter text:  He does not like this kind of \n"
     ]
    },
    {
     "name": "stdout",
     "output_type": "stream",
     "text": [
      "\n",
      "🔍 Analyzing: 'He does not like this kind of'\n",
      "🎯 Predicted next word: 'two'\n",
      "\n",
      "📊 Top 10 candidates:\n",
      "   1. the             (0.1570)\n",
      "   2. their           (0.0626)\n",
      "   3. a               (0.0570)\n",
      "   4. his             (0.0422)\n",
      "   5. unk             (0.0353)\n",
      "   6. ireland         (0.0305)\n",
      "   7. interest        (0.0260)\n",
      "   8. all             (0.0240)\n",
      "   9. each            (0.0233)\n",
      "  10. those           (0.0233)\n",
      "\n",
      "📝 Complete sentence: 'He does not like this kind of two'\n"
     ]
    },
    {
     "name": "stdout",
     "output_type": "stream",
     "text": [
      "\n",
      "Enter text:  Hello\n"
     ]
    },
    {
     "name": "stdout",
     "output_type": "stream",
     "text": [
      "\n",
      "🔍 Analyzing: 'Hello'\n",
      "🎯 Predicted next word: 'and'\n",
      "\n",
      "📊 Top 10 candidates:\n",
      "   1. unk             (0.3862)\n",
      "   2. and             (0.3561)\n",
      "   3. the             (0.0491)\n",
      "   4. in              (0.0238)\n",
      "   5. were            (0.0133)\n",
      "   6. which           (0.0103)\n",
      "   7. of              (0.0087)\n",
      "   8. university      (0.0077)\n",
      "   9. a               (0.0076)\n",
      "  10. who             (0.0076)\n",
      "\n",
      "📝 Complete sentence: 'Hello and'\n"
     ]
    },
    {
     "name": "stdout",
     "output_type": "stream",
     "text": [
      "\n",
      "Enter text:  How are\n"
     ]
    },
    {
     "name": "stdout",
     "output_type": "stream",
     "text": [
      "\n",
      "🔍 Analyzing: 'How are'\n",
      "🎯 Predicted next word: 'found'\n",
      "\n",
      "📊 Top 10 candidates:\n",
      "   1. also            (0.0793)\n",
      "   2. the             (0.0764)\n",
      "   3. a               (0.0539)\n",
      "   4. not             (0.0448)\n",
      "   5. one             (0.0417)\n",
      "   6. used            (0.0397)\n",
      "   7. unk             (0.0294)\n",
      "   8. made            (0.0287)\n",
      "   9. called          (0.0266)\n",
      "  10. in              (0.0251)\n",
      "\n",
      "📝 Complete sentence: 'How are found'\n"
     ]
    },
    {
     "name": "stdout",
     "output_type": "stream",
     "text": [
      "\n",
      "Enter text:  How are you, fine\n"
     ]
    },
    {
     "name": "stdout",
     "output_type": "stream",
     "text": [
      "\n",
      "🔍 Analyzing: 'How are you, fine'\n",
      "🎯 Predicted next word: 'and'\n",
      "\n",
      "📊 Top 10 candidates:\n",
      "   1. and             (0.6350)\n",
      "   2. unk             (0.1204)\n",
      "   3. the             (0.0433)\n",
      "   4. in              (0.0298)\n",
      "   5. with            (0.0241)\n",
      "   6. as              (0.0140)\n",
      "   7. to              (0.0128)\n",
      "   8. for             (0.0088)\n",
      "   9. or              (0.0087)\n",
      "  10. life            (0.0059)\n",
      "\n",
      "📝 Complete sentence: 'How are you, fine and'\n"
     ]
    },
    {
     "name": "stdout",
     "output_type": "stream",
     "text": [
      "\n",
      "Enter text:  How are you, find and\n"
     ]
    },
    {
     "name": "stdout",
     "output_type": "stream",
     "text": [
      "\n",
      "🔍 Analyzing: 'How are you, find and'\n",
      "🎯 Predicted next word: 'unk'\n",
      "\n",
      "📊 Top 10 candidates:\n",
      "   1. the             (0.1755)\n",
      "   2. a               (0.0967)\n",
      "   3. unk             (0.0864)\n",
      "   4. that            (0.0842)\n",
      "   5. as              (0.0489)\n",
      "   6. their           (0.0350)\n",
      "   7. by              (0.0348)\n",
      "   8. in              (0.0306)\n",
      "   9. for             (0.0229)\n",
      "  10. to              (0.0229)\n",
      "\n",
      "📝 Complete sentence: 'How are you, find and unk'\n"
     ]
    },
    {
     "name": "stdout",
     "output_type": "stream",
     "text": [
      "\n",
      "Enter text:  How are you, fine and\n"
     ]
    },
    {
     "name": "stdout",
     "output_type": "stream",
     "text": [
      "\n",
      "🔍 Analyzing: 'How are you, fine and'\n",
      "🎯 Predicted next word: 'the'\n",
      "\n",
      "📊 Top 10 candidates:\n",
      "   1. unk             (0.3697)\n",
      "   2. the             (0.2034)\n",
      "   3. other           (0.0370)\n",
      "   4. a               (0.0316)\n",
      "   5. was             (0.0235)\n",
      "   6. is              (0.0154)\n",
      "   7. and             (0.0153)\n",
      "   8. others          (0.0151)\n",
      "   9. in              (0.0133)\n",
      "  10. it              (0.0130)\n",
      "\n",
      "📝 Complete sentence: 'How are you, fine and the'\n"
     ]
    },
    {
     "name": "stdout",
     "output_type": "stream",
     "text": [
      "\n",
      "Enter text:  How are you, find and thank\n"
     ]
    },
    {
     "name": "stdout",
     "output_type": "stream",
     "text": [
      "\n",
      "🔍 Analyzing: 'How are you, find and thank'\n",
      "🎯 Predicted next word: 'when'\n",
      "\n",
      "📊 Top 10 candidates:\n",
      "   1. the             (0.1869)\n",
      "   2. by              (0.1784)\n",
      "   3. for             (0.0763)\n",
      "   4. a               (0.0529)\n",
      "   5. unk             (0.0462)\n",
      "   6. and             (0.0384)\n",
      "   7. in              (0.0366)\n",
      "   8. as              (0.0358)\n",
      "   9. to              (0.0271)\n",
      "  10. that            (0.0182)\n",
      "\n",
      "📝 Complete sentence: 'How are you, find and thank when'\n"
     ]
    },
    {
     "name": "stdout",
     "output_type": "stream",
     "text": [
      "\n",
      "Enter text:  How are you, fine and thank\n"
     ]
    },
    {
     "name": "stdout",
     "output_type": "stream",
     "text": [
      "\n",
      "🔍 Analyzing: 'How are you, fine and thank'\n",
      "🎯 Predicted next word: 'richard'\n",
      "\n",
      "📊 Top 10 candidates:\n",
      "   1. by              (0.1482)\n",
      "   2. the             (0.1446)\n",
      "   3. unk             (0.1255)\n",
      "   4. for             (0.0554)\n",
      "   5. and             (0.0469)\n",
      "   6. a               (0.0303)\n",
      "   7. in              (0.0259)\n",
      "   8. john            (0.0249)\n",
      "   9. it              (0.0236)\n",
      "  10. as              (0.0173)\n",
      "\n",
      "📝 Complete sentence: 'How are you, fine and thank richard'\n"
     ]
    },
    {
     "name": "stdout",
     "output_type": "stream",
     "text": [
      "\n",
      "Enter text:  How are you, fine and thank you.\n"
     ]
    },
    {
     "name": "stdout",
     "output_type": "stream",
     "text": [
      "\n",
      "🔍 Analyzing: 'How are you, fine and thank you.'\n",
      "🎯 Predicted next word: 'think'\n",
      "\n",
      "📊 Top 10 candidates:\n",
      "   1. have            (0.1389)\n",
      "   2. are             (0.0899)\n",
      "   3. and             (0.0662)\n",
      "   4. unk             (0.0654)\n",
      "   5. re              (0.0547)\n",
      "   6. were            (0.0524)\n",
      "   7. to              (0.0382)\n",
      "   8. was             (0.0378)\n",
      "   9. can             (0.0375)\n",
      "  10. had             (0.0271)\n",
      "\n",
      "📝 Complete sentence: 'How are you, fine and thank you. think'\n"
     ]
    }
   ],
   "source": [
    "# Test the trained model\n",
    "\n",
    "# Text Generation and Next Word Prediction\n",
    "\n",
    "import torch\n",
    "import torch.nn.functional as F\n",
    "\n",
    "def predict_next_word(model, input_text, vocab, idx_to_word, device, temperature=1.0, top_k=None):\n",
    "    \"\"\"\n",
    "    Predict the next word given an input text\n",
    "    \n",
    "    Args:\n",
    "        model: Trained GRU model\n",
    "        input_text: Input sentence as string\n",
    "        vocab: Vocabulary dictionary\n",
    "        idx_to_word: Index to word mapping\n",
    "        device: Device to run inference on\n",
    "        temperature: Sampling temperature (higher = more random)\n",
    "        top_k: If specified, only sample from top k most likely tokens\n",
    "    \n",
    "    Returns:\n",
    "        predicted_word: The predicted next word\n",
    "        probabilities: Top 10 word probabilities\n",
    "    \"\"\"\n",
    "    model.eval()\n",
    "    \n",
    "    with torch.no_grad():\n",
    "        # Tokenize input text\n",
    "        tokens = basic_tokenize(input_text)\n",
    "        if len(tokens) == 0:\n",
    "            return \"<unk>\", []\n",
    "        \n",
    "        # Convert to indices\n",
    "        indices = [vocab.get(token, vocab['<unk>']) for token in tokens]\n",
    "        \n",
    "        # Pad or truncate to sequence length (50)\n",
    "        sequence_length = 50\n",
    "        if len(indices) < sequence_length:\n",
    "            # Pad with <pad> tokens at the beginning\n",
    "            indices = [vocab['<pad>']] * (sequence_length - len(indices)) + indices\n",
    "        else:\n",
    "            # Take the last 50 tokens\n",
    "            indices = indices[-sequence_length:]\n",
    "        \n",
    "        # Convert to tensor\n",
    "        input_tensor = torch.tensor([indices], dtype=torch.long).to(device)  # [1, seq_len]\n",
    "        \n",
    "        # Forward pass\n",
    "        logits, hidden = model(input_tensor)\n",
    "        \n",
    "        # Get logits for the last token\n",
    "        last_logits = logits[0, -1, :]  # [vocab_size]\n",
    "        \n",
    "        # Apply temperature\n",
    "        if temperature != 1.0:\n",
    "            last_logits = last_logits / temperature\n",
    "        \n",
    "        # Apply top-k filtering if specified\n",
    "        if top_k is not None:\n",
    "            top_k = min(top_k, last_logits.size(-1))\n",
    "            top_k_logits, top_k_indices = torch.topk(last_logits, top_k)\n",
    "            # Set all other logits to negative infinity\n",
    "            filtered_logits = torch.full_like(last_logits, float('-inf'))\n",
    "            filtered_logits[top_k_indices] = top_k_logits\n",
    "            last_logits = filtered_logits\n",
    "        \n",
    "        # Convert to probabilities\n",
    "        probabilities = F.softmax(last_logits, dim=-1)\n",
    "        \n",
    "        # Get top 10 predictions for display\n",
    "        top_probs, top_indices = torch.topk(probabilities, 10)\n",
    "        top_words = [(idx_to_word[idx.item()], prob.item()) for idx, prob in zip(top_indices, top_probs)]\n",
    "        \n",
    "        # Sample from the distribution\n",
    "        predicted_idx = torch.multinomial(probabilities, 1).item()\n",
    "        predicted_word = idx_to_word[predicted_idx]\n",
    "        \n",
    "        return predicted_word, top_words\n",
    "\n",
    "def generate_text(model, seed_text, vocab, idx_to_word, device, num_words=10, temperature=1.0, top_k=50):\n",
    "    \"\"\"\n",
    "    Generate multiple words continuing from seed text\n",
    "    \n",
    "    Args:\n",
    "        model: Trained GRU model\n",
    "        seed_text: Starting text\n",
    "        vocab: Vocabulary dictionary\n",
    "        idx_to_word: Index to word mapping\n",
    "        device: Device to run inference on\n",
    "        num_words: Number of words to generate\n",
    "        temperature: Sampling temperature\n",
    "        top_k: Top-k sampling parameter\n",
    "    \n",
    "    Returns:\n",
    "        generated_text: Complete generated text\n",
    "    \"\"\"\n",
    "    model.eval()\n",
    "    \n",
    "    current_text = seed_text\n",
    "    generated_words = []\n",
    "    \n",
    "    print(f\"Seed text: '{seed_text}'\")\n",
    "    print(\"Generating words:\")\n",
    "    \n",
    "    for i in range(num_words):\n",
    "        predicted_word, top_words = predict_next_word(\n",
    "            model, current_text, vocab, idx_to_word, device, temperature, top_k\n",
    "        )\n",
    "        \n",
    "        # Skip special tokens\n",
    "        if predicted_word in ['<unk>', '<pad>']:\n",
    "            predicted_word = top_words[1][0] if len(top_words) > 1 else \"the\"\n",
    "        \n",
    "        generated_words.append(predicted_word)\n",
    "        current_text += \" \" + predicted_word\n",
    "        \n",
    "        print(f\"  {i+1}. {predicted_word} (top candidates: {[w[0] for w in top_words[:3]]})\")\n",
    "    \n",
    "    generated_text = seed_text + \" \" + \" \".join(generated_words)\n",
    "    return generated_text\n",
    "\n",
    "def interactive_prediction(model, vocab, idx_to_word, device):\n",
    "    \"\"\"\n",
    "    Interactive mode for testing the model\n",
    "    \"\"\"\n",
    "    print(\"\\n🤖 Interactive Text Prediction Mode\")\n",
    "    print(\"Enter a sentence and I'll predict the next word!\")\n",
    "    print(\"Type 'quit' to exit, 'generate' to generate multiple words\")\n",
    "    print(\"-\" * 60)\n",
    "    \n",
    "    while True:\n",
    "        user_input = input(\"\\nEnter text: \").strip()\n",
    "        \n",
    "        if user_input.lower() == 'quit':\n",
    "            print(\"Goodbye! 👋\")\n",
    "            break\n",
    "        \n",
    "        if user_input.lower() == 'generate':\n",
    "            seed_text = input(\"Enter seed text for generation: \").strip()\n",
    "            if seed_text:\n",
    "                num_words = int(input(\"How many words to generate? (default 10): \") or \"10\")\n",
    "                temperature = float(input(\"Temperature (0.1-2.0, default 1.0): \") or \"1.0\")\n",
    "                \n",
    "                print(f\"\\n🎯 Generating {num_words} words...\")\n",
    "                generated = generate_text(model, seed_text, vocab, idx_to_word, device, \n",
    "                                        num_words=num_words, temperature=temperature, top_k=50)\n",
    "                print(f\"\\n📝 Complete text: '{generated}'\")\n",
    "            continue\n",
    "        \n",
    "        if user_input:\n",
    "            print(f\"\\n🔍 Analyzing: '{user_input}'\")\n",
    "            \n",
    "            # Predict next word\n",
    "            predicted_word, top_words = predict_next_word(\n",
    "                model, user_input, vocab, idx_to_word, device, temperature=1.0, top_k=50\n",
    "            )\n",
    "            \n",
    "            print(f\"🎯 Predicted next word: '{predicted_word}'\")\n",
    "            print(f\"\\n📊 Top 10 candidates:\")\n",
    "            for i, (word, prob) in enumerate(top_words, 1):\n",
    "                print(f\"  {i:2d}. {word:<15} ({prob:.4f})\")\n",
    "            \n",
    "            # Show the complete sentence\n",
    "            complete_sentence = user_input + \" \" + predicted_word\n",
    "            print(f\"\\n📝 Complete sentence: '{complete_sentence}'\")\n",
    "\n",
    "# Test the model with some examples\n",
    "print(\"🧪 Testing the trained GRU model...\")\n",
    "\n",
    "# Example sentences to test\n",
    "test_sentences = [\n",
    "    \"The cat sat on the\",\n",
    "    \"I love to eat\",\n",
    "    \"The weather today is\",\n",
    "    \"Machine learning is\",\n",
    "    \"In the future we will\",\n",
    "    \"The president of the United\",\n",
    "    \"Scientists have discovered a new\",\n",
    "    \"The book was very\"\n",
    "]\n",
    "\n",
    "print(\"\\n📋 Testing with example sentences:\")\n",
    "print(\"=\" * 60)\n",
    "\n",
    "for i, sentence in enumerate(test_sentences, 1):\n",
    "    print(f\"\\n{i}. Input: '{sentence}'\")\n",
    "    \n",
    "    predicted_word, top_words = predict_next_word(\n",
    "        model, sentence, vocab, idx_to_word, device, temperature=0.8, top_k=50\n",
    "    )\n",
    "    \n",
    "    print(f\"   Predicted: '{predicted_word}'\")\n",
    "    print(f\"   Top 3: {[w[0] for w in top_words[:3]]}\")\n",
    "    print(f\"   Complete: '{sentence} {predicted_word}'\")\n",
    "\n",
    "# Start interactive mode\n",
    "interactive_prediction(model, vocab, idx_to_word, device)"
   ]
  },
  {
   "cell_type": "code",
   "execution_count": null,
   "metadata": {},
   "outputs": [],
   "source": []
  }
 ],
 "metadata": {
  "kernelspec": {
   "display_name": "Python 3 (ipykernel)",
   "language": "python",
   "name": "python3"
  },
  "language_info": {
   "codemirror_mode": {
    "name": "ipython",
    "version": 3
   },
   "file_extension": ".py",
   "mimetype": "text/x-python",
   "name": "python",
   "nbconvert_exporter": "python",
   "pygments_lexer": "ipython3",
   "version": "3.10.12"
  }
 },
 "nbformat": 4,
 "nbformat_minor": 4
}
